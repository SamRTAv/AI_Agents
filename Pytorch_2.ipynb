{
  "nbformat": 4,
  "nbformat_minor": 0,
  "metadata": {
    "colab": {
      "provenance": [],
      "gpuType": "T4"
    },
    "kernelspec": {
      "name": "python3",
      "display_name": "Python 3"
    },
    "language_info": {
      "name": "python"
    },
    "accelerator": "GPU"
  },
  "cells": [
    {
      "cell_type": "code",
      "execution_count": null,
      "metadata": {
        "colab": {
          "base_uri": "https://localhost:8080/"
        },
        "id": "qXmas8PE8xNY",
        "outputId": "324dd9d6-9470-4e95-a7e9-fdc304066752"
      },
      "outputs": [
        {
          "output_type": "stream",
          "name": "stdout",
          "text": [
            "2.6.0+cu124\n",
            "True\n",
            "1\n",
            "0\n",
            "Tesla T4\n"
          ]
        }
      ],
      "source": [
        "import torch\n",
        "print(torch.__version__)\n",
        "print(torch.cuda.is_available())\n",
        "print(torch.cuda.device_count())\n",
        "print(torch.cuda.current_device())\n",
        "print(torch.cuda.get_device_name(0))"
      ]
    },
    {
      "cell_type": "code",
      "source": [],
      "metadata": {
        "id": "-TIt6k4o9JNo"
      },
      "execution_count": null,
      "outputs": []
    },
    {
      "cell_type": "markdown",
      "source": [
        "##Creating Tensors\n"
      ],
      "metadata": {
        "id": "ovPRKf-j9W3n"
      }
    },
    {
      "cell_type": "code",
      "source": [
        "a = torch.empty(2,3)"
      ],
      "metadata": {
        "id": "xk7eJcYg9Yu_"
      },
      "execution_count": null,
      "outputs": []
    },
    {
      "cell_type": "code",
      "source": [
        "type(a)"
      ],
      "metadata": {
        "colab": {
          "base_uri": "https://localhost:8080/"
        },
        "id": "Z-Hn_dHk9b8_",
        "outputId": "3f6d63a6-a061-48e3-cf4d-bab8e8b6c1e2"
      },
      "execution_count": null,
      "outputs": [
        {
          "output_type": "execute_result",
          "data": {
            "text/plain": [
              "torch.Tensor"
            ]
          },
          "metadata": {},
          "execution_count": 6
        }
      ]
    },
    {
      "cell_type": "code",
      "source": [
        "torch.zeros(2,3)"
      ],
      "metadata": {
        "colab": {
          "base_uri": "https://localhost:8080/"
        },
        "id": "10Yv7ip-9iqT",
        "outputId": "1f95e61f-554f-4cf9-d928-a69464b0f651"
      },
      "execution_count": null,
      "outputs": [
        {
          "output_type": "execute_result",
          "data": {
            "text/plain": [
              "tensor([[0., 0., 0.],\n",
              "        [0., 0., 0.]])"
            ]
          },
          "metadata": {},
          "execution_count": 7
        }
      ]
    },
    {
      "cell_type": "code",
      "source": [
        "torch.ones(2,3)"
      ],
      "metadata": {
        "colab": {
          "base_uri": "https://localhost:8080/"
        },
        "id": "PPg9Q9ky9k7O",
        "outputId": "1c460db6-f1e1-497e-f0b8-0b8be8ff2d06"
      },
      "execution_count": null,
      "outputs": [
        {
          "output_type": "execute_result",
          "data": {
            "text/plain": [
              "tensor([[1., 1., 1.],\n",
              "        [1., 1., 1.]])"
            ]
          },
          "metadata": {},
          "execution_count": 8
        }
      ]
    },
    {
      "cell_type": "code",
      "source": [
        "torch.rand(2,3) #creating tensor and values random between 0 to 1"
      ],
      "metadata": {
        "colab": {
          "base_uri": "https://localhost:8080/"
        },
        "id": "fWj7sdi19nHb",
        "outputId": "57361a58-08ca-4c7e-be13-f7ac2226cd03"
      },
      "execution_count": null,
      "outputs": [
        {
          "output_type": "execute_result",
          "data": {
            "text/plain": [
              "tensor([[0.3756, 0.0763, 0.7036],\n",
              "        [0.5782, 0.5777, 0.4765]])"
            ]
          },
          "metadata": {},
          "execution_count": 11
        }
      ]
    },
    {
      "cell_type": "code",
      "source": [
        "torch.manual_seed(100)\n",
        "torch.rand(3,3)"
      ],
      "metadata": {
        "colab": {
          "base_uri": "https://localhost:8080/"
        },
        "id": "9mZ1BSC99odS",
        "outputId": "4cfd85b2-5ec8-4e96-8f6f-44a425207f0d"
      },
      "execution_count": null,
      "outputs": [
        {
          "output_type": "execute_result",
          "data": {
            "text/plain": [
              "tensor([[0.1117, 0.8158, 0.2626],\n",
              "        [0.4839, 0.6765, 0.7539],\n",
              "        [0.2627, 0.0428, 0.2080]])"
            ]
          },
          "metadata": {},
          "execution_count": 14
        }
      ]
    },
    {
      "cell_type": "code",
      "source": [
        "torch.tensor([[1,2,3],[4,5,6\n",
        "]])"
      ],
      "metadata": {
        "colab": {
          "base_uri": "https://localhost:8080/"
        },
        "id": "E1ssPQgv91k8",
        "outputId": "eea99738-5aac-49e4-c5d5-251eb86769c7"
      },
      "execution_count": null,
      "outputs": [
        {
          "output_type": "execute_result",
          "data": {
            "text/plain": [
              "tensor([[1, 2, 3],\n",
              "        [4, 5, 6]])"
            ]
          },
          "metadata": {},
          "execution_count": 15
        }
      ]
    },
    {
      "cell_type": "code",
      "source": [],
      "metadata": {
        "id": "8DSoVEFT977p"
      },
      "execution_count": null,
      "outputs": []
    },
    {
      "cell_type": "markdown",
      "source": [
        "##Tensor shape"
      ],
      "metadata": {
        "id": "RuVnPGpX-UlD"
      }
    },
    {
      "cell_type": "code",
      "source": [
        "x = torch.tensor([[1,2,3],[4,5,6]])\n",
        "x.shape"
      ],
      "metadata": {
        "colab": {
          "base_uri": "https://localhost:8080/"
        },
        "id": "M8s803oq-Vkn",
        "outputId": "edc35fc1-4d19-4a0c-e4d0-9c84684d1a64"
      },
      "execution_count": null,
      "outputs": [
        {
          "output_type": "execute_result",
          "data": {
            "text/plain": [
              "torch.Size([2, 3])"
            ]
          },
          "metadata": {},
          "execution_count": 18
        }
      ]
    },
    {
      "cell_type": "code",
      "source": [
        "torch.empty_like(x) #similarly empty_like, zeros_like, ones_like"
      ],
      "metadata": {
        "colab": {
          "base_uri": "https://localhost:8080/"
        },
        "id": "hzwzFYMh-bDL",
        "outputId": "9aa1f7c4-d3f8-4a1c-ff94-a695c33f6013"
      },
      "execution_count": null,
      "outputs": [
        {
          "output_type": "execute_result",
          "data": {
            "text/plain": [
              "tensor([[3616445622929465956, 6066683143785557301, 3617861858615767089],\n",
              "        [6500720890701232174, 7309453675965983778, 8315168162784306286]])"
            ]
          },
          "metadata": {},
          "execution_count": 19
        }
      ]
    },
    {
      "cell_type": "markdown",
      "source": [
        "##Tensor datatypes"
      ],
      "metadata": {
        "id": "Y_Xc_Fol-0Ac"
      }
    },
    {
      "cell_type": "code",
      "source": [
        "x.dtype"
      ],
      "metadata": {
        "colab": {
          "base_uri": "https://localhost:8080/"
        },
        "id": "caOXfnmR-l1E",
        "outputId": "5f26c96f-a526-4568-e6d2-d0d7b4664d3c"
      },
      "execution_count": null,
      "outputs": [
        {
          "output_type": "execute_result",
          "data": {
            "text/plain": [
              "torch.int64"
            ]
          },
          "metadata": {},
          "execution_count": 20
        }
      ]
    },
    {
      "cell_type": "code",
      "source": [
        "torch.tensor([1.2,3.3,4,4.4],dtype = torch.float64)"
      ],
      "metadata": {
        "colab": {
          "base_uri": "https://localhost:8080/"
        },
        "id": "WLo8uGDZ-2lJ",
        "outputId": "a294c9cd-d7c8-4cea-9c0b-6058e7acba8c"
      },
      "execution_count": null,
      "outputs": [
        {
          "output_type": "execute_result",
          "data": {
            "text/plain": [
              "tensor([1.2000, 3.3000, 4.0000, 4.4000], dtype=torch.float64)"
            ]
          },
          "metadata": {},
          "execution_count": 24
        }
      ]
    },
    {
      "cell_type": "code",
      "source": [
        "torch.cuda.is_available()"
      ],
      "metadata": {
        "colab": {
          "base_uri": "https://localhost:8080/"
        },
        "id": "PvF15has-_xC",
        "outputId": "6fdd3ebc-fca6-4e02-ed20-65d1e6022c97"
      },
      "execution_count": null,
      "outputs": [
        {
          "output_type": "execute_result",
          "data": {
            "text/plain": [
              "True"
            ]
          },
          "metadata": {},
          "execution_count": 25
        }
      ]
    },
    {
      "cell_type": "code",
      "source": [
        "device = torch.device('cuda')"
      ],
      "metadata": {
        "id": "ZCmGSpANCSyW"
      },
      "execution_count": null,
      "outputs": []
    },
    {
      "cell_type": "code",
      "source": [
        "torch.rand((2,3),device = device)"
      ],
      "metadata": {
        "colab": {
          "base_uri": "https://localhost:8080/"
        },
        "id": "FkSjP_ooCVAe",
        "outputId": "1cd5e5c1-8ebd-4b9d-c826-410e6c041a08"
      },
      "execution_count": null,
      "outputs": [
        {
          "output_type": "execute_result",
          "data": {
            "text/plain": [
              "tensor([[0.3563, 0.0303, 0.7088],\n",
              "        [0.2009, 0.0224, 0.9896]], device='cuda:0')"
            ]
          },
          "metadata": {},
          "execution_count": 27
        }
      ]
    },
    {
      "cell_type": "code",
      "source": [
        "a = torch.rand(2,3)\n",
        "a"
      ],
      "metadata": {
        "colab": {
          "base_uri": "https://localhost:8080/"
        },
        "id": "407zkdLSCY_s",
        "outputId": "cdae1663-c4f2-49b1-99d5-afbff3e52f36"
      },
      "execution_count": null,
      "outputs": [
        {
          "output_type": "execute_result",
          "data": {
            "text/plain": [
              "tensor([[0.9014, 0.9969, 0.7565],\n",
              "        [0.2239, 0.3023, 0.1784]])"
            ]
          },
          "metadata": {},
          "execution_count": 29
        }
      ]
    },
    {
      "cell_type": "code",
      "source": [
        "b = a.to(device)\n",
        "b"
      ],
      "metadata": {
        "colab": {
          "base_uri": "https://localhost:8080/"
        },
        "id": "4Z8JBxEJCeGc",
        "outputId": "46ff40b5-357c-4220-a78b-6912bfd4f54e"
      },
      "execution_count": null,
      "outputs": [
        {
          "output_type": "execute_result",
          "data": {
            "text/plain": [
              "tensor([[0.9014, 0.9969, 0.7565],\n",
              "        [0.2239, 0.3023, 0.1784]], device='cuda:0')"
            ]
          },
          "metadata": {},
          "execution_count": 31
        }
      ]
    },
    {
      "cell_type": "code",
      "source": [],
      "metadata": {
        "id": "fOJOQxi6CiEu"
      },
      "execution_count": null,
      "outputs": []
    },
    {
      "cell_type": "markdown",
      "source": [
        "###Autograd - for automatic differentiation\n"
      ],
      "metadata": {
        "id": "Wv1sCav6L_K5"
      }
    },
    {
      "cell_type": "code",
      "source": [
        "import torch"
      ],
      "metadata": {
        "id": "FQwaKClaMC7I"
      },
      "execution_count": null,
      "outputs": []
    },
    {
      "cell_type": "code",
      "source": [
        "x = torch.tensor(3.0,requires_grad=True)"
      ],
      "metadata": {
        "id": "Meipw6UFMJXD"
      },
      "execution_count": null,
      "outputs": []
    },
    {
      "cell_type": "code",
      "source": [
        "y = x**2"
      ],
      "metadata": {
        "id": "MbqYtOTNM4lt"
      },
      "execution_count": null,
      "outputs": []
    },
    {
      "cell_type": "code",
      "source": [
        "x"
      ],
      "metadata": {
        "colab": {
          "base_uri": "https://localhost:8080/"
        },
        "id": "Bf_m-9q7M5-S",
        "outputId": "682b9adf-052c-468b-df31-5387adcfa7eb"
      },
      "execution_count": null,
      "outputs": [
        {
          "output_type": "execute_result",
          "data": {
            "text/plain": [
              "tensor(3., requires_grad=True)"
            ]
          },
          "metadata": {},
          "execution_count": 7
        }
      ]
    },
    {
      "cell_type": "code",
      "source": [
        "y"
      ],
      "metadata": {
        "colab": {
          "base_uri": "https://localhost:8080/"
        },
        "id": "HYwo0TqjM7Fu",
        "outputId": "8b368b1c-e6aa-470e-9320-c787b1cde3e5"
      },
      "execution_count": null,
      "outputs": [
        {
          "output_type": "execute_result",
          "data": {
            "text/plain": [
              "tensor(9., grad_fn=<PowBackward0>)"
            ]
          },
          "metadata": {},
          "execution_count": 8
        }
      ]
    },
    {
      "cell_type": "code",
      "source": [
        " y.backward()"
      ],
      "metadata": {
        "id": "lzjzOqRlM7Tn"
      },
      "execution_count": null,
      "outputs": []
    },
    {
      "cell_type": "code",
      "source": [
        "print(x.grad)"
      ],
      "metadata": {
        "colab": {
          "base_uri": "https://localhost:8080/"
        },
        "id": "1_TGvoXpNQYm",
        "outputId": "7fc08d78-6f78-4416-942a-0dd4a37460a4"
      },
      "execution_count": null,
      "outputs": [
        {
          "output_type": "stream",
          "name": "stdout",
          "text": [
            "tensor(6.)\n"
          ]
        }
      ]
    },
    {
      "cell_type": "code",
      "source": [],
      "metadata": {
        "id": "hE_tH6FvNUsf"
      },
      "execution_count": null,
      "outputs": []
    },
    {
      "cell_type": "markdown",
      "source": [
        "##Pipelines\n",
        "####We'll build a nerual netowrk - simple one - working on real dataset\n",
        "####We'll include manual events"
      ],
      "metadata": {
        "id": "3QaiEEbMbKLn"
      }
    },
    {
      "cell_type": "code",
      "source": [
        "import numpy as np\n",
        "import pandas as pd\n",
        "import torch\n",
        "from sklearn.model_selection import train_test_split\n",
        "from sklearn.preprocessing import StandardScaler\n",
        "from sklearn.preprocessing import LabelEncoder"
      ],
      "metadata": {
        "id": "CovRbmV-bMWX"
      },
      "execution_count": null,
      "outputs": []
    },
    {
      "cell_type": "code",
      "source": [
        "df = pd.read_csv('https://raw.githubusercontent.com/gscdit/Breast-Cancer-Detection/refs/heads/master/data.csv')\n",
        "df.head()"
      ],
      "metadata": {
        "colab": {
          "base_uri": "https://localhost:8080/",
          "height": 243
        },
        "id": "knAP5sVLdQzX",
        "outputId": "9674725a-3dfd-49f1-bf1d-9a22d685982c"
      },
      "execution_count": null,
      "outputs": [
        {
          "output_type": "execute_result",
          "data": {
            "text/plain": [
              "         id diagnosis  ...  fractal_dimension_worst  Unnamed: 32\n",
              "0    842302         M  ...                  0.11890          NaN\n",
              "1    842517         M  ...                  0.08902          NaN\n",
              "2  84300903         M  ...                  0.08758          NaN\n",
              "3  84348301         M  ...                  0.17300          NaN\n",
              "4  84358402         M  ...                  0.07678          NaN\n",
              "\n",
              "[5 rows x 33 columns]"
            ],
            "text/html": [
              "\n",
              "  <div id=\"df-2d2c4857-9860-4e94-98df-540914a37111\" class=\"colab-df-container\">\n",
              "    <div>\n",
              "<style scoped>\n",
              "    .dataframe tbody tr th:only-of-type {\n",
              "        vertical-align: middle;\n",
              "    }\n",
              "\n",
              "    .dataframe tbody tr th {\n",
              "        vertical-align: top;\n",
              "    }\n",
              "\n",
              "    .dataframe thead th {\n",
              "        text-align: right;\n",
              "    }\n",
              "</style>\n",
              "<table border=\"1\" class=\"dataframe\">\n",
              "  <thead>\n",
              "    <tr style=\"text-align: right;\">\n",
              "      <th></th>\n",
              "      <th>id</th>\n",
              "      <th>diagnosis</th>\n",
              "      <th>radius_mean</th>\n",
              "      <th>texture_mean</th>\n",
              "      <th>perimeter_mean</th>\n",
              "      <th>area_mean</th>\n",
              "      <th>smoothness_mean</th>\n",
              "      <th>compactness_mean</th>\n",
              "      <th>concavity_mean</th>\n",
              "      <th>concave points_mean</th>\n",
              "      <th>symmetry_mean</th>\n",
              "      <th>fractal_dimension_mean</th>\n",
              "      <th>radius_se</th>\n",
              "      <th>texture_se</th>\n",
              "      <th>perimeter_se</th>\n",
              "      <th>area_se</th>\n",
              "      <th>smoothness_se</th>\n",
              "      <th>compactness_se</th>\n",
              "      <th>concavity_se</th>\n",
              "      <th>concave points_se</th>\n",
              "      <th>symmetry_se</th>\n",
              "      <th>fractal_dimension_se</th>\n",
              "      <th>radius_worst</th>\n",
              "      <th>texture_worst</th>\n",
              "      <th>perimeter_worst</th>\n",
              "      <th>area_worst</th>\n",
              "      <th>smoothness_worst</th>\n",
              "      <th>compactness_worst</th>\n",
              "      <th>concavity_worst</th>\n",
              "      <th>concave points_worst</th>\n",
              "      <th>symmetry_worst</th>\n",
              "      <th>fractal_dimension_worst</th>\n",
              "      <th>Unnamed: 32</th>\n",
              "    </tr>\n",
              "  </thead>\n",
              "  <tbody>\n",
              "    <tr>\n",
              "      <th>0</th>\n",
              "      <td>842302</td>\n",
              "      <td>M</td>\n",
              "      <td>17.99</td>\n",
              "      <td>10.38</td>\n",
              "      <td>122.80</td>\n",
              "      <td>1001.0</td>\n",
              "      <td>0.11840</td>\n",
              "      <td>0.27760</td>\n",
              "      <td>0.3001</td>\n",
              "      <td>0.14710</td>\n",
              "      <td>0.2419</td>\n",
              "      <td>0.07871</td>\n",
              "      <td>1.0950</td>\n",
              "      <td>0.9053</td>\n",
              "      <td>8.589</td>\n",
              "      <td>153.40</td>\n",
              "      <td>0.006399</td>\n",
              "      <td>0.04904</td>\n",
              "      <td>0.05373</td>\n",
              "      <td>0.01587</td>\n",
              "      <td>0.03003</td>\n",
              "      <td>0.006193</td>\n",
              "      <td>25.38</td>\n",
              "      <td>17.33</td>\n",
              "      <td>184.60</td>\n",
              "      <td>2019.0</td>\n",
              "      <td>0.1622</td>\n",
              "      <td>0.6656</td>\n",
              "      <td>0.7119</td>\n",
              "      <td>0.2654</td>\n",
              "      <td>0.4601</td>\n",
              "      <td>0.11890</td>\n",
              "      <td>NaN</td>\n",
              "    </tr>\n",
              "    <tr>\n",
              "      <th>1</th>\n",
              "      <td>842517</td>\n",
              "      <td>M</td>\n",
              "      <td>20.57</td>\n",
              "      <td>17.77</td>\n",
              "      <td>132.90</td>\n",
              "      <td>1326.0</td>\n",
              "      <td>0.08474</td>\n",
              "      <td>0.07864</td>\n",
              "      <td>0.0869</td>\n",
              "      <td>0.07017</td>\n",
              "      <td>0.1812</td>\n",
              "      <td>0.05667</td>\n",
              "      <td>0.5435</td>\n",
              "      <td>0.7339</td>\n",
              "      <td>3.398</td>\n",
              "      <td>74.08</td>\n",
              "      <td>0.005225</td>\n",
              "      <td>0.01308</td>\n",
              "      <td>0.01860</td>\n",
              "      <td>0.01340</td>\n",
              "      <td>0.01389</td>\n",
              "      <td>0.003532</td>\n",
              "      <td>24.99</td>\n",
              "      <td>23.41</td>\n",
              "      <td>158.80</td>\n",
              "      <td>1956.0</td>\n",
              "      <td>0.1238</td>\n",
              "      <td>0.1866</td>\n",
              "      <td>0.2416</td>\n",
              "      <td>0.1860</td>\n",
              "      <td>0.2750</td>\n",
              "      <td>0.08902</td>\n",
              "      <td>NaN</td>\n",
              "    </tr>\n",
              "    <tr>\n",
              "      <th>2</th>\n",
              "      <td>84300903</td>\n",
              "      <td>M</td>\n",
              "      <td>19.69</td>\n",
              "      <td>21.25</td>\n",
              "      <td>130.00</td>\n",
              "      <td>1203.0</td>\n",
              "      <td>0.10960</td>\n",
              "      <td>0.15990</td>\n",
              "      <td>0.1974</td>\n",
              "      <td>0.12790</td>\n",
              "      <td>0.2069</td>\n",
              "      <td>0.05999</td>\n",
              "      <td>0.7456</td>\n",
              "      <td>0.7869</td>\n",
              "      <td>4.585</td>\n",
              "      <td>94.03</td>\n",
              "      <td>0.006150</td>\n",
              "      <td>0.04006</td>\n",
              "      <td>0.03832</td>\n",
              "      <td>0.02058</td>\n",
              "      <td>0.02250</td>\n",
              "      <td>0.004571</td>\n",
              "      <td>23.57</td>\n",
              "      <td>25.53</td>\n",
              "      <td>152.50</td>\n",
              "      <td>1709.0</td>\n",
              "      <td>0.1444</td>\n",
              "      <td>0.4245</td>\n",
              "      <td>0.4504</td>\n",
              "      <td>0.2430</td>\n",
              "      <td>0.3613</td>\n",
              "      <td>0.08758</td>\n",
              "      <td>NaN</td>\n",
              "    </tr>\n",
              "    <tr>\n",
              "      <th>3</th>\n",
              "      <td>84348301</td>\n",
              "      <td>M</td>\n",
              "      <td>11.42</td>\n",
              "      <td>20.38</td>\n",
              "      <td>77.58</td>\n",
              "      <td>386.1</td>\n",
              "      <td>0.14250</td>\n",
              "      <td>0.28390</td>\n",
              "      <td>0.2414</td>\n",
              "      <td>0.10520</td>\n",
              "      <td>0.2597</td>\n",
              "      <td>0.09744</td>\n",
              "      <td>0.4956</td>\n",
              "      <td>1.1560</td>\n",
              "      <td>3.445</td>\n",
              "      <td>27.23</td>\n",
              "      <td>0.009110</td>\n",
              "      <td>0.07458</td>\n",
              "      <td>0.05661</td>\n",
              "      <td>0.01867</td>\n",
              "      <td>0.05963</td>\n",
              "      <td>0.009208</td>\n",
              "      <td>14.91</td>\n",
              "      <td>26.50</td>\n",
              "      <td>98.87</td>\n",
              "      <td>567.7</td>\n",
              "      <td>0.2098</td>\n",
              "      <td>0.8663</td>\n",
              "      <td>0.6869</td>\n",
              "      <td>0.2575</td>\n",
              "      <td>0.6638</td>\n",
              "      <td>0.17300</td>\n",
              "      <td>NaN</td>\n",
              "    </tr>\n",
              "    <tr>\n",
              "      <th>4</th>\n",
              "      <td>84358402</td>\n",
              "      <td>M</td>\n",
              "      <td>20.29</td>\n",
              "      <td>14.34</td>\n",
              "      <td>135.10</td>\n",
              "      <td>1297.0</td>\n",
              "      <td>0.10030</td>\n",
              "      <td>0.13280</td>\n",
              "      <td>0.1980</td>\n",
              "      <td>0.10430</td>\n",
              "      <td>0.1809</td>\n",
              "      <td>0.05883</td>\n",
              "      <td>0.7572</td>\n",
              "      <td>0.7813</td>\n",
              "      <td>5.438</td>\n",
              "      <td>94.44</td>\n",
              "      <td>0.011490</td>\n",
              "      <td>0.02461</td>\n",
              "      <td>0.05688</td>\n",
              "      <td>0.01885</td>\n",
              "      <td>0.01756</td>\n",
              "      <td>0.005115</td>\n",
              "      <td>22.54</td>\n",
              "      <td>16.67</td>\n",
              "      <td>152.20</td>\n",
              "      <td>1575.0</td>\n",
              "      <td>0.1374</td>\n",
              "      <td>0.2050</td>\n",
              "      <td>0.4000</td>\n",
              "      <td>0.1625</td>\n",
              "      <td>0.2364</td>\n",
              "      <td>0.07678</td>\n",
              "      <td>NaN</td>\n",
              "    </tr>\n",
              "  </tbody>\n",
              "</table>\n",
              "</div>\n",
              "    <div class=\"colab-df-buttons\">\n",
              "\n",
              "  <div class=\"colab-df-container\">\n",
              "    <button class=\"colab-df-convert\" onclick=\"convertToInteractive('df-2d2c4857-9860-4e94-98df-540914a37111')\"\n",
              "            title=\"Convert this dataframe to an interactive table.\"\n",
              "            style=\"display:none;\">\n",
              "\n",
              "  <svg xmlns=\"http://www.w3.org/2000/svg\" height=\"24px\" viewBox=\"0 -960 960 960\">\n",
              "    <path d=\"M120-120v-720h720v720H120Zm60-500h600v-160H180v160Zm220 220h160v-160H400v160Zm0 220h160v-160H400v160ZM180-400h160v-160H180v160Zm440 0h160v-160H620v160ZM180-180h160v-160H180v160Zm440 0h160v-160H620v160Z\"/>\n",
              "  </svg>\n",
              "    </button>\n",
              "\n",
              "  <style>\n",
              "    .colab-df-container {\n",
              "      display:flex;\n",
              "      gap: 12px;\n",
              "    }\n",
              "\n",
              "    .colab-df-convert {\n",
              "      background-color: #E8F0FE;\n",
              "      border: none;\n",
              "      border-radius: 50%;\n",
              "      cursor: pointer;\n",
              "      display: none;\n",
              "      fill: #1967D2;\n",
              "      height: 32px;\n",
              "      padding: 0 0 0 0;\n",
              "      width: 32px;\n",
              "    }\n",
              "\n",
              "    .colab-df-convert:hover {\n",
              "      background-color: #E2EBFA;\n",
              "      box-shadow: 0px 1px 2px rgba(60, 64, 67, 0.3), 0px 1px 3px 1px rgba(60, 64, 67, 0.15);\n",
              "      fill: #174EA6;\n",
              "    }\n",
              "\n",
              "    .colab-df-buttons div {\n",
              "      margin-bottom: 4px;\n",
              "    }\n",
              "\n",
              "    [theme=dark] .colab-df-convert {\n",
              "      background-color: #3B4455;\n",
              "      fill: #D2E3FC;\n",
              "    }\n",
              "\n",
              "    [theme=dark] .colab-df-convert:hover {\n",
              "      background-color: #434B5C;\n",
              "      box-shadow: 0px 1px 3px 1px rgba(0, 0, 0, 0.15);\n",
              "      filter: drop-shadow(0px 1px 2px rgba(0, 0, 0, 0.3));\n",
              "      fill: #FFFFFF;\n",
              "    }\n",
              "  </style>\n",
              "\n",
              "    <script>\n",
              "      const buttonEl =\n",
              "        document.querySelector('#df-2d2c4857-9860-4e94-98df-540914a37111 button.colab-df-convert');\n",
              "      buttonEl.style.display =\n",
              "        google.colab.kernel.accessAllowed ? 'block' : 'none';\n",
              "\n",
              "      async function convertToInteractive(key) {\n",
              "        const element = document.querySelector('#df-2d2c4857-9860-4e94-98df-540914a37111');\n",
              "        const dataTable =\n",
              "          await google.colab.kernel.invokeFunction('convertToInteractive',\n",
              "                                                    [key], {});\n",
              "        if (!dataTable) return;\n",
              "\n",
              "        const docLinkHtml = 'Like what you see? Visit the ' +\n",
              "          '<a target=\"_blank\" href=https://colab.research.google.com/notebooks/data_table.ipynb>data table notebook</a>'\n",
              "          + ' to learn more about interactive tables.';\n",
              "        element.innerHTML = '';\n",
              "        dataTable['output_type'] = 'display_data';\n",
              "        await google.colab.output.renderOutput(dataTable, element);\n",
              "        const docLink = document.createElement('div');\n",
              "        docLink.innerHTML = docLinkHtml;\n",
              "        element.appendChild(docLink);\n",
              "      }\n",
              "    </script>\n",
              "  </div>\n",
              "\n",
              "\n",
              "    <div id=\"df-751bb40f-95de-47c9-9ca7-bbcd7213ebcb\">\n",
              "      <button class=\"colab-df-quickchart\" onclick=\"quickchart('df-751bb40f-95de-47c9-9ca7-bbcd7213ebcb')\"\n",
              "                title=\"Suggest charts\"\n",
              "                style=\"display:none;\">\n",
              "\n",
              "<svg xmlns=\"http://www.w3.org/2000/svg\" height=\"24px\"viewBox=\"0 0 24 24\"\n",
              "     width=\"24px\">\n",
              "    <g>\n",
              "        <path d=\"M19 3H5c-1.1 0-2 .9-2 2v14c0 1.1.9 2 2 2h14c1.1 0 2-.9 2-2V5c0-1.1-.9-2-2-2zM9 17H7v-7h2v7zm4 0h-2V7h2v10zm4 0h-2v-4h2v4z\"/>\n",
              "    </g>\n",
              "</svg>\n",
              "      </button>\n",
              "\n",
              "<style>\n",
              "  .colab-df-quickchart {\n",
              "      --bg-color: #E8F0FE;\n",
              "      --fill-color: #1967D2;\n",
              "      --hover-bg-color: #E2EBFA;\n",
              "      --hover-fill-color: #174EA6;\n",
              "      --disabled-fill-color: #AAA;\n",
              "      --disabled-bg-color: #DDD;\n",
              "  }\n",
              "\n",
              "  [theme=dark] .colab-df-quickchart {\n",
              "      --bg-color: #3B4455;\n",
              "      --fill-color: #D2E3FC;\n",
              "      --hover-bg-color: #434B5C;\n",
              "      --hover-fill-color: #FFFFFF;\n",
              "      --disabled-bg-color: #3B4455;\n",
              "      --disabled-fill-color: #666;\n",
              "  }\n",
              "\n",
              "  .colab-df-quickchart {\n",
              "    background-color: var(--bg-color);\n",
              "    border: none;\n",
              "    border-radius: 50%;\n",
              "    cursor: pointer;\n",
              "    display: none;\n",
              "    fill: var(--fill-color);\n",
              "    height: 32px;\n",
              "    padding: 0;\n",
              "    width: 32px;\n",
              "  }\n",
              "\n",
              "  .colab-df-quickchart:hover {\n",
              "    background-color: var(--hover-bg-color);\n",
              "    box-shadow: 0 1px 2px rgba(60, 64, 67, 0.3), 0 1px 3px 1px rgba(60, 64, 67, 0.15);\n",
              "    fill: var(--button-hover-fill-color);\n",
              "  }\n",
              "\n",
              "  .colab-df-quickchart-complete:disabled,\n",
              "  .colab-df-quickchart-complete:disabled:hover {\n",
              "    background-color: var(--disabled-bg-color);\n",
              "    fill: var(--disabled-fill-color);\n",
              "    box-shadow: none;\n",
              "  }\n",
              "\n",
              "  .colab-df-spinner {\n",
              "    border: 2px solid var(--fill-color);\n",
              "    border-color: transparent;\n",
              "    border-bottom-color: var(--fill-color);\n",
              "    animation:\n",
              "      spin 1s steps(1) infinite;\n",
              "  }\n",
              "\n",
              "  @keyframes spin {\n",
              "    0% {\n",
              "      border-color: transparent;\n",
              "      border-bottom-color: var(--fill-color);\n",
              "      border-left-color: var(--fill-color);\n",
              "    }\n",
              "    20% {\n",
              "      border-color: transparent;\n",
              "      border-left-color: var(--fill-color);\n",
              "      border-top-color: var(--fill-color);\n",
              "    }\n",
              "    30% {\n",
              "      border-color: transparent;\n",
              "      border-left-color: var(--fill-color);\n",
              "      border-top-color: var(--fill-color);\n",
              "      border-right-color: var(--fill-color);\n",
              "    }\n",
              "    40% {\n",
              "      border-color: transparent;\n",
              "      border-right-color: var(--fill-color);\n",
              "      border-top-color: var(--fill-color);\n",
              "    }\n",
              "    60% {\n",
              "      border-color: transparent;\n",
              "      border-right-color: var(--fill-color);\n",
              "    }\n",
              "    80% {\n",
              "      border-color: transparent;\n",
              "      border-right-color: var(--fill-color);\n",
              "      border-bottom-color: var(--fill-color);\n",
              "    }\n",
              "    90% {\n",
              "      border-color: transparent;\n",
              "      border-bottom-color: var(--fill-color);\n",
              "    }\n",
              "  }\n",
              "</style>\n",
              "\n",
              "      <script>\n",
              "        async function quickchart(key) {\n",
              "          const quickchartButtonEl =\n",
              "            document.querySelector('#' + key + ' button');\n",
              "          quickchartButtonEl.disabled = true;  // To prevent multiple clicks.\n",
              "          quickchartButtonEl.classList.add('colab-df-spinner');\n",
              "          try {\n",
              "            const charts = await google.colab.kernel.invokeFunction(\n",
              "                'suggestCharts', [key], {});\n",
              "          } catch (error) {\n",
              "            console.error('Error during call to suggestCharts:', error);\n",
              "          }\n",
              "          quickchartButtonEl.classList.remove('colab-df-spinner');\n",
              "          quickchartButtonEl.classList.add('colab-df-quickchart-complete');\n",
              "        }\n",
              "        (() => {\n",
              "          let quickchartButtonEl =\n",
              "            document.querySelector('#df-751bb40f-95de-47c9-9ca7-bbcd7213ebcb button');\n",
              "          quickchartButtonEl.style.display =\n",
              "            google.colab.kernel.accessAllowed ? 'block' : 'none';\n",
              "        })();\n",
              "      </script>\n",
              "    </div>\n",
              "\n",
              "    </div>\n",
              "  </div>\n"
            ],
            "application/vnd.google.colaboratory.intrinsic+json": {
              "type": "dataframe",
              "variable_name": "df"
            }
          },
          "metadata": {},
          "execution_count": 12
        }
      ]
    },
    {
      "cell_type": "code",
      "source": [
        "df.drop(columns = ['id','Unnamed: 32'],inplace = True)"
      ],
      "metadata": {
        "id": "-l4jzPz4dcxs"
      },
      "execution_count": null,
      "outputs": []
    },
    {
      "cell_type": "code",
      "source": [
        "df.tail()"
      ],
      "metadata": {
        "colab": {
          "base_uri": "https://localhost:8080/",
          "height": 243
        },
        "id": "CLxzslWbdpvD",
        "outputId": "d35d1c15-6221-45f5-91f7-6627e9bdbcef"
      },
      "execution_count": null,
      "outputs": [
        {
          "output_type": "execute_result",
          "data": {
            "text/plain": [
              "    diagnosis  radius_mean  ...  symmetry_worst  fractal_dimension_worst\n",
              "564         M        21.56  ...          0.2060                  0.07115\n",
              "565         M        20.13  ...          0.2572                  0.06637\n",
              "566         M        16.60  ...          0.2218                  0.07820\n",
              "567         M        20.60  ...          0.4087                  0.12400\n",
              "568         B         7.76  ...          0.2871                  0.07039\n",
              "\n",
              "[5 rows x 31 columns]"
            ],
            "text/html": [
              "\n",
              "  <div id=\"df-2b75f5d0-498a-4553-aca4-17f7fdadff0d\" class=\"colab-df-container\">\n",
              "    <div>\n",
              "<style scoped>\n",
              "    .dataframe tbody tr th:only-of-type {\n",
              "        vertical-align: middle;\n",
              "    }\n",
              "\n",
              "    .dataframe tbody tr th {\n",
              "        vertical-align: top;\n",
              "    }\n",
              "\n",
              "    .dataframe thead th {\n",
              "        text-align: right;\n",
              "    }\n",
              "</style>\n",
              "<table border=\"1\" class=\"dataframe\">\n",
              "  <thead>\n",
              "    <tr style=\"text-align: right;\">\n",
              "      <th></th>\n",
              "      <th>diagnosis</th>\n",
              "      <th>radius_mean</th>\n",
              "      <th>texture_mean</th>\n",
              "      <th>perimeter_mean</th>\n",
              "      <th>area_mean</th>\n",
              "      <th>smoothness_mean</th>\n",
              "      <th>compactness_mean</th>\n",
              "      <th>concavity_mean</th>\n",
              "      <th>concave points_mean</th>\n",
              "      <th>symmetry_mean</th>\n",
              "      <th>fractal_dimension_mean</th>\n",
              "      <th>radius_se</th>\n",
              "      <th>texture_se</th>\n",
              "      <th>perimeter_se</th>\n",
              "      <th>area_se</th>\n",
              "      <th>smoothness_se</th>\n",
              "      <th>compactness_se</th>\n",
              "      <th>concavity_se</th>\n",
              "      <th>concave points_se</th>\n",
              "      <th>symmetry_se</th>\n",
              "      <th>fractal_dimension_se</th>\n",
              "      <th>radius_worst</th>\n",
              "      <th>texture_worst</th>\n",
              "      <th>perimeter_worst</th>\n",
              "      <th>area_worst</th>\n",
              "      <th>smoothness_worst</th>\n",
              "      <th>compactness_worst</th>\n",
              "      <th>concavity_worst</th>\n",
              "      <th>concave points_worst</th>\n",
              "      <th>symmetry_worst</th>\n",
              "      <th>fractal_dimension_worst</th>\n",
              "    </tr>\n",
              "  </thead>\n",
              "  <tbody>\n",
              "    <tr>\n",
              "      <th>564</th>\n",
              "      <td>M</td>\n",
              "      <td>21.56</td>\n",
              "      <td>22.39</td>\n",
              "      <td>142.00</td>\n",
              "      <td>1479.0</td>\n",
              "      <td>0.11100</td>\n",
              "      <td>0.11590</td>\n",
              "      <td>0.24390</td>\n",
              "      <td>0.13890</td>\n",
              "      <td>0.1726</td>\n",
              "      <td>0.05623</td>\n",
              "      <td>1.1760</td>\n",
              "      <td>1.256</td>\n",
              "      <td>7.673</td>\n",
              "      <td>158.70</td>\n",
              "      <td>0.010300</td>\n",
              "      <td>0.02891</td>\n",
              "      <td>0.05198</td>\n",
              "      <td>0.02454</td>\n",
              "      <td>0.01114</td>\n",
              "      <td>0.004239</td>\n",
              "      <td>25.450</td>\n",
              "      <td>26.40</td>\n",
              "      <td>166.10</td>\n",
              "      <td>2027.0</td>\n",
              "      <td>0.14100</td>\n",
              "      <td>0.21130</td>\n",
              "      <td>0.4107</td>\n",
              "      <td>0.2216</td>\n",
              "      <td>0.2060</td>\n",
              "      <td>0.07115</td>\n",
              "    </tr>\n",
              "    <tr>\n",
              "      <th>565</th>\n",
              "      <td>M</td>\n",
              "      <td>20.13</td>\n",
              "      <td>28.25</td>\n",
              "      <td>131.20</td>\n",
              "      <td>1261.0</td>\n",
              "      <td>0.09780</td>\n",
              "      <td>0.10340</td>\n",
              "      <td>0.14400</td>\n",
              "      <td>0.09791</td>\n",
              "      <td>0.1752</td>\n",
              "      <td>0.05533</td>\n",
              "      <td>0.7655</td>\n",
              "      <td>2.463</td>\n",
              "      <td>5.203</td>\n",
              "      <td>99.04</td>\n",
              "      <td>0.005769</td>\n",
              "      <td>0.02423</td>\n",
              "      <td>0.03950</td>\n",
              "      <td>0.01678</td>\n",
              "      <td>0.01898</td>\n",
              "      <td>0.002498</td>\n",
              "      <td>23.690</td>\n",
              "      <td>38.25</td>\n",
              "      <td>155.00</td>\n",
              "      <td>1731.0</td>\n",
              "      <td>0.11660</td>\n",
              "      <td>0.19220</td>\n",
              "      <td>0.3215</td>\n",
              "      <td>0.1628</td>\n",
              "      <td>0.2572</td>\n",
              "      <td>0.06637</td>\n",
              "    </tr>\n",
              "    <tr>\n",
              "      <th>566</th>\n",
              "      <td>M</td>\n",
              "      <td>16.60</td>\n",
              "      <td>28.08</td>\n",
              "      <td>108.30</td>\n",
              "      <td>858.1</td>\n",
              "      <td>0.08455</td>\n",
              "      <td>0.10230</td>\n",
              "      <td>0.09251</td>\n",
              "      <td>0.05302</td>\n",
              "      <td>0.1590</td>\n",
              "      <td>0.05648</td>\n",
              "      <td>0.4564</td>\n",
              "      <td>1.075</td>\n",
              "      <td>3.425</td>\n",
              "      <td>48.55</td>\n",
              "      <td>0.005903</td>\n",
              "      <td>0.03731</td>\n",
              "      <td>0.04730</td>\n",
              "      <td>0.01557</td>\n",
              "      <td>0.01318</td>\n",
              "      <td>0.003892</td>\n",
              "      <td>18.980</td>\n",
              "      <td>34.12</td>\n",
              "      <td>126.70</td>\n",
              "      <td>1124.0</td>\n",
              "      <td>0.11390</td>\n",
              "      <td>0.30940</td>\n",
              "      <td>0.3403</td>\n",
              "      <td>0.1418</td>\n",
              "      <td>0.2218</td>\n",
              "      <td>0.07820</td>\n",
              "    </tr>\n",
              "    <tr>\n",
              "      <th>567</th>\n",
              "      <td>M</td>\n",
              "      <td>20.60</td>\n",
              "      <td>29.33</td>\n",
              "      <td>140.10</td>\n",
              "      <td>1265.0</td>\n",
              "      <td>0.11780</td>\n",
              "      <td>0.27700</td>\n",
              "      <td>0.35140</td>\n",
              "      <td>0.15200</td>\n",
              "      <td>0.2397</td>\n",
              "      <td>0.07016</td>\n",
              "      <td>0.7260</td>\n",
              "      <td>1.595</td>\n",
              "      <td>5.772</td>\n",
              "      <td>86.22</td>\n",
              "      <td>0.006522</td>\n",
              "      <td>0.06158</td>\n",
              "      <td>0.07117</td>\n",
              "      <td>0.01664</td>\n",
              "      <td>0.02324</td>\n",
              "      <td>0.006185</td>\n",
              "      <td>25.740</td>\n",
              "      <td>39.42</td>\n",
              "      <td>184.60</td>\n",
              "      <td>1821.0</td>\n",
              "      <td>0.16500</td>\n",
              "      <td>0.86810</td>\n",
              "      <td>0.9387</td>\n",
              "      <td>0.2650</td>\n",
              "      <td>0.4087</td>\n",
              "      <td>0.12400</td>\n",
              "    </tr>\n",
              "    <tr>\n",
              "      <th>568</th>\n",
              "      <td>B</td>\n",
              "      <td>7.76</td>\n",
              "      <td>24.54</td>\n",
              "      <td>47.92</td>\n",
              "      <td>181.0</td>\n",
              "      <td>0.05263</td>\n",
              "      <td>0.04362</td>\n",
              "      <td>0.00000</td>\n",
              "      <td>0.00000</td>\n",
              "      <td>0.1587</td>\n",
              "      <td>0.05884</td>\n",
              "      <td>0.3857</td>\n",
              "      <td>1.428</td>\n",
              "      <td>2.548</td>\n",
              "      <td>19.15</td>\n",
              "      <td>0.007189</td>\n",
              "      <td>0.00466</td>\n",
              "      <td>0.00000</td>\n",
              "      <td>0.00000</td>\n",
              "      <td>0.02676</td>\n",
              "      <td>0.002783</td>\n",
              "      <td>9.456</td>\n",
              "      <td>30.37</td>\n",
              "      <td>59.16</td>\n",
              "      <td>268.6</td>\n",
              "      <td>0.08996</td>\n",
              "      <td>0.06444</td>\n",
              "      <td>0.0000</td>\n",
              "      <td>0.0000</td>\n",
              "      <td>0.2871</td>\n",
              "      <td>0.07039</td>\n",
              "    </tr>\n",
              "  </tbody>\n",
              "</table>\n",
              "</div>\n",
              "    <div class=\"colab-df-buttons\">\n",
              "\n",
              "  <div class=\"colab-df-container\">\n",
              "    <button class=\"colab-df-convert\" onclick=\"convertToInteractive('df-2b75f5d0-498a-4553-aca4-17f7fdadff0d')\"\n",
              "            title=\"Convert this dataframe to an interactive table.\"\n",
              "            style=\"display:none;\">\n",
              "\n",
              "  <svg xmlns=\"http://www.w3.org/2000/svg\" height=\"24px\" viewBox=\"0 -960 960 960\">\n",
              "    <path d=\"M120-120v-720h720v720H120Zm60-500h600v-160H180v160Zm220 220h160v-160H400v160Zm0 220h160v-160H400v160ZM180-400h160v-160H180v160Zm440 0h160v-160H620v160ZM180-180h160v-160H180v160Zm440 0h160v-160H620v160Z\"/>\n",
              "  </svg>\n",
              "    </button>\n",
              "\n",
              "  <style>\n",
              "    .colab-df-container {\n",
              "      display:flex;\n",
              "      gap: 12px;\n",
              "    }\n",
              "\n",
              "    .colab-df-convert {\n",
              "      background-color: #E8F0FE;\n",
              "      border: none;\n",
              "      border-radius: 50%;\n",
              "      cursor: pointer;\n",
              "      display: none;\n",
              "      fill: #1967D2;\n",
              "      height: 32px;\n",
              "      padding: 0 0 0 0;\n",
              "      width: 32px;\n",
              "    }\n",
              "\n",
              "    .colab-df-convert:hover {\n",
              "      background-color: #E2EBFA;\n",
              "      box-shadow: 0px 1px 2px rgba(60, 64, 67, 0.3), 0px 1px 3px 1px rgba(60, 64, 67, 0.15);\n",
              "      fill: #174EA6;\n",
              "    }\n",
              "\n",
              "    .colab-df-buttons div {\n",
              "      margin-bottom: 4px;\n",
              "    }\n",
              "\n",
              "    [theme=dark] .colab-df-convert {\n",
              "      background-color: #3B4455;\n",
              "      fill: #D2E3FC;\n",
              "    }\n",
              "\n",
              "    [theme=dark] .colab-df-convert:hover {\n",
              "      background-color: #434B5C;\n",
              "      box-shadow: 0px 1px 3px 1px rgba(0, 0, 0, 0.15);\n",
              "      filter: drop-shadow(0px 1px 2px rgba(0, 0, 0, 0.3));\n",
              "      fill: #FFFFFF;\n",
              "    }\n",
              "  </style>\n",
              "\n",
              "    <script>\n",
              "      const buttonEl =\n",
              "        document.querySelector('#df-2b75f5d0-498a-4553-aca4-17f7fdadff0d button.colab-df-convert');\n",
              "      buttonEl.style.display =\n",
              "        google.colab.kernel.accessAllowed ? 'block' : 'none';\n",
              "\n",
              "      async function convertToInteractive(key) {\n",
              "        const element = document.querySelector('#df-2b75f5d0-498a-4553-aca4-17f7fdadff0d');\n",
              "        const dataTable =\n",
              "          await google.colab.kernel.invokeFunction('convertToInteractive',\n",
              "                                                    [key], {});\n",
              "        if (!dataTable) return;\n",
              "\n",
              "        const docLinkHtml = 'Like what you see? Visit the ' +\n",
              "          '<a target=\"_blank\" href=https://colab.research.google.com/notebooks/data_table.ipynb>data table notebook</a>'\n",
              "          + ' to learn more about interactive tables.';\n",
              "        element.innerHTML = '';\n",
              "        dataTable['output_type'] = 'display_data';\n",
              "        await google.colab.output.renderOutput(dataTable, element);\n",
              "        const docLink = document.createElement('div');\n",
              "        docLink.innerHTML = docLinkHtml;\n",
              "        element.appendChild(docLink);\n",
              "      }\n",
              "    </script>\n",
              "  </div>\n",
              "\n",
              "\n",
              "    <div id=\"df-661dd8a5-142c-4812-91df-02b8d50aa86f\">\n",
              "      <button class=\"colab-df-quickchart\" onclick=\"quickchart('df-661dd8a5-142c-4812-91df-02b8d50aa86f')\"\n",
              "                title=\"Suggest charts\"\n",
              "                style=\"display:none;\">\n",
              "\n",
              "<svg xmlns=\"http://www.w3.org/2000/svg\" height=\"24px\"viewBox=\"0 0 24 24\"\n",
              "     width=\"24px\">\n",
              "    <g>\n",
              "        <path d=\"M19 3H5c-1.1 0-2 .9-2 2v14c0 1.1.9 2 2 2h14c1.1 0 2-.9 2-2V5c0-1.1-.9-2-2-2zM9 17H7v-7h2v7zm4 0h-2V7h2v10zm4 0h-2v-4h2v4z\"/>\n",
              "    </g>\n",
              "</svg>\n",
              "      </button>\n",
              "\n",
              "<style>\n",
              "  .colab-df-quickchart {\n",
              "      --bg-color: #E8F0FE;\n",
              "      --fill-color: #1967D2;\n",
              "      --hover-bg-color: #E2EBFA;\n",
              "      --hover-fill-color: #174EA6;\n",
              "      --disabled-fill-color: #AAA;\n",
              "      --disabled-bg-color: #DDD;\n",
              "  }\n",
              "\n",
              "  [theme=dark] .colab-df-quickchart {\n",
              "      --bg-color: #3B4455;\n",
              "      --fill-color: #D2E3FC;\n",
              "      --hover-bg-color: #434B5C;\n",
              "      --hover-fill-color: #FFFFFF;\n",
              "      --disabled-bg-color: #3B4455;\n",
              "      --disabled-fill-color: #666;\n",
              "  }\n",
              "\n",
              "  .colab-df-quickchart {\n",
              "    background-color: var(--bg-color);\n",
              "    border: none;\n",
              "    border-radius: 50%;\n",
              "    cursor: pointer;\n",
              "    display: none;\n",
              "    fill: var(--fill-color);\n",
              "    height: 32px;\n",
              "    padding: 0;\n",
              "    width: 32px;\n",
              "  }\n",
              "\n",
              "  .colab-df-quickchart:hover {\n",
              "    background-color: var(--hover-bg-color);\n",
              "    box-shadow: 0 1px 2px rgba(60, 64, 67, 0.3), 0 1px 3px 1px rgba(60, 64, 67, 0.15);\n",
              "    fill: var(--button-hover-fill-color);\n",
              "  }\n",
              "\n",
              "  .colab-df-quickchart-complete:disabled,\n",
              "  .colab-df-quickchart-complete:disabled:hover {\n",
              "    background-color: var(--disabled-bg-color);\n",
              "    fill: var(--disabled-fill-color);\n",
              "    box-shadow: none;\n",
              "  }\n",
              "\n",
              "  .colab-df-spinner {\n",
              "    border: 2px solid var(--fill-color);\n",
              "    border-color: transparent;\n",
              "    border-bottom-color: var(--fill-color);\n",
              "    animation:\n",
              "      spin 1s steps(1) infinite;\n",
              "  }\n",
              "\n",
              "  @keyframes spin {\n",
              "    0% {\n",
              "      border-color: transparent;\n",
              "      border-bottom-color: var(--fill-color);\n",
              "      border-left-color: var(--fill-color);\n",
              "    }\n",
              "    20% {\n",
              "      border-color: transparent;\n",
              "      border-left-color: var(--fill-color);\n",
              "      border-top-color: var(--fill-color);\n",
              "    }\n",
              "    30% {\n",
              "      border-color: transparent;\n",
              "      border-left-color: var(--fill-color);\n",
              "      border-top-color: var(--fill-color);\n",
              "      border-right-color: var(--fill-color);\n",
              "    }\n",
              "    40% {\n",
              "      border-color: transparent;\n",
              "      border-right-color: var(--fill-color);\n",
              "      border-top-color: var(--fill-color);\n",
              "    }\n",
              "    60% {\n",
              "      border-color: transparent;\n",
              "      border-right-color: var(--fill-color);\n",
              "    }\n",
              "    80% {\n",
              "      border-color: transparent;\n",
              "      border-right-color: var(--fill-color);\n",
              "      border-bottom-color: var(--fill-color);\n",
              "    }\n",
              "    90% {\n",
              "      border-color: transparent;\n",
              "      border-bottom-color: var(--fill-color);\n",
              "    }\n",
              "  }\n",
              "</style>\n",
              "\n",
              "      <script>\n",
              "        async function quickchart(key) {\n",
              "          const quickchartButtonEl =\n",
              "            document.querySelector('#' + key + ' button');\n",
              "          quickchartButtonEl.disabled = true;  // To prevent multiple clicks.\n",
              "          quickchartButtonEl.classList.add('colab-df-spinner');\n",
              "          try {\n",
              "            const charts = await google.colab.kernel.invokeFunction(\n",
              "                'suggestCharts', [key], {});\n",
              "          } catch (error) {\n",
              "            console.error('Error during call to suggestCharts:', error);\n",
              "          }\n",
              "          quickchartButtonEl.classList.remove('colab-df-spinner');\n",
              "          quickchartButtonEl.classList.add('colab-df-quickchart-complete');\n",
              "        }\n",
              "        (() => {\n",
              "          let quickchartButtonEl =\n",
              "            document.querySelector('#df-661dd8a5-142c-4812-91df-02b8d50aa86f button');\n",
              "          quickchartButtonEl.style.display =\n",
              "            google.colab.kernel.accessAllowed ? 'block' : 'none';\n",
              "        })();\n",
              "      </script>\n",
              "    </div>\n",
              "\n",
              "    </div>\n",
              "  </div>\n"
            ],
            "application/vnd.google.colaboratory.intrinsic+json": {
              "type": "dataframe"
            }
          },
          "metadata": {},
          "execution_count": 16
        }
      ]
    },
    {
      "cell_type": "code",
      "source": [
        "x_train,x_test,y_train,y_test = train_test_split(df.iloc[:,1:],df.iloc[:,0], test_size = 0.2)"
      ],
      "metadata": {
        "id": "Wcons2bjd7zg"
      },
      "execution_count": null,
      "outputs": []
    },
    {
      "cell_type": "code",
      "source": [
        "scaler = StandardScaler()\n",
        "x_train = scaler.fit_transform(x_train)\n",
        "x_test = scaler.transform(x_test)"
      ],
      "metadata": {
        "id": "zDXwhefTdslo"
      },
      "execution_count": null,
      "outputs": []
    },
    {
      "cell_type": "code",
      "source": [
        "print(x_train)"
      ],
      "metadata": {
        "colab": {
          "base_uri": "https://localhost:8080/"
        },
        "id": "WfCTA1JYeW1O",
        "outputId": "986c54bd-98af-41ac-ad1b-6df1f92bec19"
      },
      "execution_count": null,
      "outputs": [
        {
          "output_type": "stream",
          "name": "stdout",
          "text": [
            "[[ 0.10595707  0.50726305  0.10145438 ...  0.13560638  0.2109928\n",
            "  -0.83047585]\n",
            " [-0.79310319 -1.2375092  -0.83182805 ... -1.54946871 -0.21134709\n",
            "  -1.0769145 ]\n",
            " [-0.51339556 -0.67344584 -0.52433517 ... -0.40747824 -0.43702489\n",
            "  -0.42170915]\n",
            " ...\n",
            " [-0.87587382 -1.05347158 -0.87836751 ... -0.6958123   0.50437395\n",
            "  -0.5942162 ]\n",
            " [-0.67322849 -0.42487555 -0.66146037 ... -0.18963928 -0.66270269\n",
            "  -0.34242019]\n",
            " [ 1.55301596  2.25442539  1.73656853 ...  1.21875007 -0.11462803\n",
            "   0.88602287]]\n"
          ]
        }
      ]
    },
    {
      "cell_type": "code",
      "source": [
        "#Ytrain has problem - malignant - M and Benign B are represented by letters, we have to label encode them"
      ],
      "metadata": {
        "id": "eg7h5NJmeZzu"
      },
      "execution_count": null,
      "outputs": []
    },
    {
      "cell_type": "code",
      "source": [
        "encoder = LabelEncoder()\n",
        "y_train = encoder.fit_transform(y_train)\n",
        "y_test = encoder.transform(y_test)\n",
        "y_train"
      ],
      "metadata": {
        "colab": {
          "base_uri": "https://localhost:8080/"
        },
        "id": "cczG-ToNeqSX",
        "outputId": "8ab10280-3d1d-489a-916e-0aebd165ed8b"
      },
      "execution_count": null,
      "outputs": [
        {
          "output_type": "execute_result",
          "data": {
            "text/plain": [
              "array([1, 0, 0, 1, 0, 1, 1, 0, 0, 0, 1, 1, 1, 0, 0, 0, 1, 0, 0, 1, 1, 0,\n",
              "       1, 0, 0, 0, 0, 1, 0, 0, 0, 0, 0, 1, 0, 1, 1, 0, 0, 1, 0, 0, 0, 0,\n",
              "       1, 0, 0, 1, 0, 0, 0, 0, 0, 0, 1, 0, 0, 1, 0, 0, 1, 1, 1, 0, 1, 0,\n",
              "       1, 0, 1, 0, 0, 1, 1, 0, 0, 0, 0, 1, 1, 0, 0, 1, 0, 0, 0, 1, 0, 1,\n",
              "       0, 0, 0, 0, 0, 1, 1, 0, 0, 0, 0, 0, 0, 0, 0, 1, 0, 1, 0, 1, 0, 1,\n",
              "       0, 0, 1, 0, 0, 0, 0, 0, 1, 1, 1, 0, 0, 0, 0, 1, 0, 0, 0, 0, 0, 0,\n",
              "       1, 1, 0, 0, 1, 1, 0, 1, 0, 0, 0, 0, 0, 0, 1, 1, 1, 1, 0, 1, 0, 1,\n",
              "       1, 1, 1, 1, 1, 1, 1, 0, 0, 1, 1, 1, 0, 1, 0, 1, 0, 1, 0, 1, 0, 1,\n",
              "       1, 1, 0, 1, 0, 0, 0, 1, 1, 0, 1, 0, 0, 0, 0, 0, 0, 0, 0, 0, 0, 1,\n",
              "       0, 0, 0, 0, 0, 0, 1, 0, 1, 1, 0, 1, 0, 0, 0, 1, 1, 0, 1, 1, 0, 1,\n",
              "       0, 0, 1, 0, 1, 0, 1, 1, 1, 0, 0, 0, 1, 0, 0, 0, 0, 0, 0, 1, 0, 0,\n",
              "       1, 0, 0, 0, 0, 0, 1, 0, 1, 0, 1, 1, 0, 1, 0, 0, 0, 0, 1, 0, 0, 0,\n",
              "       0, 0, 1, 0, 0, 1, 0, 1, 0, 1, 1, 1, 1, 1, 0, 1, 1, 1, 0, 1, 0, 0,\n",
              "       0, 1, 1, 1, 1, 0, 1, 0, 0, 1, 1, 0, 0, 0, 0, 1, 0, 1, 0, 0, 0, 0,\n",
              "       1, 1, 0, 0, 1, 1, 1, 0, 0, 0, 1, 1, 1, 0, 0, 0, 1, 1, 0, 0, 0, 1,\n",
              "       1, 0, 1, 1, 0, 0, 0, 0, 0, 1, 0, 0, 0, 0, 1, 0, 0, 1, 0, 0, 0, 0,\n",
              "       0, 0, 0, 0, 0, 1, 0, 0, 1, 1, 0, 0, 0, 0, 0, 0, 0, 0, 0, 0, 1, 0,\n",
              "       1, 0, 0, 0, 0, 0, 0, 0, 0, 0, 1, 0, 0, 0, 0, 0, 1, 1, 0, 0, 0, 0,\n",
              "       0, 0, 1, 1, 1, 1, 0, 0, 1, 0, 0, 1, 0, 1, 1, 0, 0, 1, 0, 1, 1, 1,\n",
              "       0, 0, 1, 0, 0, 1, 0, 0, 0, 0, 0, 0, 0, 0, 0, 1, 0, 0, 1, 0, 1, 1,\n",
              "       1, 0, 1, 0, 0, 0, 0, 1, 1, 0, 0, 0, 0, 0, 1])"
            ]
          },
          "metadata": {},
          "execution_count": 22
        }
      ]
    },
    {
      "cell_type": "code",
      "source": [
        "x_train_tensor = torch.from_numpy(x_train)\n",
        "x_test_tensor = torch.from_numpy(x_test)\n",
        "y_train_tensor = torch.from_numpy(y_train)\n",
        "y_test_tensor = torch.from_numpy(y_test)"
      ],
      "metadata": {
        "id": "w92qIjpFjd_G"
      },
      "execution_count": null,
      "outputs": []
    },
    {
      "cell_type": "code",
      "source": [
        "x_train.shape"
      ],
      "metadata": {
        "colab": {
          "base_uri": "https://localhost:8080/"
        },
        "id": "32St052Bjt8h",
        "outputId": "ee304746-55e4-44cd-c905-be9036049177"
      },
      "execution_count": null,
      "outputs": [
        {
          "output_type": "execute_result",
          "data": {
            "text/plain": [
              "(455, 30)"
            ]
          },
          "metadata": {},
          "execution_count": 26
        }
      ]
    },
    {
      "cell_type": "code",
      "source": [
        "class MySimpleNN():\n",
        "  def __init__(self,x):\n",
        "\n",
        "    self.weights = torch.rand(x.shape[1],1,dtype = torch.float64,requires_grad=True)\n",
        "    self.bias = torch.rand(1,dtype = torch.float64,requires_grad=True)\n",
        "\n",
        "  def forward(self,x):\n",
        "    z = torch.matmul(x,self.weights) + self.bias\n",
        "    y_pred = torch.sigmoid(z)\n",
        "    return y_pred\n",
        "\n",
        "  def loss(self,y_pred,y):\n",
        "    epsilon = 10**(-7)\n",
        "    y_pred = torch.clamp(y_pred,epsilon,1-epsilon)\n",
        "\n",
        "    loss = -(y_train_tensor*torch.log(y_pred) + (1-y_train_tensor)*torch.log(1-y_pred)).mean()\n",
        "    return loss"
      ],
      "metadata": {
        "id": "njhR2t7Ye0uP"
      },
      "execution_count": null,
      "outputs": []
    },
    {
      "cell_type": "code",
      "source": [
        "model = MySimpleNN(x_train_tensor)\n",
        "model.weights"
      ],
      "metadata": {
        "colab": {
          "base_uri": "https://localhost:8080/"
        },
        "id": "Ycb4vmIXkG7r",
        "outputId": "d3622fdd-5b91-44d9-be2f-3cb3661b4fc5"
      },
      "execution_count": null,
      "outputs": [
        {
          "output_type": "execute_result",
          "data": {
            "text/plain": [
              "tensor([[0.0690],\n",
              "        [0.2765],\n",
              "        [0.6195],\n",
              "        [0.3573],\n",
              "        [0.0612],\n",
              "        [0.7870],\n",
              "        [0.3011],\n",
              "        [0.3721],\n",
              "        [0.4504],\n",
              "        [0.5687],\n",
              "        [0.1377],\n",
              "        [0.4087],\n",
              "        [0.2892],\n",
              "        [0.2540],\n",
              "        [0.4364],\n",
              "        [0.9745],\n",
              "        [0.9521],\n",
              "        [0.4541],\n",
              "        [0.0571],\n",
              "        [0.1258],\n",
              "        [0.2109],\n",
              "        [0.1688],\n",
              "        [0.4480],\n",
              "        [0.9926],\n",
              "        [0.8865],\n",
              "        [0.3292],\n",
              "        [0.1110],\n",
              "        [0.1080],\n",
              "        [0.8241],\n",
              "        [0.1115]], dtype=torch.float64, requires_grad=True)"
            ]
          },
          "metadata": {},
          "execution_count": 30
        }
      ]
    },
    {
      "cell_type": "code",
      "source": [
        "learning_rate = 0.7\n",
        "epochs = 30"
      ],
      "metadata": {
        "id": "dS02iLHGlh35"
      },
      "execution_count": null,
      "outputs": []
    },
    {
      "cell_type": "code",
      "source": [
        "model = MySimpleNN(x_train_tensor)\n",
        "for epoch in range(epochs):\n",
        "  y_pred = model.forward(x_train_tensor)\n",
        "  loss = model.loss(y_pred,y_train_tensor)\n",
        "  loss.backward()\n",
        "\n",
        "  #telling the model to not to rrack this operation - this is just for weight updation\n",
        "  with torch.no_grad():\n",
        "    model.weights -= learning_rate*model.weights.grad\n",
        "    model.bias -= learning_rate*model.bias.grad\n",
        "\n",
        "  #with each iteration update start from 0 grad, last wale ki add thodi krna hai compute new and then update the weights\n",
        "  model.weights.grad.zero_()\n",
        "  model.bias.grad.zero_()\n",
        "\n",
        "  print(f'Epoch: {epoch + 1}, Loss: {loss.item()}')"
      ],
      "metadata": {
        "colab": {
          "base_uri": "https://localhost:8080/"
        },
        "id": "afsNtO7ykL3g",
        "outputId": "93edc5a9-2765-445e-97e4-fd6acb0b68c2"
      },
      "execution_count": null,
      "outputs": [
        {
          "output_type": "stream",
          "name": "stdout",
          "text": [
            "Epoch: 1, Loss: 3.9676545219210073\n",
            "Epoch: 2, Loss: 3.212280210710792\n",
            "Epoch: 3, Loss: 2.2685789252232955\n",
            "Epoch: 4, Loss: 1.3648447873506138\n",
            "Epoch: 5, Loss: 1.0223556729479673\n",
            "Epoch: 6, Loss: 0.9010993171473785\n",
            "Epoch: 7, Loss: 0.8223616843877891\n",
            "Epoch: 8, Loss: 0.7716761746992733\n",
            "Epoch: 9, Loss: 0.7395126836944438\n",
            "Epoch: 10, Loss: 0.7187461897238455\n",
            "Epoch: 11, Loss: 0.7050054962222088\n",
            "Epoch: 12, Loss: 0.6955870733730422\n",
            "Epoch: 13, Loss: 0.6891726000592571\n",
            "Epoch: 14, Loss: 0.6845369417447759\n",
            "Epoch: 15, Loss: 0.6814255739207541\n",
            "Epoch: 16, Loss: 0.6789557663912343\n",
            "Epoch: 17, Loss: 0.6774253652572159\n",
            "Epoch: 18, Loss: 0.6759388244484937\n",
            "Epoch: 19, Loss: 0.6751880469817232\n",
            "Epoch: 20, Loss: 0.674142918142948\n",
            "Epoch: 21, Loss: 0.6737924804266683\n",
            "Epoch: 22, Loss: 0.6729501817319734\n",
            "Epoch: 23, Loss: 0.6728213921536462\n",
            "Epoch: 24, Loss: 0.6720829056257989\n",
            "Epoch: 25, Loss: 0.6720925499484135\n",
            "Epoch: 26, Loss: 0.6714188091783984\n",
            "Epoch: 27, Loss: 0.6715288490301932\n",
            "Epoch: 28, Loss: 0.6709040661191974\n",
            "Epoch: 29, Loss: 0.6710978147026211\n",
            "Epoch: 30, Loss: 0.6705138614933434\n"
          ]
        }
      ]
    },
    {
      "cell_type": "code",
      "source": [
        "model.weights"
      ],
      "metadata": {
        "colab": {
          "base_uri": "https://localhost:8080/"
        },
        "id": "Fa1iCv7CnFWu",
        "outputId": "d7eac93e-324d-4211-81ba-d22f7745d00d"
      },
      "execution_count": null,
      "outputs": [
        {
          "output_type": "execute_result",
          "data": {
            "text/plain": [
              "tensor([[ 0.4360],\n",
              "        [-0.2601],\n",
              "        [-0.0168],\n",
              "        [-0.4556],\n",
              "        [-0.0646],\n",
              "        [-0.0113],\n",
              "        [-0.1080],\n",
              "        [-0.2275],\n",
              "        [-0.0168],\n",
              "        [-0.0008],\n",
              "        [-0.1151],\n",
              "        [ 0.0346],\n",
              "        [ 0.2869],\n",
              "        [-0.2854],\n",
              "        [-0.0517],\n",
              "        [ 0.0595],\n",
              "        [-0.2470],\n",
              "        [ 0.0600],\n",
              "        [ 0.0891],\n",
              "        [ 0.2052],\n",
              "        [-0.3268],\n",
              "        [ 0.1893],\n",
              "        [ 0.3285],\n",
              "        [ 0.2305],\n",
              "        [ 0.1824],\n",
              "        [-0.1026],\n",
              "        [ 0.2560],\n",
              "        [-0.0637],\n",
              "        [-0.0617],\n",
              "        [-0.1941]], dtype=torch.float64, requires_grad=True)"
            ]
          },
          "metadata": {},
          "execution_count": 59
        }
      ]
    },
    {
      "cell_type": "code",
      "source": [
        "model.bias"
      ],
      "metadata": {
        "colab": {
          "base_uri": "https://localhost:8080/"
        },
        "id": "mMiiA1dmnIa5",
        "outputId": "89fa6aea-6598-4ff4-e64a-c02fd37d4164"
      },
      "execution_count": null,
      "outputs": [
        {
          "output_type": "execute_result",
          "data": {
            "text/plain": [
              "tensor([-0.5271], dtype=torch.float64, requires_grad=True)"
            ]
          },
          "metadata": {},
          "execution_count": 60
        }
      ]
    },
    {
      "cell_type": "code",
      "source": [
        "with torch.no_grad():\n",
        "  y_pred = model.forward(x_test_tensor)\n",
        "  y_pred = (y_pred > 0.9).float()\n",
        "  accuracy = (y_pred == y_test_tensor).float().mean()\n",
        "  print(f'Accuracy: {accuracy.item()}')"
      ],
      "metadata": {
        "colab": {
          "base_uri": "https://localhost:8080/"
        },
        "id": "-cYEft8rnXAj",
        "outputId": "d80050b2-245b-4c57-8bf8-43dffc5c96a1"
      },
      "execution_count": null,
      "outputs": [
        {
          "output_type": "stream",
          "name": "stdout",
          "text": [
            "Accuracy: 0.6228070259094238\n"
          ]
        }
      ]
    },
    {
      "cell_type": "code",
      "source": [],
      "metadata": {
        "id": "_Dwno9B9naFq"
      },
      "execution_count": null,
      "outputs": []
    },
    {
      "cell_type": "markdown",
      "source": [
        "#Torch ka NN Module"
      ],
      "metadata": {
        "id": "H40YCuDPoBNU"
      }
    },
    {
      "cell_type": "code",
      "source": [
        "import torch\n",
        "import torch.nn as nn\n",
        "\n",
        "class Model(nn.Module):\n",
        "  def __init__(self,num_features):\n",
        "    super().__init__()\n",
        "    self.linear = nn.Linear(num_features,1)\n",
        "    self.sigmoid = nn.Sigmoid()\n",
        "\n",
        "  def forward(self,features):\n",
        "    out = self.linear(features)\n",
        "    out = self.sigmoid(out)\n",
        "\n",
        "    return out\n"
      ],
      "metadata": {
        "id": "r0a9ahh0oDwB"
      },
      "execution_count": null,
      "outputs": []
    },
    {
      "cell_type": "markdown",
      "source": [
        "![image.png](data:image/png;base64,iVBORw0KGgoAAAANSUhEUgAAARgAAAD6CAYAAAB6dVixAAAAAXNSR0IArs4c6QAAAARnQU1BAACxjwv8YQUAAAAJcEhZcwAADsMAAA7DAcdvqGQAAERvSURBVHhe7d130G1VeT/wfYMFa9TYe8XeRVRQKVaKCAqKwSSmjskkmcyYyT/GyTiTMpMyxnESY3AMgxKkKaCABgxKsWDD3hCxd2lSBPP7+Vnhe7PYnvOWe99z33Pueb4ze845e6+99tr7rOe7nrbW3vL/foGhUCgUZoBfufGzUCgUNhxFMIVCYWYogikUCjPDlp+XD6awwKgRcr5R/0+hUJgZimAKhcLMUARTKBRmhsqDKRQKM0NpMIVCYWYogikUCjNDEUyhUJgZimAKhcLMUARTKBRmhiKYQqEwMxTBFBYOlVnxv1iE51B5MIWFw//8z/8MW7ZsadtK0LVXK7OocG+ew6/8yq+0z+uvv37YZZddhpvd7GYbes/bSw9FMIWFRLrtzkogq8H9595/9KMfDV/5yleGO93pTsMDHvCARjKOb4toqzP19udv63MuE6mwUDBa//znP2/fp3X6a6+9drjhhhta2W0RskXDd77zneHMM88cPvKRjzRNBjwb2s16N+d5bqkjWxDiWutWBFNYKHzve98bvv71rw9XX31168Bj/PSnPx0+8YlPDD/4wQ+aoPTCsTOhv68rrriikcwPf/jDreTQYyz02XpMOoakPeeQ1lrQk5KtCKYw1xgLwn/9138N73rXu5pA0WT64wThwgsvHE466aTh+9///o17dw70go9Er7zyyq2C7znYenJJedtY6LP1ZbIBXw4t8OKLLx7OO++84ZJLLrnJs875Y0zaVwRTWBjo5J/5zGeGb3zjG8PPfvazG/f+H/gizj777Pb99re/fVP5dxZEqC+//PLhgx/84PChD31o+PGPf7yVVGgbIQCYRgI9cjxlPS/aEC3xk5/85HDccccNb33rW4dzzz23kVnK99dZDUUwhYVB/Cr3uMc9folAkI8R12i73377tTKO9yPzogOpvuc97xlOPfXU4Utf+tJw3XXXtf2eifufRCjZ51zb+Hk47nc+L7jggkYsxx9/fHueD3zgA9uzTj35zDn9NglFMIWFASEiJLe+9a2HXXfd9SYdm6/ga1/7WhOGhz/84cMtb3nLmwjSosO9EPh3vvOdw6/92q8NT33qU4e73vWujUQ9F+SbZ5Lyuf+rrrqqaSR8Uz/5yU/avh7RgmhEH/jAB5oW6Fnusccew6te9arhgAMOGG5+85tvrU95Gk3OWwlFMIW5Rj8yEqQ4Hcfk4dgtbnGL4YlPfOLwq7/6q1vJpxe0RQYCee9739tC0Iceeujw2Mc+thEKuHe47W1vu/Wec/8I+fzzzx+OOeaY4eijjx7e//73NxMI0YQgogl++MMfbs8WSd/3vvcdHvGIRzSiRujqCr773e8On/vc51odrrUS0RTBFOYaPTmEWHT6CIXOTfhudatbNXJ59rOf3QQNcm4vHGuB8/rr9r8nHZuEcZlxOe0m/MycaXX0QAoI4GlPe9pwv/vdrzliA+f77RmEYAKayCmnnNLIF1FwkDOBOG89T3CO9nz84x8f7nznOw+77bbbcJvb3OYm11Amz5Ef7IQTThi++tWvtvNWan8RTGFuoeP2nTf5LTq/zi5S9KlPfao5PPkkmA73vve9mzofRCh6HwSk7r7+oBcm0ZovfvGLW0f88ZZy43oQx7e+9a0W8YGUA2XdhzZ//vOf3yrok9oSEGZ10VwQRY9oMEikvw4gJfdN6znssMNa+P6Nb3xjIxNtCJhRNJO73/3uw0Mf+tB2Dme6ewzSPo5gz/6aa65p+3oiGqMIprAwIEg6tI7Nn3DiiScOb37zm4c3vOENw+te97rhrLPO2irQEKIgwIQZUcQxCsiD3yECPgYBRF6vfe1rm6CKUqmP0F166aXNryGDlnBqVzaQk3Lsscc2QdbeHuqw74wzzhjOOeecRpwrwfVoMDJ173a3u211XucY8mM6Mp8gJKOM9t3znvdsWo8sX87vyy67bOv5gfa6jzve8Y7DYx7zmKYNIW9Rq5RNvdqrDQhtNRTBFOYe6eAZKf/7v/+7qfnf/OY3myPy4IMPbloLgWYSZEQPkApBthFsozOHqZwaTtMvfOELrQxh7QUPobgWpycyOO2001qSHwFjYvzbv/1b2/g4CC1ECJlphJbPIzk7PWgBCM895Zxp0CbnqzNmUM5BqMjz29/+dvvd14V0XDtRt7vc5S7D4x73uKalpJ7A/SNU17rXve7Vyrmnj370o1v359n47Xymqjr6Y2MUwRTmFr0gAWGkdRiVH/KQhwxHHHFEU/1FOYy69n/5y19uBNKDhkKlNxr7TrCPOuqo4X3ve1/TUJAV4hgLkbqYMJypyp188sktRKwNj3/844f999+/CRm/htyUXhO5wx3uMOy9994tbP7Zz372JpoTIkvmLa1iNU2AtoAcEEayddNOptOnP/3pdszWC7pruF9aj3Z6LjQ27R+bU+oEROZ+n/KUpwz3v//9m1Y4Tlp0nwhdnTCNXKAIpjDX6IXAaE1Qn/SkJzXhFuXgjzCyE+g+TNsjAkBQ+UXM2zE6P+95zxte9KIXNXNHVITg5HxkRHD5LO5zn/sM++yzT7segSagHKGIbc8992zaA20o5lkIgJBymjI1mDjRYlwHcSEx0ZqYNtOgTYQdKdCcaG7a55OGhFgcRyjqzD3wqaibaeXeaXfMOqbQ2G/id/ZpO7Nq9913b5qW0DVySr20QG1BMpOed48imMLcI52YNsDf8KhHPeomgokEaCURprHw2M8xjAiYOkjmoIMOagl5++67bzMfEAfBC4z0IRjEcuSRRzYtiaDSCnyq93a3u10TcG1DMITThkyQ3l577dUE3URExOSYT2YNUyW5LNOgPHBeIzO+J2Yd7UvomSPWPTzhCU/YmuGcc6J5uD9tdi6i44+J9hHE/EIeyoL7VlbynXsM1Id0x3VMQhFMYWFAgBCMkZNQEiQmAx8JEwYR9cIaQaPl8EMgFuaKcPYznvGMtt9I/OAHP7hpAwQyWgYNBzEQpuc+97mtDO0AefXmRUwTx5ybazpuQwq0ASYUAUdiruNeCHAiYpOgrmyEWTv4nJCeOVeeBQI7/PDDm8noWSDGtIH2gQTdJwKlpcnMde/uq78uYkaINEQaljpE5USt3FeiaOD5aUefbzQNu/zVL3Dj90JhriH/gnOWgBhZCZTU+Y997GONWBDPwx72sGYu+A46P1IgMEZmgsi8Ikw5DgiAMNKMCCQSsNEMmFEEkpaiLkJHc3Eu8wpxEEb1Zj/4pBUw3WhDyrqG8qJLL3zhC4cHPehBrc7+nDGyDxkxzfhjXI8JhsB8RwAXXXRRuz4ydJ2QEIKjhdCw5AnJdEa49kfbUx5RcvDaj9Ac03bPg8aSe2P20bwcC6FPajcUwRTmHshBBzaSIg6mBX8Dc8eozOFqJOeo1fHlcRCQjORAKJg4yoZcgIA4xj+BADhE1eF8o73EtvgwCDhBUyb+B6O9kR2xibw4rxc23wktrYdZRNMi+Nr28pe/vF1bmZwzPjef+a4eBIAokUQIQvtoKUhYO5CB+7GPsxoZm17A78Tccl11hSC0BzEj2PiybLQUhIVksg8ZhRTz30xDEUxhrqEDE2CdmKDr3ITIDF+OTs5XmgAfAmFCDkZ5gh4433kEh1CB+iJcyAIJuBZtQB00FkSi3ggQYiKY0Y6AICOXRz7ykVtHePUEOVe0yLm0Ir4gwnzggQfexETKZ49J+ybBvSFgTmD3S8Oj6Yis8bs8/elPH57znOe0+/FsejMvn+4LcXgu9oU87AuhZAv675NQS2YW5h7p6MCHwqFLMGkqRmPkwd8gn4VJEoLpzwO/bSGWMfhRIAIG0wQoYjOufxpSjhbzlre8pZHVK1/5ykZka0Vf/6R2IVzJhxzAL3vZyxr58slw/CJNzyz3H9Kedn/Q36PvzumfzVpQBFNYKPSdvof9RnACMI1ACIhyMSvA70l1BZOEaaU2TKsvbWIive1tb2umlwRBpse2YFob+Fw4vZEKc0hmbsr05/RtHdcxRsrlfFjtnGDyP1EozCmmCYR9NJlp5AKO9eQC0+qadh2Ydmyl/UBAmSsiVEyY3tRaL3KtEEWEH6EccsghLeIUky3IOePvPXFMQn9O/7kWFMEUChuIScKXfULAQsyIJQ7a1YR7Nag7W6BevqTVCGzSuathPWWhCKZQ2GD0QthrF3wkNv4QPhga1fYSzLyjCGYng7ApOzzZmIXNQUim1xBEkBCMiBVzDtarESwaimB2InByiqSYAWwm8M4+Oi4CegKRi2KagPB3fEFFMIWFgZCkSXcm19FkCpuLMXlksibzaOxs3llRBLOTgEkkR0Rmq1RwSWk7++i4aJDkJm+HA3alaNfOhCKYnQSiE1ZdE6Y0zX49CVyF2aE3UyUACh/zwRTBFBYGtBfZreacZA2SWYLQSForrI5eizSHyExkPphliCBBEcxOANEJM4olVpnM53N7O6/zV6tjGQRkFkA6y2K+FsEsOMyfMb/FbOAnP/nJLccCtlf4pwlB6jUCOx4iKrJZP5aBZIpgFhxSzy2DaJIf7YUjMRPZthXOF5Gy4NI4n6YnHqQSU2kZhKWwfhTBLDBoLxYysg6KhZGsk7IRkE8j1G0xayuv+T2GhDGaU//ajkJhjCKYBQbfi7VRLE0Q3wvTJebLtsIcFuSVl5qNCcQxESuzgi0I3S+nWCj0KIJZUBBoBGCdWQseWVxI8lZvwmwPrJhmdTPvxYkWE5KxYJL3JAuNW+FNSHxZwq6F9aF6xYKCj0RSnUWELJG4UXkvIRHEYRU0REaLYRIBorFqGg0GqWUJyvLBFCahCGZBwbHLRKK90DS2Z22RMUIy1qS1KDVCkWPD4cvxa4Fsc536NV0LhUmo3rFAiOCb08K5S8Af/ehHb0jeyxgWReLAtdI8Zy6HL42JaUR7Eq3aSFIr7JwoglkgIBEbQed7obmY20LQp5koOacnoP47MINSJj6caCquI7fGGwRf//rXD29961ubk9dq8/H5wPgahQLUWwUWDMyUU045pWkx1nW19OJKa4vY5xwvFrNcgIhTT0i0Ea+3kE9jKQFl1ec4v463KAqBe02ImdrORy5+q8e8mqxU75xJbSgsL4pgFgTRLmTsetkYYkEwcbBOEuycY4kAGojV5n1HEBLzHPOOZPu92pRmJGLEPKKd0JC8E4cfhhbjtSCu6d3QNBttQVoJY3M496/DKBSKYBYEEVqLSdE4zJj22o7+PT+TYD9NwyrzfCnmLMlbsc/MaxAZyms+mEb8O8gGeTifhmKiHq0JsXjHj+95OyBfjXwc7zVWD59Qv95JiK6wfCiCWSDQFN7xjnc0rYUmkdyXHmNBzm9rkHjZF/8JbcbrSxGMfbQUa8jQVKwjoyzSQRo0HARhhrZyZm1bd8ZrVL0p0WtVncvU8jpUGhDtSN1j31CRzPKhCGaBIDR9/vnnN5+I9yPndZ7BNHIBRETo+UyYSaeffnoLPfO38LUgFolzSAKZeP+zXBhaDDKyQp6QuOkIiEduDE3F60i9xJ1W43e0GdoNooo/p8hlOVEEsyDgfH33u9/dTJNnPvOZLXoU7WU9AsxPgghoIbQT+Sy0D34Z5CA7GDl4Fao8GITEvBJRQhjITVnnM6eUQS6OaROiQkhIrH+ncWE5UWHqBQAThXZx8cUXtxT+rEpv/3qQ8vwmXivKictZLGGPRiPXhYMXgajf5nr7779/S6gzbcArWplnXtyOPJhbnL8IEHnxDTlHWxGXa663nZDztuXcwvygCGaOsJIwMWeYKYQXAWwP+EisHYNcOIq9YhQQiHA2Lcm1kIbQNVKhLSEZvhnfvUhdCJvTmF8omb6OaR+HLy0m97QWopCP4zxOaKRnzhMtiZlmn3ZI/KNRZXJlEdB8o0ykOUEEJeaE3/lOcM8666wmfOYHZVGp9ZhGkLI+aR9IgfDuu+++jXREmQgwRzAi8f2iiy5qWopr77333s3sEbmirYgo8bfIiUEmfDxISHnnW76TyZTpBJPa2t8nLc31EB0TTPu0iTbEfEN+iAfpqV+9IT4YP8PC5qMIZo4wFoz8RgJnnHFGM22YIMLGhIlg+cwGaxUugolIzDMS7aEtEFoOX/kt5557bnMq88kgHyTENOK/Adfhv2FSISvnZn0Yn5y/HNHJt5nULm3OfnVJ5LP8A+KipahT5Ayp2GdjjrmGNiIk5Cs0Pp4XtdbnUJgtimDmBJMEwj6mgJepiR5JcBPJGee+hGD8Xk2wQkSEkcaBIJg5CIVAc9YSWCYSH4pye+21VyMXx0JqroOghKURDNPt7LPPHs4888wWPj/88MO3rp7fE0mP7KP9nHbaaa0NnMbPfvazWxQLmQqFC4NzOvMZCdFrJ9MphIacXIdphiyD1Z5FYfYogpljEBDCJ4JDwyB0EdpeeHpyWYtQpfyuu+7a8mCYQn4ncQ6RHXLIIc0cQzYIjhaB2Gg4yW9BLLQIuTHqiKPXhoyYcq6hvZOQdkjq+8///M/mD3rJS17SSBT5JeKlLivx8xkJiVuZH/F4FvxFNC1tUBeSidYE+SxsDopg5gCTRvj85tzkfyHMfBoEry/rXLAv22roy0X72GOPPYY999yzOX8JMbKhMdAoINm9tAdC7zzkQ6DtQzBC2DQXhHLBBRc0gkACyqWdkGvn8+STT25E9fznP7+1pddCoH8+vqtfG7QP0Wgr/4xrWrfGb2akcpOe7SJhWvvzPOf93opg5gC98ATZx+/A9GAmWFjK6MxsctyWDjjWaqYh5/Ug0AiDtiE03QsmkpDnQphNiJSI51NZ5ILwkBB/i6UjJOfRijhine88dQeT2qhO57m/OIqnQbv656TtCEUbkRwfDtPNb88KJl1znpH7Q9w0V1nTTNFMSPUfIW2Y93srgpkj9J3Fdx1MNIUJwA9CkFNmXLb/vR6ESFYCIeZXEUEi/KI8/B9MJiTDbEJEMZ1oD4hF4h2fCYGwn7lHUAgM3w8CcA5thHnEDEodk9C3Nd+zaQeSYjLRZGQj057Ut2hwPzQxiZAc30xkznZ9gc/Js/PMbCuR8TygCGbOEIEBI7JZzvwfsnf5NCZpLym/LRifm/r6/a6jI+vQhJbwIgohZX4XPhJainPSJoSDeEIu7oWASOgjMO6JlpFpCghiErmor4dwuXwYpiPnrk+kohztx1QG4W0b0kJwMK53nsFc5PA2a57G4j74pfz/SJrGxwGPkD2/eSaZIpg5hvC06BFh5RvRmSLsfaeatfCkfp9MI5oCQaayG1m1iXN4HJIO2SBFZCTUTmD4eDLFwDnuJeeM4VykYtRmLhrV1UWrs/ELRSNSh3YhFbPOEaG20rSm1T8vyLNCHJ6TqJpnxez03/Nv0SD5qJQzF4wpyBydZ1OwCGYOkc7mfUfUfR1L1izhhghktlmhv0Z/Hd+NpkZQ4WJCTwPhC0kIPVAWURIYI7OXvz/rWc9q94Q4J42+TEOkwkzgvBUhYpbR5lyL9mMkBwQkV8YSFhLyPDvkRVsioK6DmPv2zyO0jybGoW9BMWRKs7PfM0Amnof8IGRuHy0SodpWIunNRBHMJoNAQDpHyIWQGZ1NHBQ9IjSS4xzf7M6UNjONCAENQofniGZGpW359AaCCy+8sI3GEvYIfDJw1WUjOASMJqIu9+4c5yIY5MQMQxjq4RC20YaM4urkEHUewqEJyDBGzJOWtZhHuNfjjz++JRPS7uT+eBZIB0nTGEXz3BdyRqoInQmVwWfeUAQzJ+gJw3dCwtZO/gvtoBfcvvxmQRsQDF8IU4lAEOZeK0GUfAnuJ0tA5LjzaSM2zkv3GzKSe4NsCBJylftigqZwunVrPA/XYgb5zkfBP+Q6pi8kd8d5HM58QfMM//MJJ5zQNC9kKQfJfSIRvilmn5C8501Ti8mIWBC7c2Ae+kWP+fUOLQnGZJHvOhDzgynC/IhQbrb2An2btSdCbl+0m3xyyBp9aTtU+zhynacMHxPB4negrUVo+Bxe/OIXD7//+78//Pqv/3qbB+X8MVFEA7LxTyh7wAEHtGcWJzCS2yjkvjYS2icD2nNCqDQzZg+ygd/8zd9sETnam/vz2zPUPxATIo3zf95QBDOn0NlssleFfecNvWAzUfhW+jVqgvhLEGXCqhFS+01TMCKr4+CDDx7+6I/+aPiTP/mTltGLZIzcveDk3H5fvjvGjOLj+Y3f+I1GfDSaMcGkjvVipfMcW0+9fVnzqjwHZpFnyLeFHPlYrBgogug+esevF97ZJ10AiSKYeUQRzBwhnU5nQS78EkwKQpNj8zRKaZP2aKPpBQkJQ9rJd6Jc/C6+ZyMYNDU+phe+8IXN/Mn9Ot9zQA7Kgn1+Ez6CRQDj7AXHUzZ+Cc/RvKrsh7RtvXDetHNXOpb7zQbKctwKpx999NGNOJiCQu3K+E3bY/7EROrvxcADCJxDPPXOG4pg5gjpgDoMwSSQVOVkbc4bIlTaacvvvrMTAPsIDvPGsZh71Hv5MUZupAJ5BikXjcfzYDKcc845Lcri/UwcopyeiDjX9QmeGWFkchnpHQtS/3q3lYAMEYa8IP8fgkCg7t998qXwM4mCaTM/EfPwX/7lX4a3vOUtzcHNv+I5Il312fijhNwRET9TnhPyRDzzji2/eHDzSX1LBH9BBANEDk466aTW0X7rt36rOSmhL7M9yF++Wn3Tyq10/vjYm970phYVecELXtBMHoLvGOHne5HPwSzabbfdtp7jUz02xCJcj1xEqwgtP4UNOXF8xueifOrwDI844ojmt3jVq17VSCxtS7lcI8Jsi8aU330Zn0gkv8GnfTQpW74jGt+RjXbaEKFjroEcaGIIk2ZihcDf+Z3faa+QkefDnHS+54SY+bBMQKXl+C1sr7zv//AP/9AyvX3P/c8LimDmAP6CvmPoYEZpnYoNziaHjeo84788wtbX73e/b3wMJrVnXM8//uM/NgEyCVKUKU5exPG6172uEQOnJR8N5HyCaMQ3yiMomgyfCqJAGjQioWhCxX+TkT3Xds5LX/rSNuojGoSUF/gjBZpCSAMZxE9jnzr8DiEgCVqQ7zSNEIg6nI8E/Ia0H5EiCe2SCKedtA5hZceYjJ6F1QAd+9M//dPmW6FxGVyE5t2jjQMdOTOLlLXRav7iL/6iObb/+q//ukWcXDf3Py8ogpkDpFMGRjXvgBZi3W+//W7i29hWuEZGXfBdR3Vdx2wxXSDdYns77N/+7d82gSTsiME1QRjZyMs5bBZ1FtFyPSM3jcUawciJliKfBQn10xKQgC0mGqS98mFEXDhDhbdpC7SaHM9nzAy/1ZF6EUbMHBtych9IB6EA4kAYnpt6kJj7893mf2P2aLP7Uz7laCII8+/+7u9aLo+2IlvgX7IQGHPK/8TxS4tVh+u5fw5fSZh8V694xSsameX5zROKYOYAfcfQod75zne2fJADDzywLbpk5NtWEBSmltHeSOw6UeOFfY2OOu24c07qqMpkZM+W0d8x9RAS7SV07uVv/uZvmlCJChGS7EeifA+vfOUrm4NYGXBdJpGRHSEgB8cJ4zQC7L8HQt4iSVbWO/LII5vW4DmkLCif9jBhhNQT2qaxIBUaC+IJMYRUbPZFo7App77U61rq8bx9dx3Pivbif/XsETDz0RrH/f8sqY4WY/PfaYdz81/RYBA28xIBh7jnDUUwcwad/Nhjj21OQQIiGtIL1noh69PkQiO6TqounzQDEQrag2sQnAhoPgkGAolJ4DwCQwh1egKItBxT1ogtIqTjEwTH/v7v/77tl9OSlHbCzP+CRP/sz/6sqfeQ+zz11FNb9qpkMwuSG7nTJt3V93Tb7B/DZEE+CqbF7/3e7zXzQjudZyPs2kxL8SyYbL5rG6KgJdhoBhL6fNqQALJCLv3/kjpBm3yn6YSsYkYhCc8a2breG97whuZns2JgyAN8qgfRcBKrJwOE/BcLdAnH/8Ef/EF7vtOew2ajCGbOICfkuOOOax2G40/YNp1tW8DUQDBIgXAY6QiUdVN0WglsL3vZy5r9T2hiBujMzhEFIXyEBKmEaJRRV9R+v9WvPiOq7wiIGURT4ksiqO5DfW9+85vbtQgIH5N7JLCuwzGszO/+7u82n0vuvX8G6bbTngsNCHm5toW0CKFz8iwRgM9oc9pLS2KG+bQxbfhAevLdVozb67fsZz4qJg6CQVxpoy1mXw/t5p+TmEjDZWI6b15RUwXmDBybtA1p7/wO1PLVOnc6L4zLOkYVp5IzF/h11Gu/Ds4cobIn5V8IlZOZiZHV/WlBRnYgdEiPcxGR8HFYbIoDlybCX0DjQBYIhinkHNekEQDS8uYBo7hzCTdoO/+DSY3abBZx/C3j+5q0rwcTwjW0yRb/SMwdpIHwtIEmR/MSiXE//CNZCsE5rhOhh/xeCyaVTdsRG6JHZp4nosixXjsCdSgvvM0JjHjN6/K/KT+vKA1mDpC/QEdhGnDwIQIZnDr5NEz668adjUpO4yAoBFnHpW2IzojiCP2KwhAswkeDiIlAKHV+pEHgfacJENAx+nsI+FBEODgxaUmIxghsmYU3vvGN7YVuFvh2LedrmwWWpM3zuwg/r3T/0+CeX/3qVzcz4s///M+Hww47rPmGXNt1tDFE43vf9hwH3/O7L7MtyPmgDhvSfv3rX99MHiZkJov2mgsNi3nFVEK+wthMKVG5efa9BNtu3Bc2FOm4yIAg0AImdZ50+r7DrgSmTmYlS9YyoZAQE3JkouNKVWcuIQB+DxEf5gkHLDPNSCnca8TXpggq+J7fk9pFQBwPjMJ8CsrRHsbqPb+E8mNBm4bx9UAdwtQI0UiPpAila9FcbH4HaX9/H2MgP1vIYT0bjH8DYuVjcj1+pxNPPLGRK83LAGCg8V8x95jNXh2MKP0/TFr/xaS2zhOKYOYAfacj9PwchKFXk/uOP+6ok2AU5zAWDqZSi9jopJyrzBb+FHY/ATS5jkOZU5Rdz2yhsfS+h1y/b0c+QbkIYA9C0N8H4WeWUe2RKIJDOs4zovtN+ENmK2HcnoAJxknOzGTqIKpJZfM97evbnmP2je9pvUgd/Zb6aS20O2Yn85iGIkUBsfjkrGYy0z75WxB//GWgrnlGmUhzBMRy1FFHNdNCWJdp0Y9S487U/3XptEKxhJTaTdD4U3RW5g4fgwiPTYeGf/7nf26OTI5GDtHVOuykttg36TyaijwPQuR+kAo1n+lCq0Bw/ECIwMjM10OgtI9TOFGnaZj2XJiZf/iHf9jML1m8Ikgpsy33Nwv0z8xggHg53/nBmET2OU7L8f/QLml1faRp1m3cCJQGM0dgHhnNdao4StOZpkEnQ0yE04xca6/QWKjcHILOpw1Yi8VISXAzqRDpMAsIfm8yrAdp3/gTaGHupRcEBEiImC/ukWlm1GYGIAaaEzPN8ZXIZRr4l5iETEPOWkTm+tlWw1rLbS/6a9Cw+LY4o/meEK/Il40vDuEimP4/2hFt3AgUwcwRmEcIhjo8NpEmdSj7EARthd0uQY+PxflIxNwVDs5EcOxn9tCKnGvENHIKzfbm0HrgnGz5HSAQJEbYjcrIx6d7JFB8MJZooGmIcDHPtJm/Zy2E11838CxEZmhEa43CzQM8G+2M89n/7xn0JqYyPYEvAopg5giEPRGfsYNzWseiStMCnCsaxGkofZy9LsrAXudTQSYmFnLo8s3wwQhF67xMo/VoMJM6unZou88gTlXto7k45jz3hvAIkiQ/0TKZrJzJwrWIcFtAk0OwfBb8SuraVs1sRyLPctp/DDk2iVTnGUUwcwROTiN8P2qlM03rfMoxK5hAwrpZatEI7lx1Ubmp2YRPJMIIzywxl4UZIQyt3Fox7uAiRXmNCZKBtJd2ZB+/EAJwrmNMmURtEBFNA+n0o/VaoFzK8vmIwqg3r3lR31rr2iz0z3NaW5UZP/dFQBHMHIGgglE3ggYrdS7aAEGiCSCaRBd0VIJmy4pz0uZpEzQZSXRIKIK41s6bcn15/h+ZpQgrCXk5rl00F5pTzD/3RqNxvyGIbMFa2wPKImYZy8jT0g98GduqCW0G3EO2nQlFMHMEnQthTNIm1tvxCHFPUkiGhmNiHY1GRInDlxlFgwgh9UI+DX1bZOvK2UBYnMVjoSbsiKzPteF/EeGixYD6tHVbhMs5CEw4Xgo94uLTydIGKVPYHBTBzBEIQi8MEfbx6L4S+nJjkhFRkbFrgiOHKj8Fs8Q542uvBXw5NAYaEcesyXdCqT2EWIWp+YBMQ+D45dyl9dA6+vat9R7HENZ/+9vf3hLTTFmwxEXasa11FjYGRTBzBBrEJBCSbKthrSSRunpiWY1k+jaIDCEXyWBMLJrRtDwac4oQDROGn4SPiFOaFhOzcCWM773/LuRtbRRZsDQj66ogu0VJRNvZUQQzB4jAjAUp6AlgI6AeW641/r0akAttQc4Nk0fUKks5TmqjY9Z1cZ5JiISf5mQiZZzCOa9vQ/88Jh1HVkLzb3vb2xo5m5+T5R0K84EimDnCSkI+SXA3CslNmYYIujYgCdm2VpuThi+PRYRqksbQ34u8HH4f0SZTFRCLLN4+6jRt66F+0SgLMTGLTIGgxRx00EHDoYce2ghvls+qsD4UwcwBIhBjn0kwK4FJveYGxXzp81h6KIsMkIssYdnBzCI+j7XkmtAqRKwk1PG/cMpalsEETIQRrHSviNAcI239j//4jzblgKnFec00kveynnB7Yfao9WDmCBE80RjhXWZEBG4WJEM7UK/s19NPP70RCK2kv27KyDIWhqa5CIfTGDhvJ5FLr3U4N7/Vy0/DH8Ppa3IfgqD98MXEH4NkmTyiTDQmSYEWw2ZSyd8REjcdAESMzHOStSsaBml7YfNRkx3nCEZ0PgUjMQGetbqfv56QH3PMMc3skC8jaS9+DNcXLUIuktiQiyhUn86fevq22jf+DfbRREx6RFaIDcEIZ5vZrX4EBAhPXg1nMDMIESIb+0XEmFx8Lsg45AKzfGaF9aEIZg4QYRTuNemP8CIYE/764xsNWgKtiWlkfRjXpmFYIzaJanJX5LlkIqLwNjKIzwV68lgNfXfjj7HwlOxiPiChZfXSYGgz9sU/5NqmHdCCELCJgBIHZSGPp1UUwcwPykSaA0QgCDozQGIa80P6/HqEd60IYTF7JKclA5d2wCfiu9nW/BnIRbQoZtGYXEBd62lfri+sjCCEuZlmNBek5rhrIxRmEg0L4Ql3cxbLt/HJDzQmF1hPWwqzRWkwcwTLKwi5EhwvCyPU+XtmITQcpq997Wtb1qsJka4VxyuzQ/avNmmPCE0fLdoejO8JgdCUmGJ8LrSWOJtNXGSaWRBLkqC2MN/65zHpGa33eW2UGMzif1pklAYzR2AaeKsATYIGwQeTEXoWHdd1OE1NHbARYMSCYCSvcTjLYUF2kyI0k4Qc7EcQiMN+99CX9b3/zX9Ca6PJMNFk+vLHIDjnawe/D+0py0pMI4S+3s3AZl9/3lBh6jkCnwtNIosmmVczyw7LBGOW8IXwsZgvlAmIriuaJawcc2kljNvJ3FMnsuJDmUYIk5CyPp2rTTSbZDqnfeMtx9Z7rfVshfWhCGbOgGAItNeGWrga2UR4NhoIBqmJ0MjMlbjmnURCwhaq8r5kkyETLZok0D2ynw+H38ZUAqYPwZxUfhomCfX4czX056+0bTRmUeciowhmzsAsyitE8sI02CiB6OthmmT5BCRC4+Bz4UD1NgHhauYK7WWt16ZlmFntLQaS8Jg1a1k2Ie1yfq7le7SWoCe3nJPvY0zaV9ixKIKZQ0gaE4KlwUxaxGl70GsSSEwkR6iag9UkRDOROX3lnPCh9AK9FtB+RKY4qL3lkV9lUnbyJPSE0WPafWe/z7Rzve0tzBZFMHMIQu9Ng0K45u1ISuOH2GjBIficprQW0wVcj7CKJAmXi+YEa7k2P8nZZ5/dXvuKXGg/SGwaQYwx7RrTzld+ErnYwP3l+0ZgLXVt5PV2BhTBzCkIp+UvzdOxoLds1u0FYYxAMj0QFy2JecRc4pilubi2vBNO3rUKjPqk/jONmFjWAlbnesnFZ/8dxnXkd8qKWMnpsfUmVV9XYXNQBDOnkG/CVKLJyAXxSpKYStsLpIUMpOqL0ljZTvKaV2RIvTd50DuZEE8IaTUwp5ALYRfyTrr/WgkGXCdaR7/lWNB/V57mJJSNiE13iObl2v31x7/Xir4dY+TYSmWWGUUwc4ZeCMy3ESaWDyIiQ+PoZx6vFamTAGSpA+n5Jhxy5IoY2cyOloLPVEpC3TShUR/CE0oXNRLq1j6r5K3XNJoG10YgzEOk4TNwLPelDGe4nB5zuZh4fo8dxCkPayWDlcqttY5lRiXazRn6Tuu7ULLNGwGEfL0FEfEQqoDQTOvsvUAJeSMXb3q0yj9yMWFQqFqdMmQRQzBuS5Dr8dNoF5+LsDoTy1wlBNO3L5jWxjGUs4UMkSuNiL/IRrNyXDtcBxmGEN0XxzjSE5Ezd8k9pfxKz2qMlcqttY5lRxHMHCKd1ycB4gtheghbg2zXfkmFHv2+nlwIKxKwxCXNBbEgmH7tWiP+JAGc9pvgmyBpvpLFowi+6BcnNYFPubQDxnX16NuLDLUXGUoA9FuWs/sWmUr9Nu12TdnGyBLJeOcTrcfUAvfoOab+/jqTkHqnYaVjhZuiCGZO0XdieSjCvhEco7j3NnOijoVh3PnzmzPXOirRXCz+1C/J0NczrY7Ab74b2cbIhcbAp0OgOaNpD9pIK4pG1BPXuL4AiSICn/xOzDjRLe01hcGMbxBO70kjhOE5eS5MSu3jt9Im+9yr8rBSO6a1LVjteOGmKIJZABAgyWoExajO10H9z0gOOv648+e3EZ6pYe6R6BDtJeQCKwnNpGP28XEgGNoFE072MaFnNnl7ACKjTWhnr80E+d1rEyEh0wvk0jC9vPGRE1rCHsLITPMQjPL5dJ8+HVNebg/HM+JhWiK9XCtk08P+1bCWMoX/QxHMAiCdmnDRCpgjzBwEwzfR+00mgXOUkJsNLbuWmQHqTd0R9DEmCZR9CESODjIQ7bKGjMWqTFIkyDQPBEHz6idtjtE7Ygm9c04++eSmwQh3czprmyxjWhLNiykU7a1HCMbmuITBLIGBdLTFcwiR9Rj/noS1lCncFEUwCwbrpvB1SI4LySCejMi9RhDYR8D4KTJpcZqw2N9v0/YJS/OPiB5ZttJaMRbKMnfJui38RKI52sVkCamN0ZOC7yJBNBXkQGNznzammCkUEvjcxyQNBNxrnoFrel60GBoXYkLQuYcek/aNsZYyhZti8r9UmFvQBOSZGN2N6EZ2qf78FtNAGG2TBKQXyDGUnyZUIbX4h5Ae0Bw4VmkazBIvRRP90r7UN21jbiEl5CQ8j7y87wjh0Lzk6tCGQi5pe7bUk2OuKaIldM48ZCbyzaRMYfYoglkgRJCMzEZyM6+N7lb69wpXxyYh5JLz14LVhFD+C3MDwRBcZgifR+rnM3KMVjKJ/NKWnvhMkqSV0TqcixSYgEwvOTo0mpALTGqjfcrYXNsnvxOzTTIeB/T4vNXuFdZSpvDLKIJZIKSTE0xaAsETXSGYQthS5YMIegQ5W/athGnC1J/vmgjGdAZagVXnaFO0DZqVyBLNSoi9j+AEaU+upe3C0Ew5ZOA7M4zmwik9ae3dMdSHVNLOXJMDmlnFTJIcqMx6UOSy7SiCWTDo7Onw1H+p/fww8lskvQnLjgUiwjzGpH0rCVOOIQ7hcuQhwmNqAd8GX4dM2rzKFUw5yJymvh3j6wijc/AiA/cjbycaCCKzJcFuElKvz5BMCIbGh+TUOZ6vNA2uk62w7SiCWVBEoESGmEtGd4s8ieoQpAhGLyj9lvN72L8W0F5oF7Qnjt3dd9+9OXnlq/DHiFrRQjh/OX0THu6RdgTMF7+Fl9UZhyzCZGIhC1t/Tn8P2d/Xm+POy5o06rO/r2eMlY4V1ocimAVFhIDwmLnMXOojO73fI0K3EUKlXpqGXBTOU9oBfwmi44Q95JBD2nQBmo21ZZhyfd2TrsPEosHwsSAtn9YCHkd8xudO+p0t6EnG/t6EGpeF8e/C9qEIZkFBSCIoEt1Elgg4TQDJcJbmeI/+vGA9QuVchJaFqeLItV8EiQZDA6GJIAiCDSsJs7bKABbORki0MebQJJ8LMlLeRhuBvt58zz367bupBj4nmVl+j/cVNgZFMAuKsVBwju6zzz5teQehXpGlrIfbY5JwrQcIg+aSV5ioPyQyvlaw2jVoXEgqOT7AzLL1/hJJc/Jkjj322LaZOiAq5Lrja/Tn8buIcCFA4fWeuPrz1vssCqujCGYnAo1BOJffgyDKtBXq3VbBnwRkggRCKj3UN2lbDbQRZMVXk/LRivJbZMrL7pP3I/EuC3GFTFK2v65P5YXV5dD0SYmF2aOe9E4GJgb/B3PD8pXC131+Sj4jgNuDXpC3B8wXppYt9SGB/Jasd/zxx7dEPAl4XnbPFHNfcdoGOZ+Wku8c38LTEvgQ2ZiQCrNDEcxOCDkjhx9++NaFqrwatieZ9QiWc3oBngUI/NjngmBslvA0C5xjGXGKmCEcvhg+oJXmOblPTmnzmhALx7HrTEr8K8wGRTA7KZALgTTSM5X4ZJgJIYwxaUwikWllNwqpl6YitG7LPqTBdyLfRtKdZDtZvRzYNvfH3ySBbkyYfXuZVkhKfg3ida0ykXYc6knvxDBiH3zwwS3sy19hm+T4hUlajX1r0XbWWm6MnCMRT5Ytf1G0C5oGrQMp2ueYbGEmHwezvBsh7Tia+3tKe2g5yAipiHyJtim3re0trB81m3onBmEivNZlybIFhJWfRv7KWoQsZWYpkNrJaatNlntIbg3fDB8L569PWo1JniZSKhd/ivN7rSRtNV0BKckmtuwDB2/KFsHsGBTB7OQgSPwUNmu4mBxpZBfWlj4/zX/RY9bCKMv2kksuaU5c5CdcLaSMHGlhzBu5Nd56YMkGUwnSboRhg76dokumKzhm0SomFdIC5YpgdgyKYHZi9EIUTYazF8kI3dIUEA1NIGUnCeusQfBt/C2iPQiGtsGk8R3B0FgQS/JkevRttslottwmDcb0BVMZ3GtfprBjUASzkyJCFxAqWgx/jO/MJUtv+o5kaBG94OX7jiIczlrkok20D+3RLpoMAhw7ZrXLlnb5VAa58DWdeuqpbQHyfg2Zvmxhx6AIZifFWIj8JpA0A+FdwiuD1vq5Et1oBjQGn5P8GbMWSteloYCwsrWHmXKIBsnQcLShb0d+Z5/7EJZHLha78q6nvKMp6M8vzB5bftHpbjrUFXZa9H+17yYYCmETZqQiKmMOEQJKUlow7iazElRajNna5513XoscIUQTK7WLuRStJv4UTl6LbQllM7GsV6ztokzOmWRSFXYcimCWCP1fHYJgUhBK4V+RJmVoEiIvlkygAdBsxpgFwaR9SEMyHR8K0vBqWERhKoS28SfFp+KYdiMY5yNJTl35P71ZVNgcFMEUGmTKElKJaZdeemnLPyHECIYmkJeaxdzYaMHtu2HqlnjHGS3CxDfju9B1iMOWvBnEI8JkBTxaT44XNhdFMIWtoDnwewhnW2dXtImfhqkkkpMXoE1aQGoW0B5kgkRk9TKZsuwlooHMkOa87qcNFLnMB4pgCr8EXQLREGYajTVmEI2JhlL2xwtBzQoIptdE/EY2PtNtERBS6fNioAhmPlAEU/gl9EIqg5a5xDyhKYjO0Bp2BPqu2ZNMTzpgHyCbwnyhCKbwS+gJJqA52E9T6PfPEuN2+N0TjC37fCKYIpn5QhFMYW6RrtkTzDQ4ZkMwKV/YfBTBFHYa6MpFLvOF0icLOw2KXOYPRTCFQmFmKIIpFAozQxFMoVCYGYpgCoXCzFAEUygUZoYimEKhMDMUwRQKhZmhCKZQKMwMRTCFQmFmKIIpFAozQxFMoVCYGYpgCoXCzFAEUygUZoYimEKhMDMUwRQKhZmhCKZQKMwMRTCFQmFmKIIpFAozw9ITTC1JvHio/2xxsNQEUx11seF1JXl1LPg/6z+dLyz9WwXcfi0WvZj44Q9/OPzkJz9pL4Tz2ti8E6n+z/nB0ptI1RkXF9///veH97znPcMZZ5zRyKY0mPnDUhOMF6h/+ctfHr797W+379U5Fwu0ltve9rbDxz/+8eHss89uL8WH+h/nB0tLMDrh5z73ueH4448fPv/5zzeCKSwGQiB3u9vdhuc+97nDwx72sOHcc88dPvWpTw3XX399O1aYDywtwVx55ZXDOeecM/zgBz9oo+AtbnGLMpcWBP3/dI973GPYa6+92n941llnNZ9MYX6wlARjlKO9fOUrXxme9KQnDQ95yEOGm9/85jceLSwaHvjABw677777cMkllwyf+cxnhuuuu+7GI4XNxtIQTG+XX3HFFcPHPvax4da3vvXwmMc8pkUhSntZXNzmNrcZnvjEJw73ute9hgsuuKBpp4X5wFJpMCGZH/3oR8NXv/rV4UEPelBTsXfZZZdyDC4o8r8hlz322GP45je/2Rz35VObDywVwdBSmEff+c53mhqNYG5/+9sXuSww/Kf+v1133bVpo3e84x2bFkNLBcfq/908LA3BxASiPn/ta18bbne72w13v/vdtzp3y0RaXOS/o40+9rGPHb7whS+01IMbbrihyGWTsXRO3h//+MfD17/+9eEud7lL+V52MtzylrccHvWoRzXtlAOfmVT/7+ZiKQimH8Uuv/zyFsq8853v3JyDk1Cj3v9iM56Da27Pde9zn/s0TeaLX/zicNVVV7V9RTKbh6UgmHQwE+N0OqozDYbdPsZaO3cEYSwQaz1/XtG3fy2CuS33O35mgX1MWP+RiYzZtx7wqfHFXHrppS3HKfUUNgdLZSJRnWkw/C4Ihkq9vSCEvSDO42gZge63aZjW/mnnbe/99nVedtllw3nnndcycq+99tob9/5fmWlt6CEi+PCHP7yRFGd+ZfZuLpaKYHRa5pGkOjkwOiP0nZbA+K1jIqRJm3rY9/murI2GtJoA7CgQMJMBr7nmmu1uEy1gXEd+u46pFl/60pfa85h2Lc8LgSivTJ5zD+kDH/3oR7f6T0C5kFj/fSXc+973bv8vX5v5SdPaVJg9lmq5BiPaySefPHz3u98dXv7yl7cMXh2WAPWdl1ASGiOp75YB6B9TyiIqn1dffXWrw5yYJz/5yU1N32yYAHjhhRe2DNdHPvKRa9bWECYt72Y3u1lzgvvM8yGsSOJOd7rTcKtb3artk7BoyoV7f8YzntFS9u0HzyzfZdl6njTHxz3ucY0AELLjWWbh4osvHv793/99uN/97je85CUvadcxINjPrH3EIx7Ron+pcxqQ02te85pW9sgjj2x+mVyjsGOxVE8dWdgy9whCHD2B+E6YEJLErW984xvDt771rfbdJ9seSRGu4447bnjTm940vOMd72iCkJF3e9G3Z63oz9HOM888s4Vs0yZCSkuwtIHv4JycJ8JmPs973/vedu/RXAi0jX/E0gjyTJAqMrrooouapsBpPiaxvm7PDMFIgpum6YSctNdxyZAnnnjicMIJJ7Tn/L73va+R36Rz+2v5b02EdK/a7D4Km4OlM5F0biNbCAYiQAFBMSK/4AUvGF784he37UUvetFw2GGHDS996UuHZz3rWS1SwSyixQiNPuc5z2nzmqZFpnoQhAjvNPQCsy3QLslmNpqC+/7EJz7RBNUMchoOsg3cy/nnn99mJTNj3EdMSNAWWotjCAhxmc8lp4hJct/73nfrfK60u3+mviM118xxWkVfhtPds0cw6j/11FMbKSEL/xmCcb2Q40rQJvUYKIpgNg9LRTA6nI16HmGAMcEQLGuNIJlHP/rRjUCy3fWud23aC5WfKXTQQQcNf/zHf9xUcabIpMjUGASM0BtdCRDH5gc+8IHh/e9/f/tulI8gRhjXgr78Pe95z5bVShgJGO0KMZgMyF/y7ne/u4VyEYt7p/HQTAjy0572tEagvVmhXsf222+/Vp/1V0455ZRG2k94whMm5hT1zxU5eeYh1hzrz3EcsdEYaV/IZO+99x4OPfTQYf/992/mGc1qEsGM6/L/hVjX8wwLG4ulIhgdk0DRXvrReRp0WOX4IQgbU+D0009vgkh4kQsth4CZC4Nc+k4+CT0JUPc/9KEPNbPDRuh9fvrTn9468kYg14L+2giGv0O7aR3MOWYKTUu77SPE9qmfY9U+pPqABzxgq7kzFlzHn/nMZw6f/exnm8ZDu7AvxDqtrYhDmZUc4QjGf4NgmUfmFrkWnwx/DPgPc/5Kz8V/hqRjbhU2B0tFMIRVBx+r5sG4I+a385DLu971ruY4ffCDH9xGVA5d0w105vV04ggtTYqjmdPThqh8IiuCNhbu1dCXRxC0BvXQTmgDyECbrZ+y5557NjOE2cSfIrWeDyTTJ6C/tu+eAxIg+J4hEqTR0eT8nvYMPHPCHr+W6FavWeTTc0QINBUmzlOf+tRGLM7VTtemmSg3hjr662sv7Wot5lRhdlgqgtEB16oR6KARGkJh7VcCKSrzvOc9b3joQx96E3NI+bXWm7rvcIc7NIGnVajz+c9/fvvOLGOO5PorjfrT4BraRwNjziERmgBSQz7MIJoK04z2EoJh6jgn99NfV3uAaRcz83vf+95WR6pzAucRcNempYk0IQkbko6ztq9fHc5BsAgQefmtPOczE/T+97//VoLprzeGMpOIqLBjsZQaTN+pp0HntRlNkQvfhZEfERhd+867UkefhtRPUAk1QqFxEGJCRXAJ/ic/+cnmpxHh0f6V0N+X9qkTsahHvRyxSEc55hNCQw5MJf4Y5ZFeiGSMEB4/ERPx8Y9/fNOOEADtpIffSOWYY45pZiUfkH3qEHHSDvff3xPthSmFxE1a9F998IMfbI5pz4b/J2bfanCuc5Dptvw/hY3BLn/1C9z4facHYRD54J9gmkQD6Ttg/516zdfAN2L0POCAA9qoOq2Dr6cjEwCju3wbPgcCjsQ+/OEPNx+PhDPEwrRhTjBdotWsBu2w0RY4pN23e6a1xJfhOHND3QgDkTJJ5JoQzNSRstm0+bTTTht22223Fk1DUJ4pYvJsEJty/EiIxW8mlfR9xElL4gNirqXOXAOYZ9FcOL1FjpCwSJ464hsKmfbn5zt4fu5bZC9r/hR2PJaKYAibCIpRkB8lgtSj/21EVV5n5WdAODQLHVekw2bOC+2CYKx1tFRG3VkNH4kxUSSV8TeA69E4CDIyRDDrqR8RIa+EnZ/ylKc0raAXUMKvXqYORy1hJNxjYcw1aRtCx9rKhLGKnHYyHeXD0ExCMp4JMpF8p17PnBbj/hCd87TBM7XPc/WsES1i5ZSWr8MUPfDAA5tvKr6hnlymPQ9aGfJz32vVegobj6XK5CUEEuIIrk5LGHp4FH2HRQJGbPY/InGM8CgXU4swEoJ99923+Q7WOlI6n+lCeyG4tBOb0Rrx2ZgLPl1zW8C/cvTRRzftQv4ODSDtz30SPARkH40O2UwTWgT9T//0T+35iZ65XwTBjJEhjQCElDmr1ee+tN815OMwl2hkr3jFKxqpeKZ8McnXYUI5BzExQz1X5ErTUkfarYzPcTvz2//2l3/5l+2/+O3f/u3mayoNZnOwVARjhDzppJOaIB9yyCFNQHqkA+e7jiysbXQlGATRbx0YQThOI4imkWjKWkE4ba5JAJy7nvNXgxA0U4XAap/7Dlwzf71r5neeQZ5DD8+PxkUjkROEPMBz+chHPtIIjemDZJB3X4dn9va3v71pJ549bY22wkQLqdCAmHL+F+fbF0JMW9UZggnyPZ+iVK9+9aubs5xppU0b+VwLa8dSEQxtROo5kjjiiCPayNYjwpXvkA7tnJCKzXEbYjByE4R5GyW1l2ATLppJ4J603X2Aduc+7Q/hjIGw+GqYVbQrZVIOyXi+hJs5wwmcYz7Vy2xBRJy1SITWkuenvuTKaOt6CGHcVtf413/91zaf6elPf3qrt7A5WCpaRwI26jnNYSX0wqOz01SYL0ZVmorID9ODVuDY9pILAdxoaBMtQ/tCGrmnfM/v1aB9SEOY2DMYn2cfP44IkOczhvIIHfnwiSAYDmXn8If57Xlqq7Kut5ZnMm6HgYBzmzPb9eLIL2wOlopgCJtObGRfjWB6zEL4dwT6dk+6B8LZayu+T9MclEHO8dFkC9TvOHLxOQlMSZEqZBKyR4K55riN42tMgnP680xwZBby3SAy9U+698KOwVIRjFE2oVnq+Uok03fc1Tr5RmAW1+jrnCSsa923XvR19HXRAAm9/2GsUUF+h+hyLPuzTYOBg1+HGUc7cp0il83FUhEMW1+nk2OhE65Hi9kZsZKwrhdj4Z9W90ZecwxhaeFtTt1k/BbBbC6WimCMihx+Op4oBqJZNoQIZinowayuMb4HnxzUQv4iXcwwmuqsrl9YO5aKYIDzTwhU6Fnko0d1yMUFjVQGNCexKQz8bT0JFTYHS0MwUZXlWnA2Iphpq6NBdc7FgP+I9iJrWSKlaQkGkDiO63/cXCydBiOsbFaxrFEkI6xZWGzIz5H7QmuRBMiZXJgPLA3BZBTjf5EoJj9CYphoUmFxIZFQWNq0g3322adlAtNeaKbZCpuHpdNggB/GXBeT70yoq064uLAQmMQ6M6atrZPpC4X5wFISjGQw81Rk9Jpj5LOweLDWDe3F/2fWdpaAgPheyv+yuVhKgpEP4+1/NBlrmVhaoLAY6LVNWbtIxlo9Zl77X4tU5gtLSTAgT0LHpGIzlWT3FhYDIRnTAAwUTCNaafb7zFbYXCwtwXD2JuJg4SdrnWQ2cWE+0f83vhskaC5ZsS7/X7aUG+8r7DgsLcGAiAOSocWw5YWuqdfVEecTMX+ySaqTmY1ccnwlrHa8sPHY8gvWX2ppkkNx1FFHNVveWrFZ97U64/xjPBDkdz5DRPVfbh6WWoMBs3stgCQfxir4tBmzcguLhZ5cxsRT2Dzs8prXvGZpFv2eBtEko5zFq81PypICNfItLkpzmQ8svQYDkrMsrSgT1FQC5lJpMYuFEMp4LZnC5mLLLwSp9MkbYUauNUU4Dldama1QKKwNW2644YYimBvBdhfqhBoFC4XtRxFMoVCYGbZcf/31RTCFQmEmKCdvoVCYGYpgCoXCzLDlZz/7WZlIhUJhJigNplAozAxbrrvuutJgCoXCTFAaTKFQmBmKYAqFwsyw5dprry0TqVAozASlwRQKhZlhyzXXXFMaTKFQmAlKgykUCjNDEUyhUJgZtlx99dVlIhUKhZmgNJhCoTAzbPnpT39aGkyhUJgJtlx11VVFMIVCYSYoE6lQKMwMRTCFQmFm2HLllVeWiVQoFGaC0mAKhcLMsOWKK64oDaZQKMwEpcEUCoWZoQimUCjMDFsuv/zyMpEKhcJMUBpMoVCYGbZcdtllpcEUCoWZoDSYQqEwMxTBFAqFGWEY/j9rYpVO3VbgXAAAAABJRU5ErkJggg==)"
      ],
      "metadata": {
        "id": "wl-9sbY9ULQG"
      }
    },
    {
      "cell_type": "code",
      "source": [
        "features = torch.rand(10,5)\n",
        "\n",
        "model = Model(features.shape[1])\n",
        "model(features)"
      ],
      "metadata": {
        "colab": {
          "base_uri": "https://localhost:8080/"
        },
        "id": "zZ_5WH2RS6Gv",
        "outputId": "6dc0dd7f-1501-4ba1-98a2-c2c9f06b09a4"
      },
      "execution_count": null,
      "outputs": [
        {
          "output_type": "execute_result",
          "data": {
            "text/plain": [
              "tensor([[0.5460],\n",
              "        [0.5051],\n",
              "        [0.5281],\n",
              "        [0.4912],\n",
              "        [0.5356],\n",
              "        [0.5340],\n",
              "        [0.5423],\n",
              "        [0.5205],\n",
              "        [0.5134],\n",
              "        [0.4764]], grad_fn=<SigmoidBackward0>)"
            ]
          },
          "metadata": {},
          "execution_count": 9
        }
      ]
    },
    {
      "cell_type": "code",
      "source": [
        "features"
      ],
      "metadata": {
        "colab": {
          "base_uri": "https://localhost:8080/"
        },
        "id": "MEVC-Vm1TWDf",
        "outputId": "f148c0f1-bca8-49aa-d138-f84a4850e464"
      },
      "execution_count": null,
      "outputs": [
        {
          "output_type": "execute_result",
          "data": {
            "text/plain": [
              "tensor([[0.9741, 0.4158, 0.9993, 0.9885, 0.3908],\n",
              "        [0.1432, 0.1166, 0.1815, 0.8376, 0.1228],\n",
              "        [0.3934, 0.1798, 0.4758, 0.3116, 0.4818],\n",
              "        [0.9505, 0.7073, 0.4163, 0.0323, 0.6233],\n",
              "        [0.6790, 0.1540, 0.6298, 0.4539, 0.4860],\n",
              "        [0.6675, 0.3865, 0.6905, 0.0790, 0.7117],\n",
              "        [0.5913, 0.6564, 0.9102, 0.3315, 0.6034],\n",
              "        [0.8341, 0.0673, 0.5816, 0.6833, 0.8519],\n",
              "        [0.4631, 0.9941, 0.6623, 0.4109, 0.1901],\n",
              "        [0.0424, 0.6736, 0.1662, 0.5342, 0.6780]])"
            ]
          },
          "metadata": {},
          "execution_count": 10
        }
      ]
    },
    {
      "cell_type": "code",
      "source": [
        "model.linear.weight"
      ],
      "metadata": {
        "colab": {
          "base_uri": "https://localhost:8080/"
        },
        "id": "4UupfkUJTiWP",
        "outputId": "a2b20569-16c7-4267-fde8-49d36148b847"
      },
      "execution_count": null,
      "outputs": [
        {
          "output_type": "execute_result",
          "data": {
            "text/plain": [
              "Parameter containing:\n",
              "tensor([[-0.0777, -0.1718,  0.3812, -0.0720, -0.0780]], requires_grad=True)"
            ]
          },
          "metadata": {},
          "execution_count": 11
        }
      ]
    },
    {
      "cell_type": "code",
      "source": [
        "model.linear.bias"
      ],
      "metadata": {
        "colab": {
          "base_uri": "https://localhost:8080/"
        },
        "id": "jQ28k_Z7TqdV",
        "outputId": "a40af584-0e56-4a62-c33a-a32e97766ae1"
      },
      "execution_count": null,
      "outputs": [
        {
          "output_type": "execute_result",
          "data": {
            "text/plain": [
              "Parameter containing:\n",
              "tensor([0.0524], requires_grad=True)"
            ]
          },
          "metadata": {},
          "execution_count": 12
        }
      ]
    },
    {
      "cell_type": "code",
      "source": [
        "!pip install torchinfo"
      ],
      "metadata": {
        "colab": {
          "base_uri": "https://localhost:8080/"
        },
        "id": "nXKKLD4yTtVC",
        "outputId": "e6beaa84-8876-4b3f-9ebe-1383987f722d"
      },
      "execution_count": null,
      "outputs": [
        {
          "output_type": "stream",
          "name": "stdout",
          "text": [
            "Collecting torchinfo\n",
            "  Downloading torchinfo-1.8.0-py3-none-any.whl.metadata (21 kB)\n",
            "Downloading torchinfo-1.8.0-py3-none-any.whl (23 kB)\n",
            "Installing collected packages: torchinfo\n",
            "Successfully installed torchinfo-1.8.0\n"
          ]
        }
      ]
    },
    {
      "cell_type": "code",
      "source": [
        "from torchinfo import summary\n",
        "summary(model ,input_size = (10,5))"
      ],
      "metadata": {
        "colab": {
          "base_uri": "https://localhost:8080/"
        },
        "id": "ujGOWSVSTzDy",
        "outputId": "44e4213e-384b-49ab-c9e6-b76ca2db19e4"
      },
      "execution_count": null,
      "outputs": [
        {
          "output_type": "execute_result",
          "data": {
            "text/plain": [
              "==========================================================================================\n",
              "Layer (type:depth-idx)                   Output Shape              Param #\n",
              "==========================================================================================\n",
              "Model                                    [10, 1]                   --\n",
              "├─Linear: 1-1                            [10, 1]                   6\n",
              "├─Sigmoid: 1-2                           [10, 1]                   --\n",
              "==========================================================================================\n",
              "Total params: 6\n",
              "Trainable params: 6\n",
              "Non-trainable params: 0\n",
              "Total mult-adds (Units.MEGABYTES): 0.00\n",
              "==========================================================================================\n",
              "Input size (MB): 0.00\n",
              "Forward/backward pass size (MB): 0.00\n",
              "Params size (MB): 0.00\n",
              "Estimated Total Size (MB): 0.00\n",
              "=========================================================================================="
            ]
          },
          "metadata": {},
          "execution_count": 15
        }
      ]
    },
    {
      "cell_type": "code",
      "source": [],
      "metadata": {
        "id": "0hZl8sxST27p"
      },
      "execution_count": null,
      "outputs": []
    },
    {
      "cell_type": "markdown",
      "source": [
        "##Neural netowrk with a hidden layer"
      ],
      "metadata": {
        "id": "tgGCT3rMUUof"
      }
    },
    {
      "cell_type": "code",
      "source": [],
      "metadata": {
        "id": "Is3r63EhUW0U"
      },
      "execution_count": null,
      "outputs": []
    },
    {
      "cell_type": "markdown",
      "source": [
        "![image.png](data:image/png;base64,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)"
      ],
      "metadata": {
        "id": "u9ejaMqeUgtA"
      }
    },
    {
      "cell_type": "code",
      "source": [
        "import torch\n",
        "import torch.nn as nn\n",
        "\n",
        "class Model(nn.Module):\n",
        "  def __init__(self,num_features):\n",
        "    super().__init__()\n",
        "    self.network = nn.Sequential(\n",
        "        nn.Linear(num_features,3),\n",
        "        nn.ReLU(),\n",
        "        nn.Linear(3,1),\n",
        "        nn.Sigmoid(),\n",
        "    )\n",
        "\n",
        "    # self.linear1 = nn.Linear(num_features,3)\n",
        "    # self.relu = nn.ReLU()\n",
        "    # self.linear2 = nn.Linear(3,1)\n",
        "    # self.sigmoid = nn.Sigmoid()\n",
        "\n",
        "  def forward(self,features):\n",
        "    out = self.network(features)\n",
        "\n",
        "\n",
        "    # #this below structure is quite cumbersom\n",
        "    # out = self.linear1(features)\n",
        "    # out = self.relu(out)\n",
        "    # out = self.linear2(out)\n",
        "    # out = self.sigmoid(out)\n",
        "\n",
        "    return out"
      ],
      "metadata": {
        "id": "p9I2G9pUUhIz"
      },
      "execution_count": null,
      "outputs": []
    },
    {
      "cell_type": "code",
      "source": [
        "model = Model(features.shape[1])\n",
        "model(features)"
      ],
      "metadata": {
        "colab": {
          "base_uri": "https://localhost:8080/"
        },
        "id": "qfVxN55sU5DN",
        "outputId": "320b1dc6-3eab-41b9-83f5-004a1358cc75"
      },
      "execution_count": null,
      "outputs": [
        {
          "output_type": "execute_result",
          "data": {
            "text/plain": [
              "tensor([[0.4395],\n",
              "        [0.4508],\n",
              "        [0.4752],\n",
              "        [0.4652],\n",
              "        [0.4670],\n",
              "        [0.4816],\n",
              "        [0.4693],\n",
              "        [0.4634],\n",
              "        [0.4504],\n",
              "        [0.4644]], grad_fn=<SigmoidBackward0>)"
            ]
          },
          "metadata": {},
          "execution_count": 27
        }
      ]
    },
    {
      "cell_type": "code",
      "source": [
        "summary(model , input_size= (10,5))"
      ],
      "metadata": {
        "colab": {
          "base_uri": "https://localhost:8080/"
        },
        "id": "SoEJep0dU8wF",
        "outputId": "90eafb7c-6fa0-441e-900c-b6c83128ac07"
      },
      "execution_count": null,
      "outputs": [
        {
          "output_type": "execute_result",
          "data": {
            "text/plain": [
              "==========================================================================================\n",
              "Layer (type:depth-idx)                   Output Shape              Param #\n",
              "==========================================================================================\n",
              "Model                                    [10, 1]                   --\n",
              "├─Linear: 1-1                            [10, 3]                   18\n",
              "├─ReLU: 1-2                              [10, 3]                   --\n",
              "├─Linear: 1-3                            [10, 1]                   4\n",
              "├─Sigmoid: 1-4                           [10, 1]                   --\n",
              "==========================================================================================\n",
              "Total params: 22\n",
              "Trainable params: 22\n",
              "Non-trainable params: 0\n",
              "Total mult-adds (Units.MEGABYTES): 0.00\n",
              "==========================================================================================\n",
              "Input size (MB): 0.00\n",
              "Forward/backward pass size (MB): 0.00\n",
              "Params size (MB): 0.00\n",
              "Estimated Total Size (MB): 0.00\n",
              "=========================================================================================="
            ]
          },
          "metadata": {},
          "execution_count": 21
        }
      ]
    },
    {
      "cell_type": "code",
      "source": [],
      "metadata": {
        "id": "q5pC6p3uVIEP"
      },
      "execution_count": null,
      "outputs": []
    },
    {
      "cell_type": "markdown",
      "source": [
        "##modifying the earlier hand made code\n"
      ],
      "metadata": {
        "id": "WdyvG03aYZjt"
      }
    },
    {
      "cell_type": "code",
      "source": [
        "import numpy as np\n",
        "import pandas as pd\n",
        "import torch\n",
        "import torch.nn as nn\n",
        "from sklearn.model_selection import train_test_split\n",
        "from sklearn.preprocessing import StandardScaler\n",
        "from sklearn.preprocessing import LabelEncoder"
      ],
      "metadata": {
        "id": "FRC6gda5Ychg"
      },
      "execution_count": null,
      "outputs": []
    },
    {
      "cell_type": "code",
      "source": [
        "df = pd.read_csv('https://raw.githubusercontent.com/gscdit/Breast-Cancer-Detection/refs/heads/master/data.csv')\n",
        "df.head()"
      ],
      "metadata": {
        "colab": {
          "base_uri": "https://localhost:8080/",
          "height": 273
        },
        "id": "xSQWTntaYqjM",
        "outputId": "6b929466-1408-4c16-b3e9-8f25d3f2a355"
      },
      "execution_count": null,
      "outputs": [
        {
          "output_type": "execute_result",
          "data": {
            "text/plain": [
              "         id diagnosis  radius_mean  texture_mean  perimeter_mean  area_mean  \\\n",
              "0    842302         M        17.99         10.38          122.80     1001.0   \n",
              "1    842517         M        20.57         17.77          132.90     1326.0   \n",
              "2  84300903         M        19.69         21.25          130.00     1203.0   \n",
              "3  84348301         M        11.42         20.38           77.58      386.1   \n",
              "4  84358402         M        20.29         14.34          135.10     1297.0   \n",
              "\n",
              "   smoothness_mean  compactness_mean  concavity_mean  concave points_mean  \\\n",
              "0          0.11840           0.27760          0.3001              0.14710   \n",
              "1          0.08474           0.07864          0.0869              0.07017   \n",
              "2          0.10960           0.15990          0.1974              0.12790   \n",
              "3          0.14250           0.28390          0.2414              0.10520   \n",
              "4          0.10030           0.13280          0.1980              0.10430   \n",
              "\n",
              "   ...  texture_worst  perimeter_worst  area_worst  smoothness_worst  \\\n",
              "0  ...          17.33           184.60      2019.0            0.1622   \n",
              "1  ...          23.41           158.80      1956.0            0.1238   \n",
              "2  ...          25.53           152.50      1709.0            0.1444   \n",
              "3  ...          26.50            98.87       567.7            0.2098   \n",
              "4  ...          16.67           152.20      1575.0            0.1374   \n",
              "\n",
              "   compactness_worst  concavity_worst  concave points_worst  symmetry_worst  \\\n",
              "0             0.6656           0.7119                0.2654          0.4601   \n",
              "1             0.1866           0.2416                0.1860          0.2750   \n",
              "2             0.4245           0.4504                0.2430          0.3613   \n",
              "3             0.8663           0.6869                0.2575          0.6638   \n",
              "4             0.2050           0.4000                0.1625          0.2364   \n",
              "\n",
              "   fractal_dimension_worst  Unnamed: 32  \n",
              "0                  0.11890          NaN  \n",
              "1                  0.08902          NaN  \n",
              "2                  0.08758          NaN  \n",
              "3                  0.17300          NaN  \n",
              "4                  0.07678          NaN  \n",
              "\n",
              "[5 rows x 33 columns]"
            ],
            "text/html": [
              "\n",
              "  <div id=\"df-cc1fcb4b-5322-4f49-ac48-a23590efa907\" class=\"colab-df-container\">\n",
              "    <div>\n",
              "<style scoped>\n",
              "    .dataframe tbody tr th:only-of-type {\n",
              "        vertical-align: middle;\n",
              "    }\n",
              "\n",
              "    .dataframe tbody tr th {\n",
              "        vertical-align: top;\n",
              "    }\n",
              "\n",
              "    .dataframe thead th {\n",
              "        text-align: right;\n",
              "    }\n",
              "</style>\n",
              "<table border=\"1\" class=\"dataframe\">\n",
              "  <thead>\n",
              "    <tr style=\"text-align: right;\">\n",
              "      <th></th>\n",
              "      <th>id</th>\n",
              "      <th>diagnosis</th>\n",
              "      <th>radius_mean</th>\n",
              "      <th>texture_mean</th>\n",
              "      <th>perimeter_mean</th>\n",
              "      <th>area_mean</th>\n",
              "      <th>smoothness_mean</th>\n",
              "      <th>compactness_mean</th>\n",
              "      <th>concavity_mean</th>\n",
              "      <th>concave points_mean</th>\n",
              "      <th>...</th>\n",
              "      <th>texture_worst</th>\n",
              "      <th>perimeter_worst</th>\n",
              "      <th>area_worst</th>\n",
              "      <th>smoothness_worst</th>\n",
              "      <th>compactness_worst</th>\n",
              "      <th>concavity_worst</th>\n",
              "      <th>concave points_worst</th>\n",
              "      <th>symmetry_worst</th>\n",
              "      <th>fractal_dimension_worst</th>\n",
              "      <th>Unnamed: 32</th>\n",
              "    </tr>\n",
              "  </thead>\n",
              "  <tbody>\n",
              "    <tr>\n",
              "      <th>0</th>\n",
              "      <td>842302</td>\n",
              "      <td>M</td>\n",
              "      <td>17.99</td>\n",
              "      <td>10.38</td>\n",
              "      <td>122.80</td>\n",
              "      <td>1001.0</td>\n",
              "      <td>0.11840</td>\n",
              "      <td>0.27760</td>\n",
              "      <td>0.3001</td>\n",
              "      <td>0.14710</td>\n",
              "      <td>...</td>\n",
              "      <td>17.33</td>\n",
              "      <td>184.60</td>\n",
              "      <td>2019.0</td>\n",
              "      <td>0.1622</td>\n",
              "      <td>0.6656</td>\n",
              "      <td>0.7119</td>\n",
              "      <td>0.2654</td>\n",
              "      <td>0.4601</td>\n",
              "      <td>0.11890</td>\n",
              "      <td>NaN</td>\n",
              "    </tr>\n",
              "    <tr>\n",
              "      <th>1</th>\n",
              "      <td>842517</td>\n",
              "      <td>M</td>\n",
              "      <td>20.57</td>\n",
              "      <td>17.77</td>\n",
              "      <td>132.90</td>\n",
              "      <td>1326.0</td>\n",
              "      <td>0.08474</td>\n",
              "      <td>0.07864</td>\n",
              "      <td>0.0869</td>\n",
              "      <td>0.07017</td>\n",
              "      <td>...</td>\n",
              "      <td>23.41</td>\n",
              "      <td>158.80</td>\n",
              "      <td>1956.0</td>\n",
              "      <td>0.1238</td>\n",
              "      <td>0.1866</td>\n",
              "      <td>0.2416</td>\n",
              "      <td>0.1860</td>\n",
              "      <td>0.2750</td>\n",
              "      <td>0.08902</td>\n",
              "      <td>NaN</td>\n",
              "    </tr>\n",
              "    <tr>\n",
              "      <th>2</th>\n",
              "      <td>84300903</td>\n",
              "      <td>M</td>\n",
              "      <td>19.69</td>\n",
              "      <td>21.25</td>\n",
              "      <td>130.00</td>\n",
              "      <td>1203.0</td>\n",
              "      <td>0.10960</td>\n",
              "      <td>0.15990</td>\n",
              "      <td>0.1974</td>\n",
              "      <td>0.12790</td>\n",
              "      <td>...</td>\n",
              "      <td>25.53</td>\n",
              "      <td>152.50</td>\n",
              "      <td>1709.0</td>\n",
              "      <td>0.1444</td>\n",
              "      <td>0.4245</td>\n",
              "      <td>0.4504</td>\n",
              "      <td>0.2430</td>\n",
              "      <td>0.3613</td>\n",
              "      <td>0.08758</td>\n",
              "      <td>NaN</td>\n",
              "    </tr>\n",
              "    <tr>\n",
              "      <th>3</th>\n",
              "      <td>84348301</td>\n",
              "      <td>M</td>\n",
              "      <td>11.42</td>\n",
              "      <td>20.38</td>\n",
              "      <td>77.58</td>\n",
              "      <td>386.1</td>\n",
              "      <td>0.14250</td>\n",
              "      <td>0.28390</td>\n",
              "      <td>0.2414</td>\n",
              "      <td>0.10520</td>\n",
              "      <td>...</td>\n",
              "      <td>26.50</td>\n",
              "      <td>98.87</td>\n",
              "      <td>567.7</td>\n",
              "      <td>0.2098</td>\n",
              "      <td>0.8663</td>\n",
              "      <td>0.6869</td>\n",
              "      <td>0.2575</td>\n",
              "      <td>0.6638</td>\n",
              "      <td>0.17300</td>\n",
              "      <td>NaN</td>\n",
              "    </tr>\n",
              "    <tr>\n",
              "      <th>4</th>\n",
              "      <td>84358402</td>\n",
              "      <td>M</td>\n",
              "      <td>20.29</td>\n",
              "      <td>14.34</td>\n",
              "      <td>135.10</td>\n",
              "      <td>1297.0</td>\n",
              "      <td>0.10030</td>\n",
              "      <td>0.13280</td>\n",
              "      <td>0.1980</td>\n",
              "      <td>0.10430</td>\n",
              "      <td>...</td>\n",
              "      <td>16.67</td>\n",
              "      <td>152.20</td>\n",
              "      <td>1575.0</td>\n",
              "      <td>0.1374</td>\n",
              "      <td>0.2050</td>\n",
              "      <td>0.4000</td>\n",
              "      <td>0.1625</td>\n",
              "      <td>0.2364</td>\n",
              "      <td>0.07678</td>\n",
              "      <td>NaN</td>\n",
              "    </tr>\n",
              "  </tbody>\n",
              "</table>\n",
              "<p>5 rows × 33 columns</p>\n",
              "</div>\n",
              "    <div class=\"colab-df-buttons\">\n",
              "\n",
              "  <div class=\"colab-df-container\">\n",
              "    <button class=\"colab-df-convert\" onclick=\"convertToInteractive('df-cc1fcb4b-5322-4f49-ac48-a23590efa907')\"\n",
              "            title=\"Convert this dataframe to an interactive table.\"\n",
              "            style=\"display:none;\">\n",
              "\n",
              "  <svg xmlns=\"http://www.w3.org/2000/svg\" height=\"24px\" viewBox=\"0 -960 960 960\">\n",
              "    <path d=\"M120-120v-720h720v720H120Zm60-500h600v-160H180v160Zm220 220h160v-160H400v160Zm0 220h160v-160H400v160ZM180-400h160v-160H180v160Zm440 0h160v-160H620v160ZM180-180h160v-160H180v160Zm440 0h160v-160H620v160Z\"/>\n",
              "  </svg>\n",
              "    </button>\n",
              "\n",
              "  <style>\n",
              "    .colab-df-container {\n",
              "      display:flex;\n",
              "      gap: 12px;\n",
              "    }\n",
              "\n",
              "    .colab-df-convert {\n",
              "      background-color: #E8F0FE;\n",
              "      border: none;\n",
              "      border-radius: 50%;\n",
              "      cursor: pointer;\n",
              "      display: none;\n",
              "      fill: #1967D2;\n",
              "      height: 32px;\n",
              "      padding: 0 0 0 0;\n",
              "      width: 32px;\n",
              "    }\n",
              "\n",
              "    .colab-df-convert:hover {\n",
              "      background-color: #E2EBFA;\n",
              "      box-shadow: 0px 1px 2px rgba(60, 64, 67, 0.3), 0px 1px 3px 1px rgba(60, 64, 67, 0.15);\n",
              "      fill: #174EA6;\n",
              "    }\n",
              "\n",
              "    .colab-df-buttons div {\n",
              "      margin-bottom: 4px;\n",
              "    }\n",
              "\n",
              "    [theme=dark] .colab-df-convert {\n",
              "      background-color: #3B4455;\n",
              "      fill: #D2E3FC;\n",
              "    }\n",
              "\n",
              "    [theme=dark] .colab-df-convert:hover {\n",
              "      background-color: #434B5C;\n",
              "      box-shadow: 0px 1px 3px 1px rgba(0, 0, 0, 0.15);\n",
              "      filter: drop-shadow(0px 1px 2px rgba(0, 0, 0, 0.3));\n",
              "      fill: #FFFFFF;\n",
              "    }\n",
              "  </style>\n",
              "\n",
              "    <script>\n",
              "      const buttonEl =\n",
              "        document.querySelector('#df-cc1fcb4b-5322-4f49-ac48-a23590efa907 button.colab-df-convert');\n",
              "      buttonEl.style.display =\n",
              "        google.colab.kernel.accessAllowed ? 'block' : 'none';\n",
              "\n",
              "      async function convertToInteractive(key) {\n",
              "        const element = document.querySelector('#df-cc1fcb4b-5322-4f49-ac48-a23590efa907');\n",
              "        const dataTable =\n",
              "          await google.colab.kernel.invokeFunction('convertToInteractive',\n",
              "                                                    [key], {});\n",
              "        if (!dataTable) return;\n",
              "\n",
              "        const docLinkHtml = 'Like what you see? Visit the ' +\n",
              "          '<a target=\"_blank\" href=https://colab.research.google.com/notebooks/data_table.ipynb>data table notebook</a>'\n",
              "          + ' to learn more about interactive tables.';\n",
              "        element.innerHTML = '';\n",
              "        dataTable['output_type'] = 'display_data';\n",
              "        await google.colab.output.renderOutput(dataTable, element);\n",
              "        const docLink = document.createElement('div');\n",
              "        docLink.innerHTML = docLinkHtml;\n",
              "        element.appendChild(docLink);\n",
              "      }\n",
              "    </script>\n",
              "  </div>\n",
              "\n",
              "\n",
              "    <div id=\"df-68b92034-f2db-45db-8448-62f55e0ef2aa\">\n",
              "      <button class=\"colab-df-quickchart\" onclick=\"quickchart('df-68b92034-f2db-45db-8448-62f55e0ef2aa')\"\n",
              "                title=\"Suggest charts\"\n",
              "                style=\"display:none;\">\n",
              "\n",
              "<svg xmlns=\"http://www.w3.org/2000/svg\" height=\"24px\"viewBox=\"0 0 24 24\"\n",
              "     width=\"24px\">\n",
              "    <g>\n",
              "        <path d=\"M19 3H5c-1.1 0-2 .9-2 2v14c0 1.1.9 2 2 2h14c1.1 0 2-.9 2-2V5c0-1.1-.9-2-2-2zM9 17H7v-7h2v7zm4 0h-2V7h2v10zm4 0h-2v-4h2v4z\"/>\n",
              "    </g>\n",
              "</svg>\n",
              "      </button>\n",
              "\n",
              "<style>\n",
              "  .colab-df-quickchart {\n",
              "      --bg-color: #E8F0FE;\n",
              "      --fill-color: #1967D2;\n",
              "      --hover-bg-color: #E2EBFA;\n",
              "      --hover-fill-color: #174EA6;\n",
              "      --disabled-fill-color: #AAA;\n",
              "      --disabled-bg-color: #DDD;\n",
              "  }\n",
              "\n",
              "  [theme=dark] .colab-df-quickchart {\n",
              "      --bg-color: #3B4455;\n",
              "      --fill-color: #D2E3FC;\n",
              "      --hover-bg-color: #434B5C;\n",
              "      --hover-fill-color: #FFFFFF;\n",
              "      --disabled-bg-color: #3B4455;\n",
              "      --disabled-fill-color: #666;\n",
              "  }\n",
              "\n",
              "  .colab-df-quickchart {\n",
              "    background-color: var(--bg-color);\n",
              "    border: none;\n",
              "    border-radius: 50%;\n",
              "    cursor: pointer;\n",
              "    display: none;\n",
              "    fill: var(--fill-color);\n",
              "    height: 32px;\n",
              "    padding: 0;\n",
              "    width: 32px;\n",
              "  }\n",
              "\n",
              "  .colab-df-quickchart:hover {\n",
              "    background-color: var(--hover-bg-color);\n",
              "    box-shadow: 0 1px 2px rgba(60, 64, 67, 0.3), 0 1px 3px 1px rgba(60, 64, 67, 0.15);\n",
              "    fill: var(--button-hover-fill-color);\n",
              "  }\n",
              "\n",
              "  .colab-df-quickchart-complete:disabled,\n",
              "  .colab-df-quickchart-complete:disabled:hover {\n",
              "    background-color: var(--disabled-bg-color);\n",
              "    fill: var(--disabled-fill-color);\n",
              "    box-shadow: none;\n",
              "  }\n",
              "\n",
              "  .colab-df-spinner {\n",
              "    border: 2px solid var(--fill-color);\n",
              "    border-color: transparent;\n",
              "    border-bottom-color: var(--fill-color);\n",
              "    animation:\n",
              "      spin 1s steps(1) infinite;\n",
              "  }\n",
              "\n",
              "  @keyframes spin {\n",
              "    0% {\n",
              "      border-color: transparent;\n",
              "      border-bottom-color: var(--fill-color);\n",
              "      border-left-color: var(--fill-color);\n",
              "    }\n",
              "    20% {\n",
              "      border-color: transparent;\n",
              "      border-left-color: var(--fill-color);\n",
              "      border-top-color: var(--fill-color);\n",
              "    }\n",
              "    30% {\n",
              "      border-color: transparent;\n",
              "      border-left-color: var(--fill-color);\n",
              "      border-top-color: var(--fill-color);\n",
              "      border-right-color: var(--fill-color);\n",
              "    }\n",
              "    40% {\n",
              "      border-color: transparent;\n",
              "      border-right-color: var(--fill-color);\n",
              "      border-top-color: var(--fill-color);\n",
              "    }\n",
              "    60% {\n",
              "      border-color: transparent;\n",
              "      border-right-color: var(--fill-color);\n",
              "    }\n",
              "    80% {\n",
              "      border-color: transparent;\n",
              "      border-right-color: var(--fill-color);\n",
              "      border-bottom-color: var(--fill-color);\n",
              "    }\n",
              "    90% {\n",
              "      border-color: transparent;\n",
              "      border-bottom-color: var(--fill-color);\n",
              "    }\n",
              "  }\n",
              "</style>\n",
              "\n",
              "      <script>\n",
              "        async function quickchart(key) {\n",
              "          const quickchartButtonEl =\n",
              "            document.querySelector('#' + key + ' button');\n",
              "          quickchartButtonEl.disabled = true;  // To prevent multiple clicks.\n",
              "          quickchartButtonEl.classList.add('colab-df-spinner');\n",
              "          try {\n",
              "            const charts = await google.colab.kernel.invokeFunction(\n",
              "                'suggestCharts', [key], {});\n",
              "          } catch (error) {\n",
              "            console.error('Error during call to suggestCharts:', error);\n",
              "          }\n",
              "          quickchartButtonEl.classList.remove('colab-df-spinner');\n",
              "          quickchartButtonEl.classList.add('colab-df-quickchart-complete');\n",
              "        }\n",
              "        (() => {\n",
              "          let quickchartButtonEl =\n",
              "            document.querySelector('#df-68b92034-f2db-45db-8448-62f55e0ef2aa button');\n",
              "          quickchartButtonEl.style.display =\n",
              "            google.colab.kernel.accessAllowed ? 'block' : 'none';\n",
              "        })();\n",
              "      </script>\n",
              "    </div>\n",
              "\n",
              "    </div>\n",
              "  </div>\n"
            ],
            "application/vnd.google.colaboratory.intrinsic+json": {
              "type": "dataframe",
              "variable_name": "df"
            }
          },
          "metadata": {},
          "execution_count": 11
        }
      ]
    },
    {
      "cell_type": "code",
      "source": [
        "df.drop(columns = ['id','Unnamed: 32'],inplace = True)"
      ],
      "metadata": {
        "id": "99baGK6HYsR_"
      },
      "execution_count": null,
      "outputs": []
    },
    {
      "cell_type": "code",
      "source": [
        "x_train,x_test,y_train,y_test = train_test_split(df.iloc[:,1:],df.iloc[:,0], test_size = 0.2)"
      ],
      "metadata": {
        "id": "OjIzYuQeYnBd"
      },
      "execution_count": null,
      "outputs": []
    },
    {
      "cell_type": "code",
      "source": [
        "scaler = StandardScaler()\n",
        "x_train = scaler.fit_transform(x_train)\n",
        "x_test = scaler.transform(x_test)"
      ],
      "metadata": {
        "id": "yYKkVNHwYnBe"
      },
      "execution_count": null,
      "outputs": []
    },
    {
      "cell_type": "code",
      "source": [
        "encoder = LabelEncoder()\n",
        "y_train = encoder.fit_transform(y_train)\n",
        "y_test = encoder.transform(y_test)\n",
        "y_train"
      ],
      "metadata": {
        "colab": {
          "base_uri": "https://localhost:8080/"
        },
        "outputId": "ddd566b3-d906-429a-f769-0c00c6b14401",
        "id": "2Q1_El1sYnBe"
      },
      "execution_count": null,
      "outputs": [
        {
          "output_type": "execute_result",
          "data": {
            "text/plain": [
              "array([1, 1, 0, 1, 0, 1, 1, 1, 0, 1, 1, 0, 1, 1, 1, 1, 0, 1, 0, 1, 1, 0,\n",
              "       0, 0, 0, 0, 0, 0, 0, 1, 1, 1, 0, 1, 0, 0, 1, 0, 1, 1, 0, 0, 0, 0,\n",
              "       1, 1, 0, 1, 0, 1, 1, 1, 0, 0, 1, 0, 1, 0, 1, 0, 1, 0, 0, 0, 0, 1,\n",
              "       0, 1, 0, 1, 0, 1, 1, 1, 0, 0, 1, 0, 0, 0, 0, 1, 0, 0, 0, 0, 0, 0,\n",
              "       0, 0, 1, 0, 0, 1, 0, 0, 0, 1, 0, 0, 0, 1, 0, 0, 0, 0, 1, 0, 0, 1,\n",
              "       1, 0, 1, 1, 0, 1, 1, 1, 0, 0, 0, 0, 1, 0, 1, 0, 1, 0, 1, 1, 0, 0,\n",
              "       0, 1, 1, 0, 0, 1, 0, 1, 0, 1, 1, 0, 1, 0, 1, 1, 1, 0, 0, 0, 1, 0,\n",
              "       0, 0, 0, 0, 1, 0, 0, 1, 0, 0, 0, 0, 0, 0, 0, 0, 0, 1, 1, 0, 1, 0,\n",
              "       1, 0, 1, 1, 1, 1, 0, 1, 0, 0, 0, 1, 1, 0, 0, 0, 1, 0, 0, 1, 1, 0,\n",
              "       0, 0, 0, 0, 0, 1, 0, 0, 1, 0, 0, 0, 1, 0, 1, 0, 1, 1, 0, 0, 1, 1,\n",
              "       0, 0, 1, 0, 0, 1, 1, 0, 1, 0, 1, 1, 1, 0, 0, 1, 0, 0, 0, 0, 1, 0,\n",
              "       1, 0, 0, 0, 1, 0, 0, 1, 0, 0, 1, 0, 0, 0, 1, 0, 0, 0, 0, 0, 0, 1,\n",
              "       0, 0, 0, 0, 0, 1, 0, 0, 0, 1, 1, 0, 1, 1, 1, 0, 0, 0, 0, 0, 0, 1,\n",
              "       0, 0, 0, 0, 0, 0, 0, 0, 1, 0, 0, 1, 0, 1, 1, 1, 1, 0, 0, 1, 1, 0,\n",
              "       0, 0, 0, 0, 0, 1, 1, 0, 1, 0, 0, 1, 0, 0, 0, 0, 1, 0, 0, 1, 0, 0,\n",
              "       1, 1, 0, 1, 0, 1, 0, 0, 0, 0, 1, 0, 0, 0, 1, 0, 0, 0, 0, 0, 1, 1,\n",
              "       0, 1, 0, 0, 0, 0, 0, 1, 0, 0, 1, 0, 0, 1, 0, 0, 1, 0, 1, 0, 0, 0,\n",
              "       0, 0, 0, 0, 0, 0, 1, 1, 0, 0, 1, 0, 0, 0, 0, 0, 0, 0, 0, 0, 0, 1,\n",
              "       1, 0, 1, 1, 0, 1, 0, 1, 0, 0, 0, 0, 0, 0, 0, 0, 0, 0, 0, 1, 1, 0,\n",
              "       0, 0, 0, 1, 1, 1, 1, 0, 1, 1, 1, 0, 0, 0, 1, 1, 0, 1, 1, 0, 0, 1,\n",
              "       0, 1, 0, 0, 0, 0, 0, 0, 1, 0, 0, 0, 0, 0, 0])"
            ]
          },
          "metadata": {},
          "execution_count": 15
        }
      ]
    },
    {
      "cell_type": "code",
      "source": [],
      "metadata": {
        "id": "Sb4QBr6SY6dL"
      },
      "execution_count": null,
      "outputs": []
    },
    {
      "cell_type": "code",
      "source": [
        "x_train_tensor = torch.from_numpy(x_train)\n",
        "x_test_tensor = torch.from_numpy(x_test)\n",
        "y_train_tensor = torch.from_numpy(y_train)\n",
        "y_test_tensor = torch.from_numpy(y_test)"
      ],
      "metadata": {
        "id": "nSzdjWY3Y634"
      },
      "execution_count": null,
      "outputs": []
    },
    {
      "cell_type": "code",
      "source": [
        "x_train_tensor = x_train_tensor.float()\n",
        "y_train_tensor = y_train_tensor.float()\n",
        "x_test_tensor = x_test_tensor.float()\n",
        "y_test_tensor = y_test_tensor.float()\n"
      ],
      "metadata": {
        "id": "f1_RxC29bqET"
      },
      "execution_count": null,
      "outputs": []
    },
    {
      "cell_type": "code",
      "source": [
        "class MySimpleNN(nn.Module):\n",
        "  def __init__(self,num_features):\n",
        "    super().__init__()\n",
        "    self.linear = nn.Linear(num_features,1)\n",
        "    self.sigmoid = nn.Sigmoid()\n",
        "\n",
        "  def forward(self,features):\n",
        "    out = self.linear(features)\n",
        "    out = self.sigmoid(out)\n",
        "    return out\n"
      ],
      "metadata": {
        "id": "6-nAElJCY635"
      },
      "execution_count": null,
      "outputs": []
    },
    {
      "cell_type": "code",
      "source": [
        "model = MySimpleNN(x_train_tensor.shape[1])\n",
        "model.linear.weight"
      ],
      "metadata": {
        "colab": {
          "base_uri": "https://localhost:8080/"
        },
        "outputId": "92dc1815-052a-4da8-f8b7-7c82365d88d9",
        "id": "zlXJvKvWY636"
      },
      "execution_count": null,
      "outputs": [
        {
          "output_type": "execute_result",
          "data": {
            "text/plain": [
              "Parameter containing:\n",
              "tensor([[-0.0458,  0.0332, -0.0226,  0.1509, -0.0379,  0.1121,  0.1324, -0.1372,\n",
              "         -0.0870, -0.1232, -0.0512, -0.1103, -0.0545,  0.1406, -0.0850,  0.0817,\n",
              "         -0.1146, -0.1749,  0.1772, -0.0538,  0.0517, -0.0916, -0.1310, -0.0198,\n",
              "         -0.0347, -0.1076,  0.1634, -0.1633, -0.1382, -0.1550]],\n",
              "       requires_grad=True)"
            ]
          },
          "metadata": {},
          "execution_count": 19
        }
      ]
    },
    {
      "cell_type": "code",
      "source": [
        "learning_rate = 0.7\n",
        "epochs = 30"
      ],
      "metadata": {
        "id": "2y2qHdA4Y637"
      },
      "execution_count": null,
      "outputs": []
    },
    {
      "cell_type": "code",
      "source": [
        "loss1 = nn.BCELoss()"
      ],
      "metadata": {
        "id": "TxmZVs6CcD8c"
      },
      "execution_count": null,
      "outputs": []
    },
    {
      "cell_type": "code",
      "source": [
        "optimizer = torch.optim.SGD(model.parameters(),lr = learning_rate)"
      ],
      "metadata": {
        "id": "SMk58m60d666"
      },
      "execution_count": null,
      "outputs": []
    },
    {
      "cell_type": "code",
      "source": [
        "# model = MySimpleNN(x_train_tensor)\n",
        "for epoch in range(epochs):\n",
        "  y_pred = model(x_train_tensor)\n",
        "  loss = loss1(y_pred,y_train_tensor.view(-1,1))\n",
        "\n",
        "  optimizer.zero_grad()\n",
        "  loss.backward()\n",
        "\n",
        "  optimizer.step()\n",
        "\n",
        "\n",
        "  print(f'Epoch: {epoch + 1}, Loss: {loss.item()}')"
      ],
      "metadata": {
        "colab": {
          "base_uri": "https://localhost:8080/"
        },
        "outputId": "1655f867-4df5-4f84-94ba-7a0e1c2e4b25",
        "id": "hExuTYlEY637"
      },
      "execution_count": null,
      "outputs": [
        {
          "output_type": "stream",
          "name": "stdout",
          "text": [
            "Epoch: 1, Loss: 0.872230589389801\n",
            "Epoch: 2, Loss: 0.19203807413578033\n",
            "Epoch: 3, Loss: 0.16312798857688904\n",
            "Epoch: 4, Loss: 0.14614078402519226\n",
            "Epoch: 5, Loss: 0.13577225804328918\n",
            "Epoch: 6, Loss: 0.12841588258743286\n",
            "Epoch: 7, Loss: 0.12263798713684082\n",
            "Epoch: 8, Loss: 0.11786866188049316\n",
            "Epoch: 9, Loss: 0.11381933093070984\n",
            "Epoch: 10, Loss: 0.11031638830900192\n",
            "Epoch: 11, Loss: 0.10724398493766785\n",
            "Epoch: 12, Loss: 0.10451962053775787\n",
            "Epoch: 13, Loss: 0.10208198428153992\n",
            "Epoch: 14, Loss: 0.09988418221473694\n",
            "Epoch: 15, Loss: 0.0978894755244255\n",
            "Epoch: 16, Loss: 0.09606853127479553\n",
            "Epoch: 17, Loss: 0.09439761936664581\n",
            "Epoch: 18, Loss: 0.09285731613636017\n",
            "Epoch: 19, Loss: 0.09143148362636566\n",
            "Epoch: 20, Loss: 0.09010665118694305\n",
            "Epoch: 21, Loss: 0.08887141942977905\n",
            "Epoch: 22, Loss: 0.08771612495183945\n",
            "Epoch: 23, Loss: 0.08663246780633926\n",
            "Epoch: 24, Loss: 0.08561330288648605\n",
            "Epoch: 25, Loss: 0.08465242385864258\n",
            "Epoch: 26, Loss: 0.08374446630477905\n",
            "Epoch: 27, Loss: 0.08288469165563583\n",
            "Epoch: 28, Loss: 0.08206892758607864\n",
            "Epoch: 29, Loss: 0.0812935009598732\n",
            "Epoch: 30, Loss: 0.08055516332387924\n"
          ]
        }
      ]
    },
    {
      "cell_type": "code",
      "source": [
        "with torch.no_grad():\n",
        "  y_pred = model.forward(x_test_tensor)\n",
        "  y_pred = (y_pred > 0.5).float()\n",
        "  accuracy = (y_pred == y_test_tensor).float().mean()\n",
        "  print(f'Accuracy: {accuracy.item()}')"
      ],
      "metadata": {
        "colab": {
          "base_uri": "https://localhost:8080/"
        },
        "outputId": "1f78f15f-2145-49d5-f83f-8ea78a56a645",
        "id": "snyxZON7Y638"
      },
      "execution_count": null,
      "outputs": [
        {
          "output_type": "stream",
          "name": "stdout",
          "text": [
            "Accuracy: 0.5240073800086975\n"
          ]
        }
      ]
    },
    {
      "cell_type": "code",
      "source": [],
      "metadata": {
        "id": "D_5khM_IbzSz"
      },
      "execution_count": null,
      "outputs": []
    },
    {
      "cell_type": "markdown",
      "source": [
        "##Implrmenting dataset and dataloader\n"
      ],
      "metadata": {
        "id": "PvLPQdqnrDBg"
      }
    },
    {
      "cell_type": "code",
      "source": [
        "from sklearn.datasets import make_classification\n",
        "import torch"
      ],
      "metadata": {
        "id": "GGaqbyrIrIQM"
      },
      "execution_count": null,
      "outputs": []
    },
    {
      "cell_type": "code",
      "source": [
        "x,y = make_classification(\n",
        "    n_samples=10,\n",
        "    n_features = 2,\n",
        "    n_informative=2,\n",
        "    n_redundant=0,\n",
        "    random_state=42,\n",
        "    n_classes=2,\n",
        ")"
      ],
      "metadata": {
        "id": "VmA36bL7rNVn"
      },
      "execution_count": null,
      "outputs": []
    },
    {
      "cell_type": "code",
      "source": [
        "x"
      ],
      "metadata": {
        "colab": {
          "base_uri": "https://localhost:8080/"
        },
        "id": "-jS602iprqQT",
        "outputId": "17674e60-c75b-4007-f949-8e4f42d7abd0"
      },
      "execution_count": null,
      "outputs": [
        {
          "output_type": "execute_result",
          "data": {
            "text/plain": [
              "array([[ 1.06833894, -0.97007347],\n",
              "       [-1.14021544, -0.83879234],\n",
              "       [-2.8953973 ,  1.97686236],\n",
              "       [-0.72063436, -0.96059253],\n",
              "       [-1.96287438, -0.99225135],\n",
              "       [-0.9382051 , -0.54304815],\n",
              "       [ 1.72725924, -1.18582677],\n",
              "       [ 1.77736657,  1.51157598],\n",
              "       [ 1.89969252,  0.83444483],\n",
              "       [-0.58723065, -1.97171753]])"
            ]
          },
          "metadata": {},
          "execution_count": 27
        }
      ]
    },
    {
      "cell_type": "code",
      "source": [
        "x = torch.tensor(x,dtype =torch.float32)\n",
        "y= torch.tensor(y,dtype =torch.long)"
      ],
      "metadata": {
        "id": "OgeRjEeDrq8Z"
      },
      "execution_count": null,
      "outputs": []
    },
    {
      "cell_type": "code",
      "source": [
        "from torch.utils.data import Dataset,DataLoader"
      ],
      "metadata": {
        "id": "QaLUJ-nor9BH"
      },
      "execution_count": null,
      "outputs": []
    },
    {
      "cell_type": "code",
      "source": [
        "class CustomDataset(Dataset):\n",
        "  def __init__(self,features,labels):\n",
        "    self.features = features\n",
        "    self.labels = labels\n",
        "\n",
        "  def __len__(self):\n",
        "    return self.features.shape[0]\n",
        "\n",
        "  def __getitem__(self,index):\n",
        "    return self.features[index], self.labels[index]"
      ],
      "metadata": {
        "id": "SahaUIUasBjD"
      },
      "execution_count": null,
      "outputs": []
    },
    {
      "cell_type": "code",
      "source": [
        "dataset = CustomDataset(x,y)"
      ],
      "metadata": {
        "id": "h03Is6ELsqo9"
      },
      "execution_count": null,
      "outputs": []
    },
    {
      "cell_type": "code",
      "source": [
        "# print(dataset.__len__)"
      ],
      "metadata": {
        "id": "ycSXe3Nz-W7-"
      },
      "execution_count": null,
      "outputs": []
    },
    {
      "cell_type": "code",
      "source": [
        "dataloader = DataLoader(dataset, batch_size = 2,shuffle = True)"
      ],
      "metadata": {
        "id": "XsHaCunssu9M"
      },
      "execution_count": null,
      "outputs": []
    },
    {
      "cell_type": "code",
      "source": [
        "for batch_features,batch_labels in dataloader:\n",
        "  print(batch_features)\n",
        "  print(batch_labels)"
      ],
      "metadata": {
        "id": "T8q6so-JtLRb"
      },
      "execution_count": null,
      "outputs": []
    },
    {
      "cell_type": "code",
      "source": [
        "x= torch.tensor([[1,2],[1]])"
      ],
      "metadata": {
        "id": "LIM04AREtVnN"
      },
      "execution_count": null,
      "outputs": []
    },
    {
      "cell_type": "code",
      "source": [
        "x"
      ],
      "metadata": {
        "id": "D7GqfvqWvlxL"
      },
      "execution_count": null,
      "outputs": []
    },
    {
      "cell_type": "code",
      "source": [],
      "metadata": {
        "id": "xPSpg8uWvo3y"
      },
      "execution_count": null,
      "outputs": []
    },
    {
      "cell_type": "markdown",
      "source": [
        "##Building ANN using pytorch"
      ],
      "metadata": {
        "id": "BqTSfWEQ8bjG"
      }
    },
    {
      "cell_type": "code",
      "source": [
        "import pandas as pd\n",
        "from sklearn.model_selection import train_test_split\n",
        "import torch\n",
        "from torch.utils.data import Dataset, DataLoader\n",
        "import torch.nn as nn\n",
        "import torch.optim as optim\n",
        "import matplotlib.pyplot as plt"
      ],
      "metadata": {
        "id": "DZFLQu228dk1"
      },
      "execution_count": null,
      "outputs": []
    },
    {
      "cell_type": "code",
      "source": [
        "torch.manual_seed(42)\n"
      ],
      "metadata": {
        "colab": {
          "base_uri": "https://localhost:8080/"
        },
        "id": "LvqhktEN_eoG",
        "outputId": "fdeb7586-7da3-4695-e9c9-3962cdcf26b9"
      },
      "execution_count": null,
      "outputs": [
        {
          "output_type": "execute_result",
          "data": {
            "text/plain": [
              "<torch._C.Generator at 0x7dceb16db310>"
            ]
          },
          "metadata": {},
          "execution_count": 2
        }
      ]
    },
    {
      "cell_type": "code",
      "source": [
        "device = torch.device('cuda' if torch.cuda.is_available() else'cpu')\n",
        "print(device)"
      ],
      "metadata": {
        "id": "G8Dudd5RarQE",
        "colab": {
          "base_uri": "https://localhost:8080/"
        },
        "outputId": "c6c1b4cd-5f73-49da-b7f1-b4f96e44448b"
      },
      "execution_count": null,
      "outputs": [
        {
          "output_type": "stream",
          "name": "stdout",
          "text": [
            "cuda\n"
          ]
        }
      ]
    },
    {
      "cell_type": "code",
      "source": [
        "df = pd.read_csv(\"/content/drive/MyDrive/Colab Notebooks/fmnist_small.csv\")\n",
        "df.head()"
      ],
      "metadata": {
        "colab": {
          "base_uri": "https://localhost:8080/",
          "height": 255
        },
        "id": "ivW_TgTS_i2I",
        "outputId": "99413673-cdf4-4371-f6e4-c5c2c16e44b4"
      },
      "execution_count": null,
      "outputs": [
        {
          "output_type": "execute_result",
          "data": {
            "text/plain": [
              "   label  pixel1  pixel2  pixel3  pixel4  pixel5  pixel6  pixel7  pixel8  \\\n",
              "0      9       0       0       0       0       0       0       0       0   \n",
              "1      7       0       0       0       0       0       0       0       0   \n",
              "2      0       0       0       0       0       0       1       0       0   \n",
              "3      8       0       0       0       0       0       0       0       0   \n",
              "4      8       0       0       0       0       0       0       0       0   \n",
              "\n",
              "   pixel9  ...  pixel775  pixel776  pixel777  pixel778  pixel779  pixel780  \\\n",
              "0       0  ...         0         7         0        50       205       196   \n",
              "1       0  ...         0         0         0         0         0         0   \n",
              "2       0  ...       142       142       142        21         0         3   \n",
              "3       0  ...         0         0         0         0         0         0   \n",
              "4       0  ...       213       203       174       151       188        10   \n",
              "\n",
              "   pixel781  pixel782  pixel783  pixel784  \n",
              "0       213       165         0         0  \n",
              "1         0         0         0         0  \n",
              "2         0         0         0         0  \n",
              "3         0         0         0         0  \n",
              "4         0         0         0         0  \n",
              "\n",
              "[5 rows x 785 columns]"
            ],
            "text/html": [
              "\n",
              "  <div id=\"df-9cc56b8d-4df8-4a25-9e8b-7eaa58b16eb9\" class=\"colab-df-container\">\n",
              "    <div>\n",
              "<style scoped>\n",
              "    .dataframe tbody tr th:only-of-type {\n",
              "        vertical-align: middle;\n",
              "    }\n",
              "\n",
              "    .dataframe tbody tr th {\n",
              "        vertical-align: top;\n",
              "    }\n",
              "\n",
              "    .dataframe thead th {\n",
              "        text-align: right;\n",
              "    }\n",
              "</style>\n",
              "<table border=\"1\" class=\"dataframe\">\n",
              "  <thead>\n",
              "    <tr style=\"text-align: right;\">\n",
              "      <th></th>\n",
              "      <th>label</th>\n",
              "      <th>pixel1</th>\n",
              "      <th>pixel2</th>\n",
              "      <th>pixel3</th>\n",
              "      <th>pixel4</th>\n",
              "      <th>pixel5</th>\n",
              "      <th>pixel6</th>\n",
              "      <th>pixel7</th>\n",
              "      <th>pixel8</th>\n",
              "      <th>pixel9</th>\n",
              "      <th>...</th>\n",
              "      <th>pixel775</th>\n",
              "      <th>pixel776</th>\n",
              "      <th>pixel777</th>\n",
              "      <th>pixel778</th>\n",
              "      <th>pixel779</th>\n",
              "      <th>pixel780</th>\n",
              "      <th>pixel781</th>\n",
              "      <th>pixel782</th>\n",
              "      <th>pixel783</th>\n",
              "      <th>pixel784</th>\n",
              "    </tr>\n",
              "  </thead>\n",
              "  <tbody>\n",
              "    <tr>\n",
              "      <th>0</th>\n",
              "      <td>9</td>\n",
              "      <td>0</td>\n",
              "      <td>0</td>\n",
              "      <td>0</td>\n",
              "      <td>0</td>\n",
              "      <td>0</td>\n",
              "      <td>0</td>\n",
              "      <td>0</td>\n",
              "      <td>0</td>\n",
              "      <td>0</td>\n",
              "      <td>...</td>\n",
              "      <td>0</td>\n",
              "      <td>7</td>\n",
              "      <td>0</td>\n",
              "      <td>50</td>\n",
              "      <td>205</td>\n",
              "      <td>196</td>\n",
              "      <td>213</td>\n",
              "      <td>165</td>\n",
              "      <td>0</td>\n",
              "      <td>0</td>\n",
              "    </tr>\n",
              "    <tr>\n",
              "      <th>1</th>\n",
              "      <td>7</td>\n",
              "      <td>0</td>\n",
              "      <td>0</td>\n",
              "      <td>0</td>\n",
              "      <td>0</td>\n",
              "      <td>0</td>\n",
              "      <td>0</td>\n",
              "      <td>0</td>\n",
              "      <td>0</td>\n",
              "      <td>0</td>\n",
              "      <td>...</td>\n",
              "      <td>0</td>\n",
              "      <td>0</td>\n",
              "      <td>0</td>\n",
              "      <td>0</td>\n",
              "      <td>0</td>\n",
              "      <td>0</td>\n",
              "      <td>0</td>\n",
              "      <td>0</td>\n",
              "      <td>0</td>\n",
              "      <td>0</td>\n",
              "    </tr>\n",
              "    <tr>\n",
              "      <th>2</th>\n",
              "      <td>0</td>\n",
              "      <td>0</td>\n",
              "      <td>0</td>\n",
              "      <td>0</td>\n",
              "      <td>0</td>\n",
              "      <td>0</td>\n",
              "      <td>1</td>\n",
              "      <td>0</td>\n",
              "      <td>0</td>\n",
              "      <td>0</td>\n",
              "      <td>...</td>\n",
              "      <td>142</td>\n",
              "      <td>142</td>\n",
              "      <td>142</td>\n",
              "      <td>21</td>\n",
              "      <td>0</td>\n",
              "      <td>3</td>\n",
              "      <td>0</td>\n",
              "      <td>0</td>\n",
              "      <td>0</td>\n",
              "      <td>0</td>\n",
              "    </tr>\n",
              "    <tr>\n",
              "      <th>3</th>\n",
              "      <td>8</td>\n",
              "      <td>0</td>\n",
              "      <td>0</td>\n",
              "      <td>0</td>\n",
              "      <td>0</td>\n",
              "      <td>0</td>\n",
              "      <td>0</td>\n",
              "      <td>0</td>\n",
              "      <td>0</td>\n",
              "      <td>0</td>\n",
              "      <td>...</td>\n",
              "      <td>0</td>\n",
              "      <td>0</td>\n",
              "      <td>0</td>\n",
              "      <td>0</td>\n",
              "      <td>0</td>\n",
              "      <td>0</td>\n",
              "      <td>0</td>\n",
              "      <td>0</td>\n",
              "      <td>0</td>\n",
              "      <td>0</td>\n",
              "    </tr>\n",
              "    <tr>\n",
              "      <th>4</th>\n",
              "      <td>8</td>\n",
              "      <td>0</td>\n",
              "      <td>0</td>\n",
              "      <td>0</td>\n",
              "      <td>0</td>\n",
              "      <td>0</td>\n",
              "      <td>0</td>\n",
              "      <td>0</td>\n",
              "      <td>0</td>\n",
              "      <td>0</td>\n",
              "      <td>...</td>\n",
              "      <td>213</td>\n",
              "      <td>203</td>\n",
              "      <td>174</td>\n",
              "      <td>151</td>\n",
              "      <td>188</td>\n",
              "      <td>10</td>\n",
              "      <td>0</td>\n",
              "      <td>0</td>\n",
              "      <td>0</td>\n",
              "      <td>0</td>\n",
              "    </tr>\n",
              "  </tbody>\n",
              "</table>\n",
              "<p>5 rows × 785 columns</p>\n",
              "</div>\n",
              "    <div class=\"colab-df-buttons\">\n",
              "\n",
              "  <div class=\"colab-df-container\">\n",
              "    <button class=\"colab-df-convert\" onclick=\"convertToInteractive('df-9cc56b8d-4df8-4a25-9e8b-7eaa58b16eb9')\"\n",
              "            title=\"Convert this dataframe to an interactive table.\"\n",
              "            style=\"display:none;\">\n",
              "\n",
              "  <svg xmlns=\"http://www.w3.org/2000/svg\" height=\"24px\" viewBox=\"0 -960 960 960\">\n",
              "    <path d=\"M120-120v-720h720v720H120Zm60-500h600v-160H180v160Zm220 220h160v-160H400v160Zm0 220h160v-160H400v160ZM180-400h160v-160H180v160Zm440 0h160v-160H620v160ZM180-180h160v-160H180v160Zm440 0h160v-160H620v160Z\"/>\n",
              "  </svg>\n",
              "    </button>\n",
              "\n",
              "  <style>\n",
              "    .colab-df-container {\n",
              "      display:flex;\n",
              "      gap: 12px;\n",
              "    }\n",
              "\n",
              "    .colab-df-convert {\n",
              "      background-color: #E8F0FE;\n",
              "      border: none;\n",
              "      border-radius: 50%;\n",
              "      cursor: pointer;\n",
              "      display: none;\n",
              "      fill: #1967D2;\n",
              "      height: 32px;\n",
              "      padding: 0 0 0 0;\n",
              "      width: 32px;\n",
              "    }\n",
              "\n",
              "    .colab-df-convert:hover {\n",
              "      background-color: #E2EBFA;\n",
              "      box-shadow: 0px 1px 2px rgba(60, 64, 67, 0.3), 0px 1px 3px 1px rgba(60, 64, 67, 0.15);\n",
              "      fill: #174EA6;\n",
              "    }\n",
              "\n",
              "    .colab-df-buttons div {\n",
              "      margin-bottom: 4px;\n",
              "    }\n",
              "\n",
              "    [theme=dark] .colab-df-convert {\n",
              "      background-color: #3B4455;\n",
              "      fill: #D2E3FC;\n",
              "    }\n",
              "\n",
              "    [theme=dark] .colab-df-convert:hover {\n",
              "      background-color: #434B5C;\n",
              "      box-shadow: 0px 1px 3px 1px rgba(0, 0, 0, 0.15);\n",
              "      filter: drop-shadow(0px 1px 2px rgba(0, 0, 0, 0.3));\n",
              "      fill: #FFFFFF;\n",
              "    }\n",
              "  </style>\n",
              "\n",
              "    <script>\n",
              "      const buttonEl =\n",
              "        document.querySelector('#df-9cc56b8d-4df8-4a25-9e8b-7eaa58b16eb9 button.colab-df-convert');\n",
              "      buttonEl.style.display =\n",
              "        google.colab.kernel.accessAllowed ? 'block' : 'none';\n",
              "\n",
              "      async function convertToInteractive(key) {\n",
              "        const element = document.querySelector('#df-9cc56b8d-4df8-4a25-9e8b-7eaa58b16eb9');\n",
              "        const dataTable =\n",
              "          await google.colab.kernel.invokeFunction('convertToInteractive',\n",
              "                                                    [key], {});\n",
              "        if (!dataTable) return;\n",
              "\n",
              "        const docLinkHtml = 'Like what you see? Visit the ' +\n",
              "          '<a target=\"_blank\" href=https://colab.research.google.com/notebooks/data_table.ipynb>data table notebook</a>'\n",
              "          + ' to learn more about interactive tables.';\n",
              "        element.innerHTML = '';\n",
              "        dataTable['output_type'] = 'display_data';\n",
              "        await google.colab.output.renderOutput(dataTable, element);\n",
              "        const docLink = document.createElement('div');\n",
              "        docLink.innerHTML = docLinkHtml;\n",
              "        element.appendChild(docLink);\n",
              "      }\n",
              "    </script>\n",
              "  </div>\n",
              "\n",
              "\n",
              "    <div id=\"df-85b4ee73-265b-4530-8df6-7b965b752f53\">\n",
              "      <button class=\"colab-df-quickchart\" onclick=\"quickchart('df-85b4ee73-265b-4530-8df6-7b965b752f53')\"\n",
              "                title=\"Suggest charts\"\n",
              "                style=\"display:none;\">\n",
              "\n",
              "<svg xmlns=\"http://www.w3.org/2000/svg\" height=\"24px\"viewBox=\"0 0 24 24\"\n",
              "     width=\"24px\">\n",
              "    <g>\n",
              "        <path d=\"M19 3H5c-1.1 0-2 .9-2 2v14c0 1.1.9 2 2 2h14c1.1 0 2-.9 2-2V5c0-1.1-.9-2-2-2zM9 17H7v-7h2v7zm4 0h-2V7h2v10zm4 0h-2v-4h2v4z\"/>\n",
              "    </g>\n",
              "</svg>\n",
              "      </button>\n",
              "\n",
              "<style>\n",
              "  .colab-df-quickchart {\n",
              "      --bg-color: #E8F0FE;\n",
              "      --fill-color: #1967D2;\n",
              "      --hover-bg-color: #E2EBFA;\n",
              "      --hover-fill-color: #174EA6;\n",
              "      --disabled-fill-color: #AAA;\n",
              "      --disabled-bg-color: #DDD;\n",
              "  }\n",
              "\n",
              "  [theme=dark] .colab-df-quickchart {\n",
              "      --bg-color: #3B4455;\n",
              "      --fill-color: #D2E3FC;\n",
              "      --hover-bg-color: #434B5C;\n",
              "      --hover-fill-color: #FFFFFF;\n",
              "      --disabled-bg-color: #3B4455;\n",
              "      --disabled-fill-color: #666;\n",
              "  }\n",
              "\n",
              "  .colab-df-quickchart {\n",
              "    background-color: var(--bg-color);\n",
              "    border: none;\n",
              "    border-radius: 50%;\n",
              "    cursor: pointer;\n",
              "    display: none;\n",
              "    fill: var(--fill-color);\n",
              "    height: 32px;\n",
              "    padding: 0;\n",
              "    width: 32px;\n",
              "  }\n",
              "\n",
              "  .colab-df-quickchart:hover {\n",
              "    background-color: var(--hover-bg-color);\n",
              "    box-shadow: 0 1px 2px rgba(60, 64, 67, 0.3), 0 1px 3px 1px rgba(60, 64, 67, 0.15);\n",
              "    fill: var(--button-hover-fill-color);\n",
              "  }\n",
              "\n",
              "  .colab-df-quickchart-complete:disabled,\n",
              "  .colab-df-quickchart-complete:disabled:hover {\n",
              "    background-color: var(--disabled-bg-color);\n",
              "    fill: var(--disabled-fill-color);\n",
              "    box-shadow: none;\n",
              "  }\n",
              "\n",
              "  .colab-df-spinner {\n",
              "    border: 2px solid var(--fill-color);\n",
              "    border-color: transparent;\n",
              "    border-bottom-color: var(--fill-color);\n",
              "    animation:\n",
              "      spin 1s steps(1) infinite;\n",
              "  }\n",
              "\n",
              "  @keyframes spin {\n",
              "    0% {\n",
              "      border-color: transparent;\n",
              "      border-bottom-color: var(--fill-color);\n",
              "      border-left-color: var(--fill-color);\n",
              "    }\n",
              "    20% {\n",
              "      border-color: transparent;\n",
              "      border-left-color: var(--fill-color);\n",
              "      border-top-color: var(--fill-color);\n",
              "    }\n",
              "    30% {\n",
              "      border-color: transparent;\n",
              "      border-left-color: var(--fill-color);\n",
              "      border-top-color: var(--fill-color);\n",
              "      border-right-color: var(--fill-color);\n",
              "    }\n",
              "    40% {\n",
              "      border-color: transparent;\n",
              "      border-right-color: var(--fill-color);\n",
              "      border-top-color: var(--fill-color);\n",
              "    }\n",
              "    60% {\n",
              "      border-color: transparent;\n",
              "      border-right-color: var(--fill-color);\n",
              "    }\n",
              "    80% {\n",
              "      border-color: transparent;\n",
              "      border-right-color: var(--fill-color);\n",
              "      border-bottom-color: var(--fill-color);\n",
              "    }\n",
              "    90% {\n",
              "      border-color: transparent;\n",
              "      border-bottom-color: var(--fill-color);\n",
              "    }\n",
              "  }\n",
              "</style>\n",
              "\n",
              "      <script>\n",
              "        async function quickchart(key) {\n",
              "          const quickchartButtonEl =\n",
              "            document.querySelector('#' + key + ' button');\n",
              "          quickchartButtonEl.disabled = true;  // To prevent multiple clicks.\n",
              "          quickchartButtonEl.classList.add('colab-df-spinner');\n",
              "          try {\n",
              "            const charts = await google.colab.kernel.invokeFunction(\n",
              "                'suggestCharts', [key], {});\n",
              "          } catch (error) {\n",
              "            console.error('Error during call to suggestCharts:', error);\n",
              "          }\n",
              "          quickchartButtonEl.classList.remove('colab-df-spinner');\n",
              "          quickchartButtonEl.classList.add('colab-df-quickchart-complete');\n",
              "        }\n",
              "        (() => {\n",
              "          let quickchartButtonEl =\n",
              "            document.querySelector('#df-85b4ee73-265b-4530-8df6-7b965b752f53 button');\n",
              "          quickchartButtonEl.style.display =\n",
              "            google.colab.kernel.accessAllowed ? 'block' : 'none';\n",
              "        })();\n",
              "      </script>\n",
              "    </div>\n",
              "\n",
              "    </div>\n",
              "  </div>\n"
            ],
            "application/vnd.google.colaboratory.intrinsic+json": {
              "type": "dataframe",
              "variable_name": "df"
            }
          },
          "metadata": {},
          "execution_count": 4
        }
      ]
    },
    {
      "cell_type": "code",
      "source": [
        "fig,axes = plt.subplots(4,4,figsize=(10,10))\n",
        "\n",
        "for i,ax in enumerate(axes.flat):\n",
        "  img = df.iloc[i,1:].values.reshape(28,28)\n",
        "  ax.imshow(img)\n",
        "  ax.axis(\"off\")\n",
        "\n",
        "plt.tight_layout(rect=[0,0,1,1])\n",
        "plt.show()"
      ],
      "metadata": {
        "colab": {
          "base_uri": "https://localhost:8080/",
          "height": 747
        },
        "id": "hpc9hvrV_m1O",
        "outputId": "3993e709-a59d-48f4-ec4b-c3f1103139f1"
      },
      "execution_count": null,
      "outputs": [
        {
          "output_type": "display_data",
          "data": {
            "text/plain": [
              "<Figure size 1000x1000 with 16 Axes>"
            ],
            "image/png": "[encoded data removed]"
          },
          "metadata": {}
        }
      ]
    },
    {
      "cell_type": "code",
      "source": [
        "x = df.iloc[:,1:].values\n",
        "y = df.iloc[:,0].values"
      ],
      "metadata": {
        "id": "csEzzW8dA3tJ"
      },
      "execution_count": null,
      "outputs": []
    },
    {
      "cell_type": "code",
      "source": [
        "y"
      ],
      "metadata": {
        "colab": {
          "base_uri": "https://localhost:8080/"
        },
        "id": "FgZwAnCRD1oJ",
        "outputId": "4074034d-28d0-412a-dd06-139b79cafa8a"
      },
      "execution_count": null,
      "outputs": [
        {
          "output_type": "execute_result",
          "data": {
            "text/plain": [
              "array([9, 7, 0, ..., 8, 4, 8])"
            ]
          },
          "metadata": {},
          "execution_count": 6
        }
      ]
    },
    {
      "cell_type": "code",
      "source": [
        "x_train,x_test,y_train,y_test = train_test_split(x,y,test_size = 0.2,random_state = 42)"
      ],
      "metadata": {
        "id": "fFcPMoIxByzR"
      },
      "execution_count": null,
      "outputs": []
    },
    {
      "cell_type": "code",
      "source": [
        "x_train = x_train/255.0\n",
        "x_test = x_test/255.0\n"
      ],
      "metadata": {
        "id": "GPW2S_qTB7Sr"
      },
      "execution_count": null,
      "outputs": []
    },
    {
      "cell_type": "code",
      "source": [
        "y_train"
      ],
      "metadata": {
        "colab": {
          "base_uri": "https://localhost:8080/"
        },
        "id": "aU16MJbGD3kO",
        "outputId": "32728e81-90c7-440b-dcce-7da235c40b41"
      },
      "execution_count": null,
      "outputs": [
        {
          "output_type": "execute_result",
          "data": {
            "text/plain": [
              "array([7, 6, 7, ..., 0, 8, 6])"
            ]
          },
          "metadata": {},
          "execution_count": 9
        }
      ]
    },
    {
      "cell_type": "code",
      "source": [
        "class CustomDataset(Dataset):\n",
        "  def __init__(self,features,labels):\n",
        "    self.features = torch.tensor(features,dtype = torch.float32)\n",
        "    self.labels = torch.tensor(labels,dtype = torch.long)\n",
        "\n",
        "  def __len__(self):\n",
        "    return len(self.features)\n",
        "\n",
        "  def __getitem__(self,index):\n",
        "    return self.features[index],self.labels[index]"
      ],
      "metadata": {
        "id": "XrMZhinLB_aF"
      },
      "execution_count": null,
      "outputs": []
    },
    {
      "cell_type": "code",
      "source": [
        "train_dataset = CustomDataset(x_train,y_train)\n",
        "test_dataset = CustomDataset(x_test,y_test)"
      ],
      "metadata": {
        "id": "WVXt2M5eCoCx"
      },
      "execution_count": null,
      "outputs": []
    },
    {
      "cell_type": "code",
      "source": [
        "# for i in range(0,10):\n",
        "#   print(train_dataset[i])"
      ],
      "metadata": {
        "id": "r3t9fs1-Cu1l"
      },
      "execution_count": null,
      "outputs": []
    },
    {
      "cell_type": "code",
      "source": [
        "train_loader = DataLoader(train_dataset,batch_size = 32,shuffle = True)\n",
        "test_loader = DataLoader(test_dataset,batch_size = 32,shuffle = False)"
      ],
      "metadata": {
        "id": "tzeqxHEPC4UP"
      },
      "execution_count": null,
      "outputs": []
    },
    {
      "cell_type": "code",
      "source": [
        "len(train_loader)"
      ],
      "metadata": {
        "colab": {
          "base_uri": "https://localhost:8080/"
        },
        "id": "vtBKZPB7HT4t",
        "outputId": "a0c82d35-d323-4c04-aec3-d8ce6b8c65e3"
      },
      "execution_count": null,
      "outputs": [
        {
          "output_type": "execute_result",
          "data": {
            "text/plain": [
              "150"
            ]
          },
          "metadata": {},
          "execution_count": 14
        }
      ]
    },
    {
      "cell_type": "code",
      "source": [
        "32*150"
      ],
      "metadata": {
        "colab": {
          "base_uri": "https://localhost:8080/"
        },
        "id": "9_-pcHhgHYFl",
        "outputId": "f709fd76-71e8-4b10-c2c9-4d1987fac8e7"
      },
      "execution_count": null,
      "outputs": [
        {
          "output_type": "execute_result",
          "data": {
            "text/plain": [
              "4800"
            ]
          },
          "metadata": {},
          "execution_count": 15
        }
      ]
    },
    {
      "cell_type": "code",
      "source": [
        "class MyNN(nn.Module):\n",
        "  def __init__(self,num_features):\n",
        "    super().__init__()\n",
        "    self.model = nn.Sequential(\n",
        "        nn.Linear(num_features,128),\n",
        "        nn.ReLU(),\n",
        "        nn.Linear(128,64),\n",
        "        nn.ReLU(),\n",
        "        nn.Linear(64,10),\n",
        "    )\n",
        "\n",
        "  def forward(self,x):\n",
        "    return self.model(x)\n"
      ],
      "metadata": {
        "id": "3V3DNP2KEdBP"
      },
      "execution_count": null,
      "outputs": []
    },
    {
      "cell_type": "code",
      "source": [
        "epochs = 100\n",
        "learnr = 0.1"
      ],
      "metadata": {
        "id": "zK462LdVFi0u"
      },
      "execution_count": null,
      "outputs": []
    },
    {
      "cell_type": "code",
      "source": [
        "model = MyNN(x_train.shape[1])\n",
        "criterion = nn.CrossEntropyLoss()\n",
        "optimizer = optim.SGD(model.parameters(),lr = learnr)"
      ],
      "metadata": {
        "id": "OFnM-ceoFoTu"
      },
      "execution_count": null,
      "outputs": []
    },
    {
      "cell_type": "code",
      "source": [
        "for epoch in range(epochs):\n",
        "    total_epoch_loss = 0.0\n",
        "\n",
        "    for batch_features, batch_labels in train_loader:\n",
        "        # batch_features = batch_features.to(device)\n",
        "        # batch_labels = batch_labels.to(device)\n",
        "\n",
        "        outputs = model(batch_features)\n",
        "        loss = criterion(outputs, batch_labels)\n",
        "\n",
        "        optimizer.zero_grad()\n",
        "        loss.backward()\n",
        "        optimizer.step()\n",
        "\n",
        "        total_epoch_loss += loss.item()\n",
        "\n",
        "    avg_loss = total_epoch_loss / len(train_loader)\n",
        "    print(f'Epoch: {epoch + 1}, Avg Loss: {avg_loss:.4f}')\n"
      ],
      "metadata": {
        "colab": {
          "base_uri": "https://localhost:8080/"
        },
        "id": "SE_Jb3HMF8fP",
        "outputId": "d0f0528d-245c-440b-ee12-ebe6aa04da12"
      },
      "execution_count": null,
      "outputs": [
        {
          "output_type": "stream",
          "name": "stdout",
          "text": [
            "Epoch: 1, Avg Loss: 1.3294\n",
            "Epoch: 2, Avg Loss: 0.7639\n",
            "Epoch: 3, Avg Loss: 0.6496\n",
            "Epoch: 4, Avg Loss: 0.5794\n",
            "Epoch: 5, Avg Loss: 0.5347\n",
            "Epoch: 6, Avg Loss: 0.4955\n",
            "Epoch: 7, Avg Loss: 0.4641\n",
            "Epoch: 8, Avg Loss: 0.4471\n",
            "Epoch: 9, Avg Loss: 0.4212\n",
            "Epoch: 10, Avg Loss: 0.4033\n",
            "Epoch: 11, Avg Loss: 0.3901\n",
            "Epoch: 12, Avg Loss: 0.3697\n",
            "Epoch: 13, Avg Loss: 0.3599\n",
            "Epoch: 14, Avg Loss: 0.3333\n",
            "Epoch: 15, Avg Loss: 0.3255\n",
            "Epoch: 16, Avg Loss: 0.3095\n",
            "Epoch: 17, Avg Loss: 0.3000\n",
            "Epoch: 18, Avg Loss: 0.2855\n",
            "Epoch: 19, Avg Loss: 0.2788\n",
            "Epoch: 20, Avg Loss: 0.2802\n",
            "Epoch: 21, Avg Loss: 0.2520\n",
            "Epoch: 22, Avg Loss: 0.2490\n",
            "Epoch: 23, Avg Loss: 0.2336\n",
            "Epoch: 24, Avg Loss: 0.2330\n",
            "Epoch: 25, Avg Loss: 0.2224\n",
            "Epoch: 26, Avg Loss: 0.2166\n",
            "Epoch: 27, Avg Loss: 0.2129\n",
            "Epoch: 28, Avg Loss: 0.1912\n",
            "Epoch: 29, Avg Loss: 0.1877\n",
            "Epoch: 30, Avg Loss: 0.1946\n",
            "Epoch: 31, Avg Loss: 0.1914\n",
            "Epoch: 32, Avg Loss: 0.1895\n",
            "Epoch: 33, Avg Loss: 0.1766\n",
            "Epoch: 34, Avg Loss: 0.1653\n",
            "Epoch: 35, Avg Loss: 0.1688\n",
            "Epoch: 36, Avg Loss: 0.1744\n",
            "Epoch: 37, Avg Loss: 0.1465\n",
            "Epoch: 38, Avg Loss: 0.1614\n",
            "Epoch: 39, Avg Loss: 0.1520\n",
            "Epoch: 40, Avg Loss: 0.1366\n",
            "Epoch: 41, Avg Loss: 0.1382\n",
            "Epoch: 42, Avg Loss: 0.1347\n",
            "Epoch: 43, Avg Loss: 0.1164\n",
            "Epoch: 44, Avg Loss: 0.1083\n",
            "Epoch: 45, Avg Loss: 0.1435\n",
            "Epoch: 46, Avg Loss: 0.1120\n",
            "Epoch: 47, Avg Loss: 0.1450\n",
            "Epoch: 48, Avg Loss: 0.1074\n",
            "Epoch: 49, Avg Loss: 0.1012\n",
            "Epoch: 50, Avg Loss: 0.1092\n",
            "Epoch: 51, Avg Loss: 0.0879\n",
            "Epoch: 52, Avg Loss: 0.0888\n",
            "Epoch: 53, Avg Loss: 0.0791\n",
            "Epoch: 54, Avg Loss: 0.1028\n",
            "Epoch: 55, Avg Loss: 0.0837\n",
            "Epoch: 56, Avg Loss: 0.0762\n",
            "Epoch: 57, Avg Loss: 0.0761\n",
            "Epoch: 58, Avg Loss: 0.0869\n",
            "Epoch: 59, Avg Loss: 0.0764\n",
            "Epoch: 60, Avg Loss: 0.0699\n",
            "Epoch: 61, Avg Loss: 0.0591\n",
            "Epoch: 62, Avg Loss: 0.0713\n",
            "Epoch: 63, Avg Loss: 0.1030\n",
            "Epoch: 64, Avg Loss: 0.0523\n",
            "Epoch: 65, Avg Loss: 0.0825\n",
            "Epoch: 66, Avg Loss: 0.0812\n",
            "Epoch: 67, Avg Loss: 0.0693\n",
            "Epoch: 68, Avg Loss: 0.0626\n",
            "Epoch: 69, Avg Loss: 0.0496\n",
            "Epoch: 70, Avg Loss: 0.0989\n",
            "Epoch: 71, Avg Loss: 0.0448\n",
            "Epoch: 72, Avg Loss: 0.0491\n",
            "Epoch: 73, Avg Loss: 0.0383\n",
            "Epoch: 74, Avg Loss: 0.0438\n",
            "Epoch: 75, Avg Loss: 0.0358\n",
            "Epoch: 76, Avg Loss: 0.0320\n",
            "Epoch: 77, Avg Loss: 0.0330\n",
            "Epoch: 78, Avg Loss: 0.0267\n",
            "Epoch: 79, Avg Loss: 0.0637\n",
            "Epoch: 80, Avg Loss: 0.0373\n",
            "Epoch: 81, Avg Loss: 0.0494\n",
            "Epoch: 82, Avg Loss: 0.0260\n",
            "Epoch: 83, Avg Loss: 0.0234\n",
            "Epoch: 84, Avg Loss: 0.0638\n",
            "Epoch: 85, Avg Loss: 0.0401\n",
            "Epoch: 86, Avg Loss: 0.0177\n",
            "Epoch: 87, Avg Loss: 0.0203\n",
            "Epoch: 88, Avg Loss: 0.0805\n",
            "Epoch: 89, Avg Loss: 0.0753\n",
            "Epoch: 90, Avg Loss: 0.0269\n",
            "Epoch: 91, Avg Loss: 0.0187\n",
            "Epoch: 92, Avg Loss: 0.0134\n",
            "Epoch: 93, Avg Loss: 0.0113\n",
            "Epoch: 94, Avg Loss: 0.0546\n",
            "Epoch: 95, Avg Loss: 0.0280\n",
            "Epoch: 96, Avg Loss: 0.0643\n",
            "Epoch: 97, Avg Loss: 0.0548\n",
            "Epoch: 98, Avg Loss: 0.0808\n",
            "Epoch: 99, Avg Loss: 0.0193\n",
            "Epoch: 100, Avg Loss: 0.0112\n"
          ]
        }
      ]
    },
    {
      "cell_type": "code",
      "source": [
        "model.eval()"
      ],
      "metadata": {
        "colab": {
          "base_uri": "https://localhost:8080/"
        },
        "id": "sxk7BB8gG2Pd",
        "outputId": "e0341d1b-fe1e-4b4c-895b-4c63108be8b7"
      },
      "execution_count": null,
      "outputs": [
        {
          "output_type": "execute_result",
          "data": {
            "text/plain": [
              "MyNN(\n",
              "  (model): Sequential(\n",
              "    (0): Linear(in_features=784, out_features=128, bias=True)\n",
              "    (1): ReLU()\n",
              "    (2): Linear(in_features=128, out_features=64, bias=True)\n",
              "    (3): ReLU()\n",
              "    (4): Linear(in_features=64, out_features=10, bias=True)\n",
              "  )\n",
              ")"
            ]
          },
          "metadata": {},
          "execution_count": 21
        }
      ]
    },
    {
      "cell_type": "code",
      "source": [
        "total = 0\n",
        "correct = 0\n",
        "\n",
        "with torch.no_grad():\n",
        "  for batch_features,batch_labels in test_loader:\n"
      ],
      "metadata": {
        "id": "1TeFvPpdKFPP"
      },
      "execution_count": null,
      "outputs": []
    }
  ]
}